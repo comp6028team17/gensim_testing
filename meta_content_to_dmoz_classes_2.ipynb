{
 "cells": [
  {
   "cell_type": "code",
   "execution_count": 309,
   "metadata": {
    "collapsed": false
   },
   "outputs": [
    {
     "name": "stdout",
     "output_type": "stream",
     "text": [
      "The autoreload extension is already loaded. To reload it, use:\n",
      "  %reload_ext autoreload\n"
     ]
    }
   ],
   "source": [
    "%matplotlib inline\n",
    "%load_ext autoreload\n",
    "%autoreload 2"
   ]
  },
  {
   "cell_type": "code",
   "execution_count": 310,
   "metadata": {
    "collapsed": false
   },
   "outputs": [],
   "source": [
    "from lib import jsoncorpus, datastuff, analysis\n",
    "import gensim\n",
    "import traceback\n",
    "import numpy as np\n",
    "import matplotlib.pyplot as plt\n",
    "import sklearn.pipeline\n",
    "import sklearn.preprocessing\n",
    "import sklearn.cross_validation\n",
    "import sklearn.ensemble\n",
    "import sklearn.svm\n",
    "import sklearn.decomposition\n",
    "from lib.scikitComponents import *\n",
    "import itertools\n",
    "import collections"
   ]
  },
  {
   "cell_type": "markdown",
   "metadata": {},
   "source": [
    "# LDA"
   ]
  },
  {
   "cell_type": "markdown",
   "metadata": {},
   "source": [
    "## Data preprocessing\n",
    "\n",
    "Load all data, build a list of class labels using DMOZ top-level classes"
   ]
  },
  {
   "cell_type": "code",
   "execution_count": 311,
   "metadata": {
    "collapsed": false
   },
   "outputs": [
    {
     "name": "stdout",
     "output_type": "stream",
     "text": [
      "Done.\n"
     ]
    }
   ],
   "source": [
    "# Load in the previously created corpus and dictionary of scraped sites\n",
    "dictionary, corpus, meta_corpus, dmoz_data = jsoncorpus.load_or_create('docs/sites.jl', stemmed=True, prefix=\"stemmed_\")"
   ]
  },
  {
   "cell_type": "code",
   "execution_count": 312,
   "metadata": {
    "collapsed": false
   },
   "outputs": [],
   "source": [
    "# Link topics to URLs\n",
    "meta = list(zip(dmoz_data['urls'], dmoz_data['dmoz_categories']))\n",
    "# Build array of class labels\n",
    "classes, top_categories, dmoz_encoder = datastuff.encode_dmoz_categories(dmoz_data['dmoz_categories'])\n",
    "# Set up datasets\n",
    "X = dmoz_data['meta']\n",
    "y = classes"
   ]
  },
  {
   "cell_type": "markdown",
   "metadata": {},
   "source": [
    "## Define a classification pipeline for the corpus data\n",
    "\n",
    "The Pipeline() object chains together objects from the lib.scikitComponents file, so that they can be used as part of a scikit-learn classification pipeline"
   ]
  },
  {
   "cell_type": "markdown",
   "metadata": {},
   "source": [
    "Define a classifier (decision trees), and chain the preprocessing step to the classifier"
   ]
  },
  {
   "cell_type": "code",
   "execution_count": 313,
   "metadata": {
    "collapsed": false
   },
   "outputs": [],
   "source": [
    "# classifier = sklearn.svm.LinearSVC(C=1.0, class_weight=None, dual=True, fit_intercept=True,\n",
    "#      intercept_scaling=1, loss='squared_hinge', max_iter=1000,\n",
    "#      multi_class='ovr', penalty='l2', random_state=None, tol=0.0001,\n",
    "#      verbose=0)\n",
    "\n",
    "# classifier = sklearn.svm.SVC(C=1.0, cache_size=200, class_weight=None, coef0=0.0, degree=3,\n",
    "# gamma=0.0, kernel='rbf', max_iter=-1, probability=False, random_state=None,\n",
    "# shrinking=True, tol=0.001, verbose=False)\n",
    "\n",
    "classifier = sklearn.ensemble.ExtraTreesClassifier(random_state=0, n_estimators=100, oob_score=True, bootstrap=True, n_jobs=4)\n",
    "# Use stem=True to remove word suffixes\n",
    "builder = MetaMatrixBuilder()\n",
    "clf = sklearn.pipeline.Pipeline([\n",
    "    ('sanitiser', MetaSanitiser(stem=False, meta_selection_flags=13)),\n",
    "    ('matrix_builder', builder),\n",
    "    ('classification', classifier)])"
   ]
  },
  {
   "cell_type": "markdown",
   "metadata": {},
   "source": [
    "## Run the classifier\n",
    "\n",
    "We can use the meta corpus or the full body corpus here, just by replacing a single argument\n",
    "\n",
    "The data is split in to training and test sets, and then fit to the training set. The LDA model is generated ***only*** from the training set, not the testing set."
   ]
  },
  {
   "cell_type": "code",
   "execution_count": 314,
   "metadata": {
    "collapsed": false
   },
   "outputs": [
    {
     "name": "stdout",
     "output_type": "stream",
     "text": [
      "Accuracy: 0.38 (+/- 0.05)\n"
     ]
    }
   ],
   "source": [
    "scores = sklearn.cross_validation.cross_val_score(clf, X, classes, cv=5)\n",
    "print(\"Accuracy: %0.2f (+/- %0.2f)\" % (scores.mean(), scores.std() * 2))"
   ]
  },
  {
   "cell_type": "code",
   "execution_count": 315,
   "metadata": {
    "collapsed": false
   },
   "outputs": [],
   "source": [
    "X_train, X_test, y_train, y_test = sklearn.cross_validation.train_test_split(np.array(X), classes)"
   ]
  },
  {
   "cell_type": "markdown",
   "metadata": {},
   "source": [
    "## Do some analysis\n",
    "### Find the score for each category. \n",
    "\n",
    "Note that if the classifier assigned *random* categories, the score would be $\\frac{1}{\\textrm{num categories}}$. Instead, it is actually quite high in some cases, indicating a moderate amount of success (given how naive this is!)"
   ]
  },
  {
   "cell_type": "code",
   "execution_count": 316,
   "metadata": {
    "collapsed": false
   },
   "outputs": [
    {
     "name": "stdout",
     "output_type": "stream",
     "text": [
      "0.49\n",
      "             precision    recall  f1-score   support\n",
      "\n",
      "       arts       0.60      0.32      0.42        37\n",
      "   business       0.39      0.47      0.43        47\n",
      "  computers       0.63      0.67      0.65        54\n",
      "      games       0.53      0.39      0.45        23\n",
      "     health       0.37      0.38      0.37        29\n",
      "       home       0.73      0.53      0.61        36\n",
      "kids and teens       0.60      0.40      0.48        15\n",
      "       news       0.50      0.70      0.58        27\n",
      " recreation       0.64      0.30      0.41        46\n",
      "  reference       0.57      0.51      0.54        55\n",
      "   regional       0.00      0.00      0.00         4\n",
      "    science       0.54      0.33      0.41        57\n",
      "   shopping       0.64      0.38      0.47        24\n",
      "    society       0.48      0.28      0.35        47\n",
      "     sports       0.39      0.78      0.52        99\n",
      "\n",
      "avg / total       0.52      0.49      0.48       600\n",
      "\n"
     ]
    }
   ],
   "source": [
    "model = clf.fit(X_train, y_train)\n",
    "print model.score(X_test, y_test)\n",
    "predicted = model.predict(X_test)\n",
    "print sklearn.metrics.classification_report(dmoz_encoder.inverse_transform(y_test), dmoz_encoder.inverse_transform(predicted), dmoz_encoder.classes_)"
   ]
  },
  {
   "cell_type": "markdown",
   "metadata": {},
   "source": [
    "### Is there a correlation between test-set proportion and score?"
   ]
  },
  {
   "cell_type": "code",
   "execution_count": 317,
   "metadata": {
    "collapsed": false
   },
   "outputs": [
    {
     "data": {
      "image/png": "[encoded data removed]",
      "text/plain": [
       "<matplotlib.figure.Figure at 0x10b5bf290>"
      ]
     },
     "metadata": {},
     "output_type": "display_data"
    }
   ],
   "source": [
    "analysis.plot_proportion_investigation(predicted, dmoz_encoder, y_test)"
   ]
  },
  {
   "cell_type": "markdown",
   "metadata": {},
   "source": [
    "### Which things get mistaken for other things?"
   ]
  },
  {
   "cell_type": "code",
   "execution_count": 318,
   "metadata": {
    "collapsed": false
   },
   "outputs": [
    {
     "name": "stderr",
     "output_type": "stream",
     "text": [
      "/Library/Python/2.7/site-packages/IPython/kernel/__main__.py:2: RuntimeWarning: divide by zero encountered in log\n",
      "  from IPython.kernel.zmq import kernelapp as app\n"
     ]
    },
    {
     "data": {
      "image/png": "[encoded data removed]",
      "text/plain": [
       "<matplotlib.figure.Figure at 0x10b93da50>"
      ]
     },
     "metadata": {},
     "output_type": "display_data"
    },
    {
     "name": "stdout",
     "output_type": "stream",
     "text": [
      "[[12  1  1  1  0  1  1  1  1  5  0  0  0  2 11]\n",
      " [ 2 22  4  0  2  1  0  1  0  2  0  2  1  1  9]\n",
      " [ 0  3 36  0  1  1  0  2  1  0  0  1  0  1  8]\n",
      " [ 1  2  0  9  0  0  1  1  1  0  0  0  0  0  8]\n",
      " [ 0  4  1  1 11  0  0  1  1  0  0  1  0  1  8]\n",
      " [ 0  4  1  0  0 19  0  4  1  1  0  1  0  2  3]\n",
      " [ 0  1  1  0  2  0  6  0  0  1  0  0  0  0  4]\n",
      " [ 0  0  0  0  2  0  0 19  1  0  0  0  0  1  4]\n",
      " [ 1  2  0  2  3  2  1  1 14  0  0  1  1  0 18]\n",
      " [ 0  1  6  0  0  0  0  1  0 28  0  4  1  2 12]\n",
      " [ 0  0  0  0  0  0  0  0  0  0  0  1  0  0  3]\n",
      " [ 1  4  2  0  3  0  0  3  0  7  1 19  0  2 15]\n",
      " [ 2  2  4  0  2  1  0  0  0  0  0  0  9  0  4]\n",
      " [ 0  4  1  2  3  0  0  1  0  4  0  4  1 13 14]\n",
      " [ 1  6  0  2  1  1  1  3  2  1  0  1  1  2 77]]\n"
     ]
    }
   ],
   "source": [
    "cm = sklearn.metrics.confusion_matrix(dmoz_encoder.inverse_transform(y_test), dmoz_encoder.inverse_transform(predicted), dmoz_encoder.classes_)\n",
    "analysis.plot_confusion_matrix(np.log(cm), labels= dmoz_encoder.classes_)\n",
    "plt.show()\n",
    "print cm"
   ]
  },
  {
   "cell_type": "markdown",
   "metadata": {
    "collapsed": true
   },
   "source": [
    "## Searching over parameters using GridSearch...\n",
    "\n",
    "Which combination of keywords, description and key phrases should we use? Let's check every combination!"
   ]
  },
  {
   "cell_type": "markdown",
   "metadata": {},
   "source": [
    "- It seems that we want to use **description**, **keywords**, and **title**, but not **keyphrases** (flags = 13).\n",
    "- The worst single feature is **keyphrases**.\n",
    "- The single best feature is **keywords**\n",
    "- Adding **keyphrases** seems to decrease the accuracy!\n"
   ]
  },
  {
   "cell_type": "code",
   "execution_count": 334,
   "metadata": {
    "collapsed": false
   },
   "outputs": [
    {
     "data": {
      "text/plain": [
       "GridSearchCV(cv=None, error_score='raise',\n",
       "       estimator=Pipeline(steps=[('sanitiser', MetaSanitiser(meta_selection_flags=15, stem=False)), ('matrix_builder', MetaMatrixBuilder(min_word_count=4)), ('classification', ExtraTreesClassifier(bootstrap=True, class_weight=None, criterion='gini',\n",
       "           max_depth=None, max_features='auto', max_leaf_...estimators=100, n_jobs=4,\n",
       "           oob_score=True, random_state=0, verbose=0, warm_start=False))]),\n",
       "       fit_params={}, iid=True, loss_func=None, n_jobs=4,\n",
       "       param_grid={'sanitiser__meta_selection_flags': [1, 2, 4, 5, 7, 8, 9, 12, 13, 15]},\n",
       "       pre_dispatch='2*n_jobs', refit=True, score_func=None, scoring=None,\n",
       "       verbose=0)"
      ]
     },
     "execution_count": 334,
     "metadata": {},
     "output_type": "execute_result"
    }
   ],
   "source": [
    "# Gridsearch\n",
    "from sklearn.grid_search import GridSearchCV\n",
    "param_grid = dict(sanitiser__meta_selection_flags=[1, 2, 4, 5, 7, 8, 9, 12, 13, 15])\n",
    "search = GridSearchCV(clf, param_grid=param_grid, n_jobs=4)\n",
    "search.fit(X, classes)"
   ]
  },
  {
   "cell_type": "code",
   "execution_count": 335,
   "metadata": {
    "collapsed": false
   },
   "outputs": [
    {
     "name": "stdout",
     "output_type": "stream",
     "text": [
      "{'sanitiser__meta_selection_flags': 13}\n"
     ]
    }
   ],
   "source": [
    "print search.best_params_"
   ]
  },
  {
   "cell_type": "code",
   "execution_count": 336,
   "metadata": {
    "collapsed": false
   },
   "outputs": [
    {
     "data": {
      "text/plain": [
       "[mean: 0.28691, std: 0.00626, params: {'sanitiser__meta_selection_flags': 1},\n",
       " mean: 0.21726, std: 0.00568, params: {'sanitiser__meta_selection_flags': 2},\n",
       " mean: 0.28357, std: 0.00914, params: {'sanitiser__meta_selection_flags': 4},\n",
       " mean: 0.33862, std: 0.01369, params: {'sanitiser__meta_selection_flags': 5},\n",
       " mean: 0.33778, std: 0.00939, params: {'sanitiser__meta_selection_flags': 7},\n",
       " mean: 0.26647, std: 0.00674, params: {'sanitiser__meta_selection_flags': 8},\n",
       " mean: 0.33486, std: 0.00590, params: {'sanitiser__meta_selection_flags': 9},\n",
       " mean: 0.33361, std: 0.00670, params: {'sanitiser__meta_selection_flags': 12},\n",
       " mean: 0.38032, std: 0.00682, params: {'sanitiser__meta_selection_flags': 13},\n",
       " mean: 0.37823, std: 0.00223, params: {'sanitiser__meta_selection_flags': 15}]"
      ]
     },
     "execution_count": 336,
     "metadata": {},
     "output_type": "execute_result"
    }
   ],
   "source": [
    "search.grid_scores_"
   ]
  },
  {
   "cell_type": "code",
   "execution_count": null,
   "metadata": {
    "collapsed": true
   },
   "outputs": [],
   "source": []
  },
  {
   "cell_type": "code",
   "execution_count": 337,
   "metadata": {
    "collapsed": false
   },
   "outputs": [
    {
     "name": "stdout",
     "output_type": "stream",
     "text": [
      "Number of documents with no metadata: 173\n",
      "arts 14\n",
      "regional 0\n",
      "shopping 1\n",
      "business 10\n",
      "reference 12\n",
      "science 15\n",
      "computers 14\n",
      "recreation 10\n",
      "kids and teens 3\n",
      "sports 41\n",
      "society 14\n",
      "games 7\n",
      "health 13\n",
      "home 8\n",
      "news 11\n",
      "Meta-data-less documents get predicated as: \"sports\"\n"
     ]
    }
   ],
   "source": [
    "trf = MetaSanitiser(stem=False, meta_selection_flags=15).fit_transform(X)\n",
    "m = MetaMatrixBuilder(min_word_count=4)\n",
    "count = collections.defaultdict(int)\n",
    "for name, empty in zip(dmoz_encoder.inverse_transform(classes), np.sum(m.fit_transform(trf), axis=1)==0):\n",
    "    count[name] += 1 if empty else 0\n",
    "print \"Number of documents with no metadata: {}\".format(np.sum(np.sum(m.fit_transform(trf), axis=1)==0))\n",
    "for x in count:\n",
    "    print x, count[x]\n",
    "print \"Meta-data-less documents get predicated as: \\\"{}\\\"\".format(dmoz_encoder.inverse_transform(search.best_estimator_.predict([{}]))[0])"
   ]
  },
  {
   "cell_type": "markdown",
   "metadata": {
    "collapsed": true
   },
   "source": [
    "#### Separate pipelines for keywords/title seem to make no difference"
   ]
  },
  {
   "cell_type": "code",
   "execution_count": 340,
   "metadata": {
    "collapsed": false
   },
   "outputs": [
    {
     "name": "stdout",
     "output_type": "stream",
     "text": [
      "Accuracy: 0.38 (+/- 0.05)\n"
     ]
    }
   ],
   "source": [
    "feature_meta = sklearn.pipeline.Pipeline([\n",
    "    ('sanitiser', MetaSanitiser(stem=False, meta_selection_flags=5)),\n",
    "    ('matrix_builder', builder)])\n",
    "\n",
    "feature_title = sklearn.pipeline.Pipeline([\n",
    "    ('sanitiser', MetaSanitiser(stem=False, meta_selection_flags=8)),\n",
    "    ('matrix_builder', builder)])\n",
    "feature_union = sklearn.pipeline.FeatureUnion([\n",
    "    ('meta', feature_meta),\n",
    "    ('title', feature_title)])\n",
    "clf_union = sklearn.pipeline.Pipeline([\n",
    "    ('union', feature_union),\n",
    "    ('classifier', clf)])\n",
    "\n",
    "scores = sklearn.cross_validation.cross_val_score(clf, X, classes, cv=5)\n",
    "print(\"Accuracy: %0.2f (+/- %0.2f)\" % (scores.mean(), scores.std() * 2))"
   ]
  },
  {
   "cell_type": "code",
   "execution_count": null,
   "metadata": {
    "collapsed": true
   },
   "outputs": [],
   "source": []
  }
 ],
 "metadata": {
  "kernelspec": {
   "display_name": "Python 2",
   "language": "python",
   "name": "python2"
  },
  "language_info": {
   "codemirror_mode": {
    "name": "ipython",
    "version": 2
   },
   "file_extension": ".py",
   "mimetype": "text/x-python",
   "name": "python",
   "nbconvert_exporter": "python",
   "pygments_lexer": "ipython2",
   "version": "2.7.6"
  }
 },
 "nbformat": 4,
 "nbformat_minor": 0
}
