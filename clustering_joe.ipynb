{
 "cells": [
  {
   "cell_type": "code",
   "execution_count": 1,
   "metadata": {
    "collapsed": false
   },
   "outputs": [],
   "source": [
    "%matplotlib osx\n",
    "%load_ext autoreload\n",
    "%autoreload 2"
   ]
  },
  {
   "cell_type": "code",
   "execution_count": 2,
   "metadata": {
    "collapsed": false
   },
   "outputs": [],
   "source": [
    "from lib import jsoncorpus, datastuff, analysis\n",
    "import gensim\n",
    "import traceback\n",
    "import numpy as np\n",
    "import matplotlib.pyplot as plt\n",
    "import sklearn.pipeline\n",
    "import sklearn.preprocessing\n",
    "import sklearn.cross_validation\n",
    "import sklearn.ensemble\n",
    "import sklearn.svm\n",
    "import sklearn.decomposition\n",
    "import sklearn.cluster\n",
    "import sklearn.manifold\n",
    "from lib.scikitComponents import *\n",
    "import itertools\n",
    "import collections\n",
    "import sklearn.metrics"
   ]
  },
  {
   "cell_type": "markdown",
   "metadata": {},
   "source": [
    "# LDA"
   ]
  },
  {
   "cell_type": "markdown",
   "metadata": {},
   "source": [
    "## Data preprocessing"
   ]
  },
  {
   "cell_type": "code",
   "execution_count": 3,
   "metadata": {
    "collapsed": false,
    "scrolled": true
   },
   "outputs": [
    {
     "name": "stdout",
     "output_type": "stream",
     "text": [
      "Done.\n"
     ]
    }
   ],
   "source": [
    "# Load in the previously created corpus and dictionary of scraped sites\n",
    "dictionary, corpus, meta_corpus, dmoz_data = jsoncorpus.load_or_create('docs/sites.jl', stemmed=True, prefix=\"stemmed_\")"
   ]
  },
  {
   "cell_type": "code",
   "execution_count": 11,
   "metadata": {
    "collapsed": false
   },
   "outputs": [],
   "source": [
    "# Link topics to URLs\n",
    "meta = list(zip(dmoz_data['urls'], dmoz_data['dmoz_categories']))\n",
    "# Build array of class labels\n",
    "classes, top_categories, dmoz_encoder = datastuff.encode_dmoz_categories(dmoz_data['dmoz_categories'])\n",
    "# Set up datasets\n",
    "X = np.array(corpus)\n",
    "y = classes"
   ]
  },
  {
   "cell_type": "code",
   "execution_count": 12,
   "metadata": {
    "collapsed": false
   },
   "outputs": [],
   "source": [
    "#clustering = \n",
    "#clustering = sklearn.manifold.TSNE(init='pca')\n",
    "#clustering = sklearn.cluster.MeanShift()\n",
    "pipe = sklearn.pipeline.Pipeline([\n",
    "    ('tfidf', TFIDFModel(id2word=dictionary)),\n",
    "    ('matrixbuilder', TopicMatrixBuilder(len(dictionary.items()), keep_all=True)),\n",
    "    ('kmeans', sklearn.cluster.KMeans(n_clusters = 20)),\n",
    "#    ('tSNE-pca', sklearn.manifold.TSNE(init='pca')),\n",
    "    ('tSNE', sklearn.manifold.TSNE()),\n",
    "])\n",
    "# Clustering!\n",
    "transformed = pipe.fit_transform(X)\n",
    "#pipe.fit(X)"
   ]
  },
  {
   "cell_type": "code",
   "execution_count": 13,
   "metadata": {
    "collapsed": false
   },
   "outputs": [],
   "source": [
    "#transformed = pipe.transform(X)\n",
    "predicted = sklearn.pipeline.Pipeline(pipe.steps[:-1]).predict(X)"
   ]
  },
  {
   "cell_type": "code",
   "execution_count": 14,
   "metadata": {
    "collapsed": false
   },
   "outputs": [
    {
     "data": {
      "text/plain": [
       "array([u'arts', u'business', u'computers', u'games', u'health', u'home',\n",
       "       u'kids and teens', u'news', u'recreation', u'reference',\n",
       "       u'regional', u'science', u'shopping', u'society', u'sports'], \n",
       "      dtype='<U14')"
      ]
     },
     "execution_count": 14,
     "metadata": {},
     "output_type": "execute_result"
    }
   ],
   "source": [
    "dmoz_encoder.classes_"
   ]
  },
  {
   "cell_type": "code",
   "execution_count": 15,
   "metadata": {
    "collapsed": false
   },
   "outputs": [
    {
     "data": {
      "text/plain": [
       "<matplotlib.collections.PathCollection at 0x110ad3250>"
      ]
     },
     "execution_count": 15,
     "metadata": {},
     "output_type": "execute_result"
    }
   ],
   "source": [
    "fig = plt.figure()\n",
    "plt.scatter(transformed[:, 0], transformed[:, 1], c = predicted)"
   ]
  },
  {
   "cell_type": "code",
   "execution_count": 16,
   "metadata": {
    "collapsed": false,
    "scrolled": true
   },
   "outputs": [],
   "source": [
    "cols = ['c','g','b', 'r','y','k','m', 'c','g','b','r','y','k','m', 'c']\n",
    "markers = ['o']*7 + ['x']*7 + ['^']\n",
    "plt.hold(True)\n",
    "for x in range(max(y)+1):    \n",
    "    plt.scatter(transformed[y==x, 0], transformed[y==x, 1], c = cols[x], marker=markers[x])\n",
    "\n",
    "plt.legend(dmoz_encoder.classes_, loc='upper left')\n",
    "plt.hold(False)"
   ]
  },
  {
   "cell_type": "code",
   "execution_count": 17,
   "metadata": {
    "collapsed": false
   },
   "outputs": [],
   "source": [
    "#for i, x in enumerate(meta):\n",
    "#    if predicted[i] == 0:\n",
    "#        print meta[i]"
   ]
  },
  {
   "cell_type": "code",
   "execution_count": null,
   "metadata": {
    "collapsed": true
   },
   "outputs": [],
   "source": []
  },
  {
   "cell_type": "code",
   "execution_count": null,
   "metadata": {
    "collapsed": true
   },
   "outputs": [],
   "source": []
  }
 ],
 "metadata": {
  "kernelspec": {
   "display_name": "Python 2",
   "language": "python",
   "name": "python2"
  },
  "language_info": {
   "codemirror_mode": {
    "name": "ipython",
    "version": 2
   },
   "file_extension": ".py",
   "mimetype": "text/x-python",
   "name": "python",
   "nbconvert_exporter": "python",
   "pygments_lexer": "ipython2",
   "version": "2.7.6"
  }
 },
 "nbformat": 4,
 "nbformat_minor": 0
}
