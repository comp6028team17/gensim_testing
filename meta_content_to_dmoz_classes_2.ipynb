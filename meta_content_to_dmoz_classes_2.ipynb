{
 "cells": [
  {
   "cell_type": "code",
   "execution_count": 279,
   "metadata": {
    "collapsed": false
   },
   "outputs": [
    {
     "name": "stdout",
     "output_type": "stream",
     "text": [
      "The autoreload extension is already loaded. To reload it, use:\n",
      "  %reload_ext autoreload\n"
     ]
    }
   ],
   "source": [
    "%matplotlib inline\n",
    "%load_ext autoreload\n",
    "%autoreload 2"
   ]
  },
  {
   "cell_type": "code",
   "execution_count": 280,
   "metadata": {
    "collapsed": false
   },
   "outputs": [],
   "source": [
    "from lib import jsoncorpus, datastuff, analysis\n",
    "import gensim\n",
    "import traceback\n",
    "import numpy as np\n",
    "import matplotlib.pyplot as plt\n",
    "import sklearn.pipeline\n",
    "import sklearn.preprocessing\n",
    "import sklearn.cross_validation\n",
    "import sklearn.ensemble\n",
    "import sklearn.svm\n",
    "import sklearn.decomposition\n",
    "from lib.scikitComponents import *\n",
    "import itertools\n",
    "import collections"
   ]
  },
  {
   "cell_type": "markdown",
   "metadata": {},
   "source": [
    "# LDA"
   ]
  },
  {
   "cell_type": "markdown",
   "metadata": {},
   "source": [
    "## Data preprocessing\n",
    "\n",
    "Load all data, build a list of class labels using DMOZ top-level classes"
   ]
  },
  {
   "cell_type": "code",
   "execution_count": 281,
   "metadata": {
    "collapsed": false
   },
   "outputs": [
    {
     "name": "stdout",
     "output_type": "stream",
     "text": [
      "Done.\n"
     ]
    }
   ],
   "source": [
    "# Load in the previously created corpus and dictionary of scraped sites\n",
    "dictionary, corpus, meta_corpus, dmoz_data = jsoncorpus.load_or_create('docs/sites.jl', stemmed=True, prefix=\"stemmed_\")"
   ]
  },
  {
   "cell_type": "code",
   "execution_count": 282,
   "metadata": {
    "collapsed": false
   },
   "outputs": [],
   "source": [
    "# Link topics to URLs\n",
    "meta = list(zip(dmoz_data['urls'], dmoz_data['dmoz_categories']))\n",
    "# Build array of class labels\n",
    "classes, top_categories, dmoz_encoder = datastuff.encode_dmoz_categories(dmoz_data['dmoz_categories'])\n",
    "# Set up datasets\n",
    "X = dmoz_data['meta']\n",
    "y = classes"
   ]
  },
  {
   "cell_type": "markdown",
   "metadata": {},
   "source": [
    "## Define a classification pipeline for the corpus data\n",
    "\n",
    "The Pipeline() object chains together objects from the lib.scikitComponents file, so that they can be used as part of a scikit-learn classification pipeline"
   ]
  },
  {
   "cell_type": "markdown",
   "metadata": {},
   "source": [
    "Define a classifier (decision trees), and chain the preprocessing step to the classifier"
   ]
  },
  {
   "cell_type": "code",
   "execution_count": 283,
   "metadata": {
    "collapsed": false
   },
   "outputs": [],
   "source": [
    "# classifier = sklearn.svm.LinearSVC(C=1.0, class_weight=None, dual=True, fit_intercept=True,\n",
    "#      intercept_scaling=1, loss='squared_hinge', max_iter=1000,\n",
    "#      multi_class='ovr', penalty='l2', random_state=None, tol=0.0001,\n",
    "#      verbose=0)\n",
    "\n",
    "# classifier = sklearn.svm.SVC(C=1.0, cache_size=200, class_weight=None, coef0=0.0, degree=3,\n",
    "# gamma=0.0, kernel='rbf', max_iter=-1, probability=False, random_state=None,\n",
    "# shrinking=True, tol=0.001, verbose=False)\n",
    "\n",
    "classifier = sklearn.ensemble.ExtraTreesClassifier(random_state=0, n_estimators=100, oob_score=True, bootstrap=True, n_jobs=4)\n",
    "# Use stem=True to remove word suffixes\n",
    "builder = MetaMatrixBuilder()\n",
    "clf = sklearn.pipeline.Pipeline([\n",
    "    ('sanitiser', MetaSanitiser(stem=False, meta_selection_flags=7)),\n",
    "    ('matrix_builder', builder),\n",
    "    ('classification', classifier)])"
   ]
  },
  {
   "cell_type": "markdown",
   "metadata": {},
   "source": [
    "## Run the classifier\n",
    "\n",
    "We can use the meta corpus or the full body corpus here, just by replacing a single argument\n",
    "\n",
    "The data is split in to training and test sets, and then fit to the training set. The LDA model is generated ***only*** from the training set, not the testing set."
   ]
  },
  {
   "cell_type": "code",
   "execution_count": 284,
   "metadata": {
    "collapsed": false
   },
   "outputs": [
    {
     "name": "stdout",
     "output_type": "stream",
     "text": [
      "Accuracy: 0.35 (+/- 0.05)\n"
     ]
    }
   ],
   "source": [
    "scores = sklearn.cross_validation.cross_val_score(clf, X, classes, cv=5)\n",
    "print(\"Accuracy: %0.2f (+/- %0.2f)\" % (scores.mean(), scores.std() * 2))"
   ]
  },
  {
   "cell_type": "code",
   "execution_count": 285,
   "metadata": {
    "collapsed": false
   },
   "outputs": [],
   "source": [
    "X_train, X_test, y_train, y_test = sklearn.cross_validation.train_test_split(np.array(X), classes)"
   ]
  },
  {
   "cell_type": "markdown",
   "metadata": {},
   "source": [
    "## Do some analysis\n",
    "### Find the score for each category. \n",
    "\n",
    "Note that if the classifier assigned *random* categories, the score would be $\\frac{1}{\\textrm{num categories}}$. Instead, it is actually quite high in some cases, indicating a moderate amount of success (given how naive this is!)"
   ]
  },
  {
   "cell_type": "code",
   "execution_count": 286,
   "metadata": {
    "collapsed": false
   },
   "outputs": [
    {
     "name": "stdout",
     "output_type": "stream",
     "text": [
      "0.431666666667\n",
      "             precision    recall  f1-score   support\n",
      "\n",
      "       arts       0.58      0.32      0.42        34\n",
      "   business       0.50      0.40      0.44        48\n",
      "  computers       0.63      0.44      0.52        55\n",
      "      games       0.75      0.27      0.40        22\n",
      "     health       0.64      0.37      0.47        38\n",
      "       home       0.67      0.40      0.50        30\n",
      "kids and teens       1.00      0.14      0.24        22\n",
      "       news       0.48      0.32      0.39        37\n",
      " recreation       0.63      0.30      0.41        40\n",
      "  reference       0.45      0.25      0.32        40\n",
      "   regional       0.00      0.00      0.00         3\n",
      "    science       0.50      0.39      0.44        54\n",
      "   shopping       0.44      0.50      0.47        24\n",
      "    society       0.50      0.18      0.27        44\n",
      "     sports       0.31      0.87      0.46       109\n",
      "\n",
      "avg / total       0.53      0.43      0.42       600\n",
      "\n"
     ]
    }
   ],
   "source": [
    "model = clf.fit(X_train, y_train)\n",
    "print model.score(X_test, y_test)\n",
    "predicted = model.predict(X_test)\n",
    "print sklearn.metrics.classification_report(dmoz_encoder.inverse_transform(y_test), dmoz_encoder.inverse_transform(predicted), dmoz_encoder.classes_)"
   ]
  },
  {
   "cell_type": "markdown",
   "metadata": {},
   "source": [
    "### Is there a correlation between test-set proportion and score?"
   ]
  },
  {
   "cell_type": "code",
   "execution_count": 287,
   "metadata": {
    "collapsed": false
   },
   "outputs": [
    {
     "data": {
      "image/png": "[encoded data removed]",
      "text/plain": [
       "<matplotlib.figure.Figure at 0x1122af6d0>"
      ]
     },
     "metadata": {},
     "output_type": "display_data"
    }
   ],
   "source": [
    "analysis.plot_proportion_investigation(predicted, dmoz_encoder, y_test)"
   ]
  },
  {
   "cell_type": "markdown",
   "metadata": {},
   "source": [
    "### Which things get mistaken for other things?"
   ]
  },
  {
   "cell_type": "code",
   "execution_count": 288,
   "metadata": {
    "collapsed": false
   },
   "outputs": [
    {
     "name": "stderr",
     "output_type": "stream",
     "text": [
      "/Library/Python/2.7/site-packages/IPython/kernel/__main__.py:2: RuntimeWarning: divide by zero encountered in log\n",
      "  from IPython.kernel.zmq import kernelapp as app\n"
     ]
    },
    {
     "data": {
      "image/png": "[encoded data removed]",
      "text/plain": [
       "<matplotlib.figure.Figure at 0x10fb35d10>"
      ]
     },
     "metadata": {},
     "output_type": "display_data"
    },
    {
     "name": "stdout",
     "output_type": "stream",
     "text": [
      "[[11  1  3  0  1  0  0  1  0  0  0  1  0  3 13]\n",
      " [ 1 19  2  0  0  0  0  2  0  0  0  0  4  0 20]\n",
      " [ 0  2 24  0  0  0  0  0  0  0  0  1  0  1 27]\n",
      " [ 0  0  0  6  1  0  0  0  0  0  0  0  1  0 14]\n",
      " [ 0  0  0  0 14  0  0  2  1  0  0  1  0  2 18]\n",
      " [ 0  3  0  0  0 12  0  2  0  0  0  0  3  0 10]\n",
      " [ 1  1  0  2  3  1  3  1  1  2  0  1  0  0  6]\n",
      " [ 3  1  0  0  0  0  0 12  0  0  0  1  1  0 19]\n",
      " [ 0  3  2  0  1  3  0  0 12  1  0  3  0  0 15]\n",
      " [ 2  1  0  0  0  0  0  1  0 10  0  5  2  0 19]\n",
      " [ 0  0  0  0  0  0  0  0  0  1  0  0  0  0  2]\n",
      " [ 0  3  4  0  0  0  0  1  0  2  0 21  2  1 20]\n",
      " [ 0  3  1  0  0  1  0  0  0  1  0  1 12  0  5]\n",
      " [ 1  0  1  0  2  1  0  0  1  4  0  6  0  8 20]\n",
      " [ 0  1  1  0  0  0  0  3  4  1  0  1  2  1 95]]\n"
     ]
    }
   ],
   "source": [
    "cm = sklearn.metrics.confusion_matrix(dmoz_encoder.inverse_transform(y_test), dmoz_encoder.inverse_transform(predicted), dmoz_encoder.classes_)\n",
    "analysis.plot_confusion_matrix(np.log(cm), labels= dmoz_encoder.classes_)\n",
    "plt.show()\n",
    "print cm"
   ]
  },
  {
   "cell_type": "markdown",
   "metadata": {
    "collapsed": true
   },
   "source": [
    "## Searching over parameters using GridSearch...\n",
    "\n",
    "Which combination of keywords, description and key phrases should we use? Let's check every combination!"
   ]
  },
  {
   "cell_type": "markdown",
   "metadata": {},
   "source": [
    "- It seems that we want to use description and keywords, not keyphrases (flags = 5 = 4|1).\n",
    "- The worst single feature is *keyphrases*, keywords is marginally better than description\n",
    "- Adding *keyphrases* barely changes the accuracy.\n"
   ]
  },
  {
   "cell_type": "code",
   "execution_count": 289,
   "metadata": {
    "collapsed": false
   },
   "outputs": [
    {
     "name": "stdout",
     "output_type": "stream",
     "text": [
      "Fitting 3 folds for each of 7 candidates, totalling 21 fits\n",
      "[CV] sanitiser__meta_selection_flags=1 ...............................\n",
      "[CV] ...... sanitiser__meta_selection_flags=1, score=0.293168 -   3.9s\n",
      "[CV] sanitiser__meta_selection_flags=1 ...............................\n",
      "[CV] ...... sanitiser__meta_selection_flags=1, score=0.289111 -   2.6s"
     ]
    },
    {
     "name": "stderr",
     "output_type": "stream",
     "text": [
      "[Parallel(n_jobs=1)]: Done   1 jobs       | elapsed:    3.9s\n",
      "[Parallel(n_jobs=1)]: Done   2 jobs       | elapsed:    6.5s\n"
     ]
    },
    {
     "name": "stdout",
     "output_type": "stream",
     "text": [
      "\n",
      "[CV] sanitiser__meta_selection_flags=1 ...............................\n",
      "[CV] ...... sanitiser__meta_selection_flags=1, score=0.278338 -   2.5s\n",
      "[CV] sanitiser__meta_selection_flags=2 ...............................\n",
      "[CV] ...... sanitiser__meta_selection_flags=2, score=0.213665 -   0.8s\n",
      "[CV] sanitiser__meta_selection_flags=2 ...............................\n",
      "[CV] ...... sanitiser__meta_selection_flags=2, score=0.225282 -   0.6s\n",
      "[CV] sanitiser__meta_selection_flags=2 ...............................\n",
      "[CV] ...... sanitiser__meta_selection_flags=2, score=0.212846 -   0.8s\n",
      "[CV] sanitiser__meta_selection_flags=3 ...............................\n",
      "[CV] ...... sanitiser__meta_selection_flags=3, score=0.286957 -   3.3s\n",
      "[CV] sanitiser__meta_selection_flags=3 ...............................\n",
      "[CV] ...... sanitiser__meta_selection_flags=3, score=0.291615 -   3.3s"
     ]
    },
    {
     "name": "stderr",
     "output_type": "stream",
     "text": [
      "[Parallel(n_jobs=1)]: Done   5 jobs       | elapsed:   10.4s\n",
      "[Parallel(n_jobs=1)]: Done   8 jobs       | elapsed:   17.9s\n"
     ]
    },
    {
     "name": "stdout",
     "output_type": "stream",
     "text": [
      "\n",
      "[CV] sanitiser__meta_selection_flags=3 ...............................\n",
      "[CV] ...... sanitiser__meta_selection_flags=3, score=0.279597 -   3.2s\n",
      "[CV] sanitiser__meta_selection_flags=4 ...............................\n",
      "[CV] ...... sanitiser__meta_selection_flags=4, score=0.294410 -   1.4s\n",
      "[CV] sanitiser__meta_selection_flags=4 ...............................\n",
      "[CV] ...... sanitiser__meta_selection_flags=4, score=0.284105 -   1.5s\n",
      "[CV] sanitiser__meta_selection_flags=4 ...............................\n",
      "[CV] ...... sanitiser__meta_selection_flags=4, score=0.272040 -   1.6s\n",
      "[CV] sanitiser__meta_selection_flags=5 ...............................\n",
      "[CV] ...... sanitiser__meta_selection_flags=5, score=0.327950 -   3.5s\n",
      "[CV] sanitiser__meta_selection_flags=5 ...............................\n",
      "[CV] ...... sanitiser__meta_selection_flags=5, score=0.357947 -   3.6s\n",
      "[CV] sanitiser__meta_selection_flags=5 ...............................\n",
      "[CV] ...... sanitiser__meta_selection_flags=5, score=0.329975 -   3.7s\n",
      "[CV] sanitiser__meta_selection_flags=6 ...............................\n",
      "[CV] ...... sanitiser__meta_selection_flags=6, score=0.311801 -   2.3s\n",
      "[CV] sanitiser__meta_selection_flags=6 ...............................\n",
      "[CV] ...... sanitiser__meta_selection_flags=6, score=0.321652 -   2.1s\n",
      "[CV] sanitiser__meta_selection_flags=6 ...............................\n",
      "[CV] ...... sanitiser__meta_selection_flags=6, score=0.299748 -   2.0s"
     ]
    },
    {
     "name": "stderr",
     "output_type": "stream",
     "text": [
      "[Parallel(n_jobs=1)]: Done  13 jobs       | elapsed:   29.2s\n",
      "[Parallel(n_jobs=1)]: Done  18 jobs       | elapsed:   43.0s\n"
     ]
    },
    {
     "name": "stdout",
     "output_type": "stream",
     "text": [
      "\n",
      "[CV] sanitiser__meta_selection_flags=7 ...............................\n",
      "[CV] ...... sanitiser__meta_selection_flags=7, score=0.327950 -   4.2s\n",
      "[CV] sanitiser__meta_selection_flags=7 ...............................\n",
      "[CV] ...... sanitiser__meta_selection_flags=7, score=0.350438 -   5.0s\n",
      "[CV] sanitiser__meta_selection_flags=7 ...............................\n",
      "[CV] ...... sanitiser__meta_selection_flags=7, score=0.335013 -   4.6s\n"
     ]
    },
    {
     "name": "stderr",
     "output_type": "stream",
     "text": [
      "[Parallel(n_jobs=1)]: Done  21 out of  21 | elapsed:   56.8s finished\n"
     ]
    },
    {
     "data": {
      "text/plain": [
       "GridSearchCV(cv=None, error_score='raise',\n",
       "       estimator=Pipeline(steps=[('sanitiser', MetaSanitiser(meta_selection_flags=7, stem=False)), ('matrix_builder', MetaMatrixBuilder(min_word_count=4)), ('classification', ExtraTreesClassifier(bootstrap=True, class_weight=None, criterion='gini',\n",
       "           max_depth=None, max_features='auto', max_leaf_n...estimators=100, n_jobs=4,\n",
       "           oob_score=True, random_state=0, verbose=0, warm_start=False))]),\n",
       "       fit_params={}, iid=True, loss_func=None, n_jobs=1,\n",
       "       param_grid={'sanitiser__meta_selection_flags': [1, 2, 3, 4, 5, 6, 7]},\n",
       "       pre_dispatch='2*n_jobs', refit=True, score_func=None, scoring=None,\n",
       "       verbose=10)"
      ]
     },
     "execution_count": 289,
     "metadata": {},
     "output_type": "execute_result"
    }
   ],
   "source": [
    "# Gridsearch\n",
    "from sklearn.grid_search import GridSearchCV\n",
    "param_grid = dict(sanitiser__meta_selection_flags=[1, 2, 3, 4, 5, 6, 7])\n",
    "search = GridSearchCV(clf, param_grid=param_grid, verbose = 10)\n",
    "search.fit(X, classes)"
   ]
  },
  {
   "cell_type": "code",
   "execution_count": 290,
   "metadata": {
    "collapsed": false
   },
   "outputs": [
    {
     "name": "stdout",
     "output_type": "stream",
     "text": [
      "{'sanitiser__meta_selection_flags': 5}\n"
     ]
    }
   ],
   "source": [
    "print search.best_params_"
   ]
  },
  {
   "cell_type": "code",
   "execution_count": 293,
   "metadata": {
    "collapsed": false
   },
   "outputs": [
    {
     "data": {
      "text/plain": [
       "[mean: 0.28691, std: 0.00626, params: {'sanitiser__meta_selection_flags': 1},\n",
       " mean: 0.21726, std: 0.00568, params: {'sanitiser__meta_selection_flags': 2},\n",
       " mean: 0.28607, std: 0.00495, params: {'sanitiser__meta_selection_flags': 3},\n",
       " mean: 0.28357, std: 0.00914, params: {'sanitiser__meta_selection_flags': 4},\n",
       " mean: 0.33862, std: 0.01369, params: {'sanitiser__meta_selection_flags': 5},\n",
       " mean: 0.31109, std: 0.00896, params: {'sanitiser__meta_selection_flags': 6},\n",
       " mean: 0.33778, std: 0.00939, params: {'sanitiser__meta_selection_flags': 7}]"
      ]
     },
     "execution_count": 293,
     "metadata": {},
     "output_type": "execute_result"
    }
   ],
   "source": [
    "search.grid_scores_"
   ]
  },
  {
   "cell_type": "code",
   "execution_count": null,
   "metadata": {
    "collapsed": true
   },
   "outputs": [],
   "source": []
  },
  {
   "cell_type": "code",
   "execution_count": 292,
   "metadata": {
    "collapsed": false
   },
   "outputs": [
    {
     "name": "stdout",
     "output_type": "stream",
     "text": [
      "Number of documents with no metadata: 859\n",
      "arts 56\n",
      "regional 4\n",
      "shopping 20\n",
      "business 53\n",
      "reference 75\n",
      "science 81\n",
      "computers 89\n",
      "recreation 47\n",
      "kids and teens 20\n",
      "sports 156\n",
      "society 73\n",
      "games 39\n",
      "health 58\n",
      "home 34\n",
      "news 54\n"
     ]
    }
   ],
   "source": [
    "trf = MetaSanitiser(stem=False, meta_selection_flags=7).fit_transform(X)\n",
    "m = MetaMatrixBuilder(min_word_count=4)\n",
    "count = collections.defaultdict(int)\n",
    "for name, empty in zip(dmoz_encoder.inverse_transform(classes), np.sum(m.fit_transform(trf), axis=1)==0):\n",
    "    count[name] += 1 if empty else 0\n",
    "print \"Number of documents with no metadata: {}\".format(np.sum(np.sum(m.fit_transform(trf), axis=1)==0))\n",
    "for x in count:\n",
    "    print x, count[x]"
   ]
  },
  {
   "cell_type": "code",
   "execution_count": null,
   "metadata": {
    "collapsed": true
   },
   "outputs": [],
   "source": []
  },
  {
   "cell_type": "code",
   "execution_count": null,
   "metadata": {
    "collapsed": true
   },
   "outputs": [],
   "source": []
  },
  {
   "cell_type": "code",
   "execution_count": null,
   "metadata": {
    "collapsed": true
   },
   "outputs": [],
   "source": []
  },
  {
   "cell_type": "code",
   "execution_count": null,
   "metadata": {
    "collapsed": true
   },
   "outputs": [],
   "source": []
  }
 ],
 "metadata": {
  "kernelspec": {
   "display_name": "Python 2",
   "language": "python",
   "name": "python2"
  },
  "language_info": {
   "codemirror_mode": {
    "name": "ipython",
    "version": 2
   },
   "file_extension": ".py",
   "mimetype": "text/x-python",
   "name": "python",
   "nbconvert_exporter": "python",
   "pygments_lexer": "ipython2",
   "version": "2.7.6"
  }
 },
 "nbformat": 4,
 "nbformat_minor": 0
}
