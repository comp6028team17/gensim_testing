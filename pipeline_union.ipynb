{
 "cells": [
  {
   "cell_type": "code",
   "execution_count": 1,
   "metadata": {
    "collapsed": false
   },
   "outputs": [],
   "source": [
    "%matplotlib inline\n",
    "%load_ext autoreload\n",
    "%autoreload 2"
   ]
  },
  {
   "cell_type": "code",
   "execution_count": 52,
   "metadata": {
    "collapsed": false
   },
   "outputs": [],
   "source": [
    "from lib import jsoncorpus, datastuff, analysis\n",
    "import gensim\n",
    "import traceback\n",
    "import numpy as np\n",
    "import matplotlib.pyplot as plt\n",
    "from sklearn.pipeline import Pipeline, FeatureUnion\n",
    "import sklearn.preprocessing\n",
    "import sklearn.cross_validation\n",
    "import sklearn.ensemble\n",
    "import sklearn.svm\n",
    "import sklearn.decomposition\n",
    "from lib.scikitComponents import *\n",
    "import itertools\n",
    "import collections"
   ]
  },
  {
   "cell_type": "markdown",
   "metadata": {},
   "source": [
    "# LDA"
   ]
  },
  {
   "cell_type": "markdown",
   "metadata": {},
   "source": [
    "## Data preprocessing"
   ]
  },
  {
   "cell_type": "code",
   "execution_count": 20,
   "metadata": {
    "collapsed": false
   },
   "outputs": [
    {
     "name": "stdout",
     "output_type": "stream",
     "text": [
      "Done.\n"
     ]
    }
   ],
   "source": [
    "# Load in the previously created corpus and dictionary of scraped sites\n",
    "dictionary, corpus, meta_corpus, dmoz_data = jsoncorpus.load_or_create('docs/sites.jl')"
   ]
  },
  {
   "cell_type": "code",
   "execution_count": 32,
   "metadata": {
    "collapsed": false
   },
   "outputs": [],
   "source": [
    "X = zip(dmoz_data[\"meta\"], list(corpus))"
   ]
  },
  {
   "cell_type": "code",
   "execution_count": 22,
   "metadata": {
    "collapsed": false
   },
   "outputs": [],
   "source": [
    "# Link topics to URLs\n",
    "meta = list(zip(dmoz_data['urls'], dmoz_data['dmoz_categories']))"
   ]
  },
  {
   "cell_type": "markdown",
   "metadata": {},
   "source": [
    "## Define a classification pipeline for the corpus data\n",
    "\n",
    "The Pipeline() object chains together objects from the lib.scikitComponents file, so that they can be used as part of a scikit-learn classification pipeline"
   ]
  },
  {
   "cell_type": "markdown",
   "metadata": {},
   "source": [
    "Define a classifier (decision trees), and chain the preprocessing step to the classifier"
   ]
  },
  {
   "cell_type": "code",
   "execution_count": 40,
   "metadata": {
    "collapsed": false
   },
   "outputs": [],
   "source": [
    "# classifier = sklearn.svm.LinearSVC(C=1.0, class_weight=None, dual=True, fit_intercept=True,\n",
    "#      intercept_scaling=1, loss='squared_hinge', max_iter=1000,\n",
    "#      multi_class='ovr', penalty='l2', random_state=None, tol=0.0001,\n",
    "#      verbose=0)\n",
    "\n",
    "# classifier = sklearn.svm.SVC(C=1.0, cache_size=200, class_weight=None, coef0=0.0, degree=3,\n",
    "# gamma=0.0, kernel='rbf', max_iter=-1, probability=False, random_state=None,\n",
    "# shrinking=True, tol=0.001, verbose=False)\n",
    "\n",
    "classes, top_categories, dmoz_encoder = datastuff.encode_dmoz_categories(dmoz_data['dmoz_categories'])\n",
    "\n",
    "num_lda_topics = 15\n",
    "meta_pipeline = Pipeline([\n",
    "    ('meta_picker', ItemPicker(0)),\n",
    "    ('matrix_builder', MetaMatrixBuilder())\n",
    "])\n",
    "body_pipeline = Pipeline([\n",
    "    ('meta_picker', ItemPicker(1)),\n",
    "    ('lda_model', LDAModel(dictionary, num_lda_topics)),\n",
    "    ('matrix_builder', TopicMatrixBuilder(num_lda_topics))\n",
    "])\n",
    "classifier = sklearn.ensemble.ExtraTreesClassifier(random_state=0, n_estimators=100, oob_score=True, bootstrap=True, n_jobs=4)\n",
    "\n",
    "union = FeatureUnion([(\"meta\", meta_pipeline), (\"body\", body_pipeline)])\n",
    "\n",
    "clf = Pipeline([('features', union), ('classifier', classifier)])\n"
   ]
  },
  {
   "cell_type": "markdown",
   "metadata": {},
   "source": [
    "## Run the classifier\n",
    "\n",
    "We can use the meta corpus or the full body corpus here, just by replacing a single argument\n",
    "\n",
    "The data is split in to training and test sets, and then fit to the training set. The LDA model is generated ***only*** from the training set, not the testing set."
   ]
  },
  {
   "cell_type": "code",
   "execution_count": 41,
   "metadata": {
    "collapsed": false
   },
   "outputs": [
    {
     "name": "stdout",
     "output_type": "stream",
     "text": [
      "Accuracy: 0.38 (+/- 0.04)\n"
     ]
    }
   ],
   "source": [
    "scores = sklearn.cross_validation.cross_val_score(clf, X, classes, cv=5)\n",
    "print(\"Accuracy: %0.2f (+/- %0.2f)\" % (scores.mean(), scores.std() * 2))"
   ]
  },
  {
   "cell_type": "code",
   "execution_count": 43,
   "metadata": {
    "collapsed": false
   },
   "outputs": [
    {
     "name": "stdout",
     "output_type": "stream",
     "text": [
      "0.461666666667\n"
     ]
    }
   ],
   "source": [
    "X_train, X_test, y_train, y_test = sklearn.cross_validation.train_test_split(np.array(X), classes)\n",
    "model = clf.fit(X_train, y_train)\n",
    "print model.score(X_test, y_test)"
   ]
  },
  {
   "cell_type": "markdown",
   "metadata": {},
   "source": [
    "### Find the score for each category. \n",
    "\n",
    "Note that if the classifier assigned *random* categories, the score would be $\\frac{1}{\\textrm{num categories}}$. Instead, it is actually quite high in some cases, indicating a moderate amount of success (given how naive this is!)"
   ]
  },
  {
   "cell_type": "code",
   "execution_count": 58,
   "metadata": {
    "collapsed": false
   },
   "outputs": [
    {
     "name": "stdout",
     "output_type": "stream",
     "text": [
      "             precision    recall  f1-score   support\n",
      "\n",
      "       arts       0.31      0.35      0.33        34\n",
      "   business       0.39      0.50      0.44        48\n",
      "  computers       0.39      0.59      0.47        49\n",
      "      games       0.60      0.33      0.43        18\n",
      "     health       0.44      0.50      0.47        34\n",
      "       home       0.41      0.50      0.45        32\n",
      "kids and teens       0.33      0.10      0.15        10\n",
      "       news       0.58      0.50      0.54        36\n",
      " recreation       0.35      0.14      0.20        44\n",
      "  reference       0.62      0.30      0.40        61\n",
      "   regional       0.00      0.00      0.00         2\n",
      "    science       0.41      0.38      0.40        55\n",
      "   shopping       0.67      0.62      0.64        26\n",
      "    society       0.29      0.11      0.16        53\n",
      "     sports       0.55      0.90      0.68        98\n",
      "\n",
      "avg / total       0.46      0.46      0.43       600\n",
      "\n"
     ]
    },
    {
     "name": "stderr",
     "output_type": "stream",
     "text": [
      "/Library/Python/2.7/site-packages/IPython/kernel/__main__.py:4: RuntimeWarning: divide by zero encountered in log\n"
     ]
    },
    {
     "data": {
      "image/png": "[encoded data removed]",
      "text/plain": [
       "<matplotlib.figure.Figure at 0x1092374d0>"
      ]
     },
     "metadata": {},
     "output_type": "display_data"
    },
    {
     "name": "stdout",
     "output_type": "stream",
     "text": [
      "[[12  3  4  0  0  1  0  2  0  4  0  0  0  2  6]\n",
      " [ 1 24  5  0  4  3  0  0  0  1  0  6  2  0  2]\n",
      " [ 1  7 29  0  1  0  0  0  0  2  0  3  1  1  4]\n",
      " [ 1  0  0  6  0  1  0  2  0  0  0  0  0  0  8]\n",
      " [ 0  4  4  0 17  3  0  1  1  0  0  0  0  2  2]\n",
      " [ 0  2  3  0  2 16  0  2  0  0  0  2  3  1  1]\n",
      " [ 1  1  1  1  2  1  1  0  1  0  0  1  0  0  0]\n",
      " [ 3  2  0  0  0  1  0 18  2  0  0  3  0  1  6]\n",
      " [ 1  2  6  2  2  4  1  1  6  1  0  0  1  1 16]\n",
      " [ 7  3  5  0  2  1  0  0  2 18  1  4  0  5 13]\n",
      " [ 0  0  0  0  0  1  0  1  0  0  0  0  0  0  0]\n",
      " [ 1  9 11  0  3  1  0  1  0  2  0 21  0  2  4]\n",
      " [ 2  0  2  0  0  3  0  0  1  0  0  0 16  0  2]\n",
      " [ 9  3  3  0  6  1  0  2  2  1  0 10  1  6  9]\n",
      " [ 0  1  1  1  0  2  1  1  2  0  0  1  0  0 88]]\n"
     ]
    }
   ],
   "source": [
    "predicted = model.predict(X_test)\n",
    "print sklearn.metrics.classification_report(dmoz_encoder.inverse_transform(y_test), dmoz_encoder.inverse_transform(predicted), dmoz_encoder.classes_)\n",
    "cm = sklearn.metrics.confusion_matrix(dmoz_encoder.inverse_transform(y_test), dmoz_encoder.inverse_transform(predicted), dmoz_encoder.classes_)\n",
    "analysis.plot_confusion_matrix(np.log(cm), labels= dmoz_encoder.classes_)\n",
    "plt.show()\n",
    "print cm"
   ]
  },
  {
   "cell_type": "code",
   "execution_count": null,
   "metadata": {
    "collapsed": true
   },
   "outputs": [],
   "source": []
  }
 ],
 "metadata": {
  "kernelspec": {
   "display_name": "Python 2",
   "language": "python",
   "name": "python2"
  },
  "language_info": {
   "codemirror_mode": {
    "name": "ipython",
    "version": 2
   },
   "file_extension": ".py",
   "mimetype": "text/x-python",
   "name": "python",
   "nbconvert_exporter": "python",
   "pygments_lexer": "ipython2",
   "version": "2.7.6"
  }
 },
 "nbformat": 4,
 "nbformat_minor": 0
}
