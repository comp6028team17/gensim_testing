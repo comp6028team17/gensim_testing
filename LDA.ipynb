{
 "cells": [
  {
   "cell_type": "code",
   "execution_count": 85,
   "metadata": {
    "collapsed": false
   },
   "outputs": [
    {
     "name": "stdout",
     "output_type": "stream",
     "text": [
      "The autoreload extension is already loaded. To reload it, use:\n",
      "  %reload_ext autoreload\n"
     ]
    }
   ],
   "source": [
    "%matplotlib inline\n",
    "%load_ext autoreload\n",
    "%autoreload 2"
   ]
  },
  {
   "cell_type": "code",
   "execution_count": 86,
   "metadata": {
    "collapsed": false
   },
   "outputs": [],
   "source": [
    "from lib import jsoncorpus, datastuff\n",
    "import gensim\n",
    "import traceback\n",
    "import numpy as np\n",
    "import matplotlib.pyplot as plt\n",
    "import sklearn.svm\n",
    "import sklearn.feature_extraction"
   ]
  },
  {
   "cell_type": "markdown",
   "metadata": {},
   "source": [
    "# LDA"
   ]
  },
  {
   "cell_type": "code",
   "execution_count": 102,
   "metadata": {
    "collapsed": false
   },
   "outputs": [
    {
     "name": "stdout",
     "output_type": "stream",
     "text": [
      "Done.\n"
     ]
    }
   ],
   "source": [
    "# Load in the previously created corpus and dictionary of scraped sites\n",
    "dictionary, corpus, meta_corpus, dmoz_data = jsoncorpus.load_or_create('docs/sites.jl')"
   ]
  },
  {
   "cell_type": "code",
   "execution_count": 103,
   "metadata": {
    "collapsed": false
   },
   "outputs": [],
   "source": [
    "# Build a list of all topics\n",
    "alltopics = set(tuple(t) for t in dmoz_data['topics'])\n",
    "# Build a list of all top-level topics\n",
    "toptopics = set(topic[0] for topic in dmoz_data['topics'])\n",
    "# Link topics to URLs\n",
    "meta = list(zip(dmoz_data['urls'], dmoz_data['topics']))\n"
   ]
  },
  {
   "cell_type": "code",
   "execution_count": 104,
   "metadata": {
    "collapsed": false
   },
   "outputs": [],
   "source": [
    "# Generate LDA Model of document bodies\n",
    "model = gensim.models.ldamodel.LdaModel(corpus=corpus, id2word=dictionary, num_topics = len(alltopics), passes = 1, chunksize = 100)"
   ]
  },
  {
   "cell_type": "code",
   "execution_count": 105,
   "metadata": {
    "collapsed": true
   },
   "outputs": [],
   "source": [
    "# Generate LDA Model of metadata\n",
    "meta_model = gensim.models.ldamodel.LdaModel(corpus=meta_corpus, id2word=dictionary, num_topics = len(toptopics), passes = 1, chunksize = 100)"
   ]
  },
  {
   "cell_type": "code",
   "execution_count": 106,
   "metadata": {
    "collapsed": false
   },
   "outputs": [
    {
     "name": "stdout",
     "output_type": "stream",
     "text": [
      "0.046*design + 0.027*drilling + 0.019*auctions + 0.018*awards + 0.011*real + 0.011*toys + 0.011*buy + 0.010*creative + 0.009*museum + 0.008*graphic\n",
      "0.026*arts + 0.019*childrens + 0.019*fun + 0.016*trade + 0.015*answers + 0.015*school + 0.015*parents + 0.015*architecture + 0.014*homework + 0.013*pictures\n",
      "0.052*free + 0.042*health + 0.033*online + 0.027*education + 0.024*dictionary + 0.022*search + 0.022*medical + 0.020*library + 0.016*encyclopedia + 0.016*time\n",
      "0.021*knots + 0.019*animation + 0.018*sale + 0.016*philosophy + 0.014*quotes + 0.012*cards + 0.011*animated + 0.010*financial + 0.009*accessories + 0.009*tutorials\n",
      "0.113*games + 0.043*news + 0.031*business + 0.025*find + 0.025*reviews + 0.019*world + 0.015*guide + 0.013*national + 0.013*miniature + 0.012*sport\n"
     ]
    }
   ],
   "source": [
    "# Show some examples of LDA topics\n",
    "for t in meta_model.show_topics(10)[:5]:\n",
    "    print t"
   ]
  },
  {
   "cell_type": "code",
   "execution_count": 107,
   "metadata": {
    "collapsed": false
   },
   "outputs": [
    {
     "name": "stdout",
     "output_type": "stream",
     "text": [
      "(u'http://games.espn.go.com/frontpage', [u'sports', u'fantasy'])\n",
      "\n",
      "(0.13283840088522278, [u'sports', u'find', u'top', u'movies', u'entertainment', u'living'])\n",
      "(0.073046193814951865, [u'time', u'world', u'change', u'modern', u'fact', u'life'])\n",
      "(0.071602471435565113, [u'life', u'time', u'story', u'speaker', u'times', u'model'])\n",
      "(0.038129875757050902, [u'collecting', u'prize', u'driving', u'misc', u'dinner', u'allowed'])\n",
      "(0.037237119148705859, [u'hours', u'corporate', u'visit', u'reply', u'operations', u'registered'])\n",
      "(0.03617912146157972, [u'game', u'play', u'playing', u'games', u'strategy', u'played'])\n",
      "(0.034335033204411926, [u'isbn', u'edit', u'retrieved', u'wikipedia', u'commons', u'printable'])\n",
      "(0.029179953033619713, [u'pcs', u'monday', u'wednesday', u'super', u'tuesday', u'friday'])\n",
      "(0.027803240102185288, [u'house', u'bill', u'state', u'case', u'logic', u'government'])\n",
      "(0.027729327611440757, [u'table', u'city', u'league', u'win', u'manchester', u'finish'])\n",
      "(0.026398372243677894, [u'stories', u'updated', u'ebola', u'movies', u'today', u'preview'])\n",
      "(0.025815650736500596, [u'work', u'theory', u'time', u'words', u'people', u'good'])\n",
      "(0.023785109290991334, [u'john', u'david', u'du', u'peter', u'fair', u'richard'])\n",
      "(0.018905289919310182, [u'news', u'virtual', u'visual', u'rome', u'christian', u'paris'])\n",
      "(0.018674359359152379, [u'weather', u'news', u'racing', u'philadelphia', u'cnn', u'ap'])\n",
      "(0.015883161362226589, [u'education', u'programs', u'life', u'shop', u'policy', u'kids'])\n",
      "(0.015726428036443429, [u'spring', u'jewelry', u'reality', u'activities', u'shoes', u'water'])\n",
      "(0.015605383204548049, [u'player', u'encyclopedia', u'players', u'box', u'selection', u'final'])\n",
      "(0.015399225488406283, [u'click', u'published', u'item', u'golf', u'flash', u'elementary'])\n",
      "(0.014918843176939933, [u'australia', u'ship', u'australian', u'refer', u'iii', u'royal'])\n",
      "(0.014756646879175881, [u'book', u'computer', u'books', u'examples', u'author', u'written'])\n",
      "(0.014126901232924366, [u'games', u'game', u'players', u'1st', u'heroes', u'personality'])\n",
      "(0.013072715787181576, [u'open', u'event', u'events', u'registration', u'masters', u'wellness'])\n",
      "(0.013067799351262276, [u'birthday', u'mar', u'news', u'recipes', u'party', u'dress'])\n",
      "(0.01296847251269851, [u'arts', u'science', u'music', u'teachers', u'archives', u'books'])\n",
      "(0.011803510732538844, [u'united', u'states', u'america', u'asia', u'europe', u'africa'])\n",
      "(0.011451952775744552, [u'special', u'early', u'offer', u'complete', u'edge', u'award'])\n",
      "(0.011414497567721338, [u'gifts', u'state', u'texas', u'york', u'virginia', u'animals'])\n",
      "(0.01118754894175473, [u'body', u'check', u'enter', u'challenge', u'provider', u'details'])\n",
      "(0.011126853725874157, [u'christmas', u'beautiful', u'great', u'house', u'medieval', u'day'])\n",
      "\n",
      "Total prob: 0.82416945878\n",
      "\n",
      "\n"
     ]
    }
   ],
   "source": [
    "# Show some examples of topics for a particular corpus\n",
    "site = 650\n",
    "print meta[site]\n",
    "print \n",
    "topics = [(p, [x[1] for x in model.show_topic(tid)[:6]]) for tid, p in model[corpus[site]]]\n",
    "topics = sorted(topics, key = (lambda x: -x[0]))\n",
    "sums = 0\n",
    "for x in topics:\n",
    "    sums += x[0]\n",
    "    if sums > 0.9:\n",
    "        break\n",
    "    print x\n",
    "print \"\\nTotal prob: {}\\n\\n\".format(sums)\n"
   ]
  },
  {
   "cell_type": "markdown",
   "metadata": {},
   "source": [
    "# Category assignment"
   ]
  },
  {
   "cell_type": "code",
   "execution_count": 111,
   "metadata": {
    "collapsed": false
   },
   "outputs": [],
   "source": [
    "# Build an array of features linking corpus to topics\n",
    "features = np.zeros((len(corpus), len(alltopics)))\n",
    "totals = np.zeros(len(alltopics))\n",
    "for i, doc in enumerate(model[corpus]):\n",
    "    for topic, p in doc:\n",
    "        features[i, topic] = p\n",
    "        totals[topic] += p\n",
    "        \n"
   ]
  },
  {
   "cell_type": "code",
   "execution_count": 112,
   "metadata": {
    "collapsed": false
   },
   "outputs": [
    {
     "data": {
      "text/plain": [
       "<matplotlib.image.AxesImage at 0x1482d7a10>"
      ]
     },
     "execution_count": 112,
     "metadata": {},
     "output_type": "execute_result"
    },
    {
     "data": {
      "image/png": "[encoded data removed]",
      "text/plain": [
       "<matplotlib.figure.Figure at 0x114a1b6d0>"
      ]
     },
     "metadata": {},
     "output_type": "display_data"
    }
   ],
   "source": [
    "plt.imshow(features.T)"
   ]
  },
  {
   "cell_type": "code",
   "execution_count": 115,
   "metadata": {
    "collapsed": false
   },
   "outputs": [
    {
     "name": "stdout",
     "output_type": "stream",
     "text": [
      "[ 0.00125     0.01376721  0.00125156]\n"
     ]
    }
   ],
   "source": [
    "import sklearn.preprocessing\n",
    "import sklearn.tree\n",
    "import sklearn.svm\n",
    "import sklearn.multiclass\n",
    "import sklearn.ensemble\n",
    "import sklearn.cross_validation\n",
    "\n",
    "\n",
    "all_ylabels = dmoz_data['topics']\n",
    "import itertools\n",
    "import collections\n",
    "counts = collections.Counter(itertools.chain.from_iterable(all_ylabels))\n",
    "uncommon = [x for x in counts if counts[x] < 9]\n",
    "ylabels = np.array([[i for i in l if i not in uncommon] for l in all_ylabels])\n",
    "\n",
    "#if len(ylabels.shape) == 1:\n",
    "if False:\n",
    "    label_processor = sklearn.preprocessing.LabelEncoder()\n",
    "else:\n",
    "    label_processor = sklearn.preprocessing.MultiLabelBinarizer()\n",
    "\n",
    "label_processor.fit(ylabels)\n",
    "#clf = sklearn.tree.DecisionTreeClassifier(random_state=0)\n",
    "clf = sklearn.ensemble.ExtraTreesClassifier(random_state=0, n_estimators=100, oob_score=True, bootstrap=True, n_jobs=4)\n",
    "X = features[:,np.sum(features > 0, axis=0)>0]\n",
    "#X = np.random.rand(X.shape[0], X.shape[1])\n",
    "y = label_processor.transform(ylabels)\n",
    "print sklearn.cross_validation.cross_val_score(clf, X, y)\n"
   ]
  },
  {
   "cell_type": "code",
   "execution_count": null,
   "metadata": {
    "collapsed": false
   },
   "outputs": [],
   "source": [
    "label_processor.transform(ylabels[1:4])"
   ]
  },
  {
   "cell_type": "code",
   "execution_count": null,
   "metadata": {
    "collapsed": false
   },
   "outputs": [],
   "source": [
    "ylabels[1:40]"
   ]
  },
  {
   "cell_type": "code",
   "execution_count": null,
   "metadata": {
    "collapsed": false
   },
   "outputs": [],
   "source": [
    "ylabels[100]"
   ]
  },
  {
   "cell_type": "code",
   "execution_count": null,
   "metadata": {
    "collapsed": false
   },
   "outputs": [],
   "source": [
    "test = sklearn.preprocessing.MultiLabelBinarizer().fit(ylabels)\n",
    "print test.transform(ylabels[1])\n",
    "print test.inverse_transform(test.transform([ylabels[0]]))\n"
   ]
  },
  {
   "cell_type": "code",
   "execution_count": 75,
   "metadata": {
    "collapsed": false
   },
   "outputs": [
    {
     "data": {
      "text/plain": [
       "ExtraTreesClassifier(bootstrap=True, compute_importances=None,\n",
       "           criterion='gini', max_depth=None, max_features='auto',\n",
       "           max_leaf_nodes=None, min_density=None, min_samples_leaf=1,\n",
       "           min_samples_split=2, n_estimators=100, n_jobs=4, oob_score=True,\n",
       "           random_state=0, verbose=0)"
      ]
     },
     "execution_count": 75,
     "metadata": {},
     "output_type": "execute_result"
    }
   ],
   "source": [
    "#zip(clf.transform(X)[0][np.where(clf.transform(X)[0]>0)], ylabels[np.where(clf.transform(X)[0]>0)])\n",
    "clf.fit(X, y)"
   ]
  },
  {
   "cell_type": "code",
   "execution_count": 77,
   "metadata": {
    "collapsed": false
   },
   "outputs": [
    {
     "data": {
      "text/plain": [
       "[(u'http://www.siliconcoach.com/', [u'sports', u'software']),\n",
       " (u'http://www.recenroll.com/', [u'sports', u'software']),\n",
       " (u'http://www.gametime.net/', [u'sports', u'software']),\n",
       " (u'http://www.foxsportspulse.com/', [u'sports', u'software']),\n",
       " (u'http://www.crosstrainer.ca/', [u'sports', u'software']),\n",
       " (u'http://www.integratedsports.net/', [u'sports', u'software']),\n",
       " (u'http://www.sporting-heroes.net/', [u'sports', u'people']),\n",
       " (u'http://coedjewishsports.org/', [u'sports', u'organizations']),\n",
       " (u'http://www.sportandrecreation.org.uk', [u'sports', u'organizations']),\n",
       " (u'http://www.eis2win.co.uk/pages/default.aspx',\n",
       "  [u'sports', u'organizations'])]"
      ]
     },
     "execution_count": 77,
     "metadata": {},
     "output_type": "execute_result"
    }
   ],
   "source": [
    "meta[0:10]"
   ]
  },
  {
   "cell_type": "code",
   "execution_count": 76,
   "metadata": {
    "collapsed": false
   },
   "outputs": [
    {
     "name": "stdout",
     "output_type": "stream",
     "text": [
      "[(u'software', u'sports'),\n",
      " (u'software', u'sports'),\n",
      " (u'software', u'sports'),\n",
      " (u'software', u'sports'),\n",
      " (u'software', u'sports'),\n",
      " (u'software', u'sports'),\n",
      " (u'people', u'sports'),\n",
      " (u'organizations', u'sports'),\n",
      " (u'organizations', u'sports'),\n",
      " (u'organizations', u'sports')]\n"
     ]
    }
   ],
   "source": [
    "from pprint import pprint\n",
    "pprint(label_processor.inverse_transform(clf.predict(X[0:10])))\n"
   ]
  },
  {
   "cell_type": "code",
   "execution_count": 16,
   "metadata": {
    "collapsed": false
   },
   "outputs": [
    {
     "ename": "NameError",
     "evalue": "name 'dv' is not defined",
     "output_type": "error",
     "traceback": [
      "\u001b[0;31m---------------------------------------------------------------------------\u001b[0m",
      "\u001b[0;31mNameError\u001b[0m                                 Traceback (most recent call last)",
      "\u001b[0;32m<ipython-input-16-5f68cbeb1c6b>\u001b[0m in \u001b[0;36m<module>\u001b[0;34m()\u001b[0m\n\u001b[1;32m      4\u001b[0m \u001b[0;34m\u001b[0m\u001b[0m\n\u001b[1;32m      5\u001b[0m \u001b[0mderp1\u001b[0m \u001b[0;34m=\u001b[0m \u001b[0mnp\u001b[0m\u001b[0;34m.\u001b[0m\u001b[0marray\u001b[0m\u001b[0;34m(\u001b[0m\u001b[0;34m[\u001b[0m\u001b[0mt\u001b[0m\u001b[0;34m[\u001b[0m\u001b[0;36m0\u001b[0m\u001b[0;34m]\u001b[0m \u001b[0;32mfor\u001b[0m \u001b[0mt\u001b[0m \u001b[0;32min\u001b[0m \u001b[0mmeta_test\u001b[0m\u001b[0;34m]\u001b[0m\u001b[0;34m)\u001b[0m\u001b[0;34m[\u001b[0m\u001b[0;34m:\u001b[0m\u001b[0;36m15\u001b[0m\u001b[0;34m]\u001b[0m\u001b[0;34m\u001b[0m\u001b[0m\n\u001b[0;32m----> 6\u001b[0;31m \u001b[0mderp2\u001b[0m \u001b[0;34m=\u001b[0m \u001b[0mdv\u001b[0m\u001b[0;34m.\u001b[0m\u001b[0minverse_transform\u001b[0m\u001b[0;34m(\u001b[0m\u001b[0mpred\u001b[0m\u001b[0;34m)\u001b[0m\u001b[0;34m[\u001b[0m\u001b[0;34m:\u001b[0m\u001b[0;36m15\u001b[0m\u001b[0;34m]\u001b[0m\u001b[0;34m\u001b[0m\u001b[0m\n\u001b[0m\u001b[1;32m      7\u001b[0m \u001b[0mderp3\u001b[0m \u001b[0;34m=\u001b[0m \u001b[0mnp\u001b[0m\u001b[0;34m.\u001b[0m\u001b[0marray\u001b[0m\u001b[0;34m(\u001b[0m\u001b[0;34m[\u001b[0m\u001b[0mt\u001b[0m\u001b[0;34m[\u001b[0m\u001b[0;36m0\u001b[0m\u001b[0;34m]\u001b[0m \u001b[0;32mfor\u001b[0m \u001b[0mt\u001b[0m \u001b[0;32min\u001b[0m \u001b[0mmeta_test\u001b[0m\u001b[0;34m]\u001b[0m\u001b[0;34m)\u001b[0m\u001b[0;34m[\u001b[0m\u001b[0;34m:\u001b[0m\u001b[0;36m15\u001b[0m\u001b[0;34m]\u001b[0m\u001b[0;34m\u001b[0m\u001b[0m\n\u001b[1;32m      8\u001b[0m \u001b[0;34m\u001b[0m\u001b[0m\n",
      "\u001b[0;31mNameError\u001b[0m: name 'dv' is not defined"
     ]
    }
   ],
   "source": [
    "X_train, X_test, y_train, y_test, ylabels_train, ylabels_test, meta_train, meta_test, ind_train, ind_test = sklearn.cross_validation.train_test_split(X, y, ylabels, meta, range(len(y)))\n",
    "clf.fit(X_train, y_train)\n",
    "pred = clf.predict(X_test)\n",
    "\n",
    "derp1 = np.array([t[0] for t in meta_test])[:15]\n",
    "derp2 = dv.inverse_transform(pred)[:15]\n",
    "derp3 = np.array([t[0] for t in meta_test])[:15]\n",
    "\n",
    "#print np.vstack(()).T\n",
    "#print ylabels[testnum]\n"
   ]
  },
  {
   "cell_type": "code",
   "execution_count": null,
   "metadata": {
    "collapsed": false
   },
   "outputs": [],
   "source": [
    "print meta[897]\n",
    "print [dictionary[x[0]] for x in corpus[897]]"
   ]
  },
  {
   "cell_type": "code",
   "execution_count": null,
   "metadata": {
    "collapsed": false
   },
   "outputs": [],
   "source": [
    "print dv.inverse_transform(pred)\n",
    "print ylabels[testnum]"
   ]
  },
  {
   "cell_type": "code",
   "execution_count": null,
   "metadata": {
    "collapsed": false
   },
   "outputs": [],
   "source": []
  },
  {
   "cell_type": "code",
   "execution_count": null,
   "metadata": {
    "collapsed": false
   },
   "outputs": [],
   "source": [
    "' '.join(dictionary[w] for w, f in corpus[site])"
   ]
  },
  {
   "cell_type": "code",
   "execution_count": null,
   "metadata": {
    "collapsed": false
   },
   "outputs": [],
   "source": [
    "hdpmodel = gensim.models.hdpmodel.HdpModel(corpus=corpus, id2word=dictionary)"
   ]
  },
  {
   "cell_type": "code",
   "execution_count": null,
   "metadata": {
    "collapsed": false
   },
   "outputs": [],
   "source": [
    "hdpmodel[corpus[5]]"
   ]
  },
  {
   "cell_type": "code",
   "execution_count": null,
   "metadata": {
    "collapsed": false
   },
   "outputs": [],
   "source": [
    "hdptops = hdpmodel.show_topics()\n",
    "[x[0] for x in hdpmodel[corpus[5]]]"
   ]
  },
  {
   "cell_type": "code",
   "execution_count": null,
   "metadata": {
    "collapsed": false
   },
   "outputs": [],
   "source": [
    "hdptops[8]\n"
   ]
  },
  {
   "cell_type": "code",
   "execution_count": null,
   "metadata": {
    "collapsed": false
   },
   "outputs": [],
   "source": [
    "hdpmodel.m_eta + hdpmodel.m_lambda\n",
    "hdpmodel.id2word"
   ]
  },
  {
   "cell_type": "code",
   "execution_count": null,
   "metadata": {
    "collapsed": false
   },
   "outputs": [],
   "source": []
  },
  {
   "cell_type": "code",
   "execution_count": null,
   "metadata": {
    "collapsed": false
   },
   "outputs": [],
   "source": []
  },
  {
   "cell_type": "code",
   "execution_count": null,
   "metadata": {
    "collapsed": false
   },
   "outputs": [],
   "source": []
  }
 ],
 "metadata": {
  "kernelspec": {
   "display_name": "Python 2",
   "language": "python",
   "name": "python2"
  },
  "language_info": {
   "codemirror_mode": {
    "name": "ipython",
    "version": 2
   },
   "file_extension": ".py",
   "mimetype": "text/x-python",
   "name": "python",
   "nbconvert_exporter": "python",
   "pygments_lexer": "ipython2",
   "version": "2.7.6"
  }
 },
 "nbformat": 4,
 "nbformat_minor": 0
}
