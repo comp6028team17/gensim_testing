{
 "cells": [
  {
   "cell_type": "code",
   "execution_count": 1,
   "metadata": {
    "collapsed": false
   },
   "outputs": [],
   "source": [
    "%matplotlib inline\n",
    "%load_ext autoreload\n",
    "%autoreload 2"
   ]
  },
  {
   "cell_type": "code",
   "execution_count": 18,
   "metadata": {
    "collapsed": false
   },
   "outputs": [],
   "source": [
    "from lib import jsoncorpus, datastuff, analysis\n",
    "import gensim\n",
    "import traceback\n",
    "import numpy as np\n",
    "import matplotlib.pyplot as plt\n",
    "from sklearn.pipeline import Pipeline, FeatureUnion\n",
    "import sklearn.preprocessing\n",
    "import sklearn.cross_validation\n",
    "import sklearn.ensemble\n",
    "import sklearn.svm\n",
    "import sklearn.decomposition\n",
    "from lib.scikitComponents import *\n",
    "import itertools\n",
    "import collections"
   ]
  },
  {
   "cell_type": "code",
   "execution_count": null,
   "metadata": {
    "collapsed": false
   },
   "outputs": [],
   "source": []
  },
  {
   "cell_type": "markdown",
   "metadata": {},
   "source": [
    "# LDA"
   ]
  },
  {
   "cell_type": "markdown",
   "metadata": {},
   "source": [
    "## Data preprocessing"
   ]
  },
  {
   "cell_type": "code",
   "execution_count": 19,
   "metadata": {
    "collapsed": false
   },
   "outputs": [
    {
     "name": "stdout",
     "output_type": "stream",
     "text": [
      "Done.\n"
     ]
    }
   ],
   "source": [
    "# Load in the previously created corpus and dictionary of scraped sites\n",
    "#dictionary, corpus, meta_corpus, dmoz_data = jsoncorpus.load_or_create('docs/sites.jl')\n",
    "dictionary, corpus, meta_corpus, dmoz_data = jsoncorpus.load_or_create('docs/sites.jl', stemmed=True, prefix=\"stemmed_\")"
   ]
  },
  {
   "cell_type": "code",
   "execution_count": 20,
   "metadata": {
    "collapsed": false
   },
   "outputs": [],
   "source": [
    "X = zip(dmoz_data[\"meta\"], list(corpus))"
   ]
  },
  {
   "cell_type": "code",
   "execution_count": 21,
   "metadata": {
    "collapsed": false
   },
   "outputs": [],
   "source": [
    "# Link topics to URLs\n",
    "meta = list(zip(dmoz_data['urls'], dmoz_data['dmoz_categories']))"
   ]
  },
  {
   "cell_type": "markdown",
   "metadata": {},
   "source": [
    "## Define a classification pipeline for the corpus data\n",
    "\n",
    "The Pipeline() object chains together objects from the lib.scikitComponents file, so that they can be used as part of a scikit-learn classification pipeline"
   ]
  },
  {
   "cell_type": "markdown",
   "metadata": {},
   "source": [
    "Define a classifier (decision trees), and chain the preprocessing step to the classifier"
   ]
  },
  {
   "cell_type": "code",
   "execution_count": 22,
   "metadata": {
    "collapsed": false
   },
   "outputs": [],
   "source": [
    "# classifier = sklearn.svm.LinearSVC(C=1.0, class_weight=None, dual=True, fit_intercept=True,\n",
    "#      intercept_scaling=1, loss='squared_hinge', max_iter=1000,\n",
    "#      multi_class='ovr', penalty='l2', random_state=None, tol=0.0001,\n",
    "#      verbose=0)\n",
    "\n",
    "# classifier = sklearn.svm.SVC(C=1.0, cache_size=200, class_weight=None, coef0=0.0, degree=3,\n",
    "# gamma=0.0, kernel='rbf', max_iter=-1, probability=False, random_state=None,\n",
    "# shrinking=True, tol=0.001, verbose=False)\n",
    "\n",
    "classes, top_categories, dmoz_encoder = datastuff.encode_dmoz_categories(dmoz_data['dmoz_categories'])\n",
    "\n",
    "num_lda_topics = 15\n",
    "meta_pipeline = Pipeline([\n",
    "    ('meta_picker', ItemPicker(0)),\n",
    "    ('meta_sanitiser', MetaSanitiser(meta_selection_flags = 13)),\n",
    "    ('matrix_builder', MetaMatrixBuilder())\n",
    "])\n",
    "body_pipeline = Pipeline([\n",
    "    ('meta_picker', ItemPicker(1)),\n",
    "    ('lda_model', LDAModel(dictionary, num_lda_topics)),\n",
    "    ('matrix_builder', TopicMatrixBuilder(num_lda_topics))\n",
    "])\n",
    "classifier = sklearn.ensemble.ExtraTreesClassifier(random_state=0, n_estimators=100, oob_score=True, bootstrap=True, n_jobs=4)\n",
    "\n",
    "union = FeatureUnion([(\"meta\", meta_pipeline), (\"body\", body_pipeline)])\n",
    "\n",
    "clf = Pipeline([('features', union), ('classifier', classifier)])\n"
   ]
  },
  {
   "cell_type": "markdown",
   "metadata": {},
   "source": [
    "## Run the classifier\n",
    "\n",
    "We can use the meta corpus or the full body corpus here, just by replacing a single argument\n",
    "\n",
    "The data is split in to training and test sets, and then fit to the training set. The LDA model is generated ***only*** from the training set, not the testing set."
   ]
  },
  {
   "cell_type": "code",
   "execution_count": 23,
   "metadata": {
    "collapsed": false
   },
   "outputs": [
    {
     "name": "stdout",
     "output_type": "stream",
     "text": [
      "Accuracy: 0.46 (+/- 0.05)\n"
     ]
    }
   ],
   "source": [
    "scores = sklearn.cross_validation.cross_val_score(clf, X, classes, cv=5)\n",
    "print(\"Accuracy: %0.2f (+/- %0.2f)\" % (scores.mean(), scores.std() * 2))"
   ]
  },
  {
   "cell_type": "code",
   "execution_count": 25,
   "metadata": {
    "collapsed": false
   },
   "outputs": [
    {
     "name": "stdout",
     "output_type": "stream",
     "text": [
      "0.58\n"
     ]
    }
   ],
   "source": [
    "PROPORTIONAL = False\n",
    "if PROPORTIONAL:\n",
    "    prop_X, prop_y = make_proportional(np.array(X), classes, min_size=80)\n",
    "    ind_train, ind_test = next(iter(sklearn.cross_validation.StratifiedShuffleSplit(prop_y, test_size = 0.25)))\n",
    "    X_train , X_test, y_train, y_test = (prop_X[ind_train], prop_X[ind_test], prop_y[ind_train], prop_y[ind_test])\n",
    "    counts =collections.Counter(prop_y)\n",
    "    print \"\".join([\"{}: {}     \".format(dmoz_encoder.inverse_transform(k), counts[k]) for k in counts.keys()])\n",
    "else:\n",
    "    X_train, X_test, y_train, y_test = sklearn.cross_validation.train_test_split(X, classes)\n",
    "\n",
    "\n",
    "#X_train, X_test, y_train, y_test = sklearn.cross_validation.train_test_split(np.array(X), classes)\n",
    "model = clf.fit(X_train, y_train)\n",
    "print model.score(X_test, y_test)\n"
   ]
  },
  {
   "cell_type": "markdown",
   "metadata": {},
   "source": [
    "### Find the score for each category. \n",
    "\n",
    "Note that if the classifier assigned *random* categories, the score would be $\\frac{1}{\\textrm{num categories}}$. Instead, it is actually quite high in some cases, indicating a moderate amount of success (given how naive this is!)"
   ]
  },
  {
   "cell_type": "code",
   "execution_count": 26,
   "metadata": {
    "collapsed": false
   },
   "outputs": [
    {
     "name": "stdout",
     "output_type": "stream",
     "text": [
      "             precision    recall  f1-score   support\n",
      "\n",
      "       arts       0.44      0.36      0.40        33\n",
      "   business       0.55      0.57      0.56        46\n",
      "  computers       0.51      0.72      0.60        54\n",
      "      games       0.50      0.50      0.50        18\n",
      "     health       0.56      0.72      0.63        32\n",
      "       home       0.55      0.65      0.60        26\n",
      "kids and teens       1.00      0.16      0.27        19\n",
      "       news       0.55      0.77      0.64        31\n",
      " recreation       0.57      0.27      0.36        45\n",
      "  reference       0.52      0.38      0.44        45\n",
      "   regional       0.00      0.00      0.00         2\n",
      "    science       0.56      0.65      0.60        52\n",
      "   shopping       0.73      0.47      0.58        40\n",
      "    society       0.61      0.42      0.49        48\n",
      "     sports       0.67      0.84      0.74       109\n",
      "\n",
      "avg / total       0.59      0.58      0.56       600\n",
      "\n"
     ]
    },
    {
     "name": "stderr",
     "output_type": "stream",
     "text": [
      "/Library/Python/2.7/site-packages/sklearn/metrics/classification.py:958: UndefinedMetricWarning: Precision and F-score are ill-defined and being set to 0.0 in labels with no predicted samples.\n",
      "  'precision', 'predicted', average, warn_for)\n",
      "/Library/Python/2.7/site-packages/IPython/kernel/__main__.py:4: RuntimeWarning: divide by zero encountered in log\n"
     ]
    },
    {
     "data": {
      "image/png": "[encoded data removed]",
      "text/plain": [
       "<matplotlib.figure.Figure at 0x10a3dbf50>"
      ]
     },
     "metadata": {},
     "output_type": "display_data"
    },
    {
     "name": "stdout",
     "output_type": "stream",
     "text": [
      "[[12  1  3  0  1  0  0  4  2  0  0  2  0  4  4]\n",
      " [ 0 26  6  0  2  3  0  1  3  1  0  1  2  0  1]\n",
      " [ 1  6 39  2  0  0  0  2  0  0  0  3  1  0  0]\n",
      " [ 0  1  0  9  0  0  0  0  0  1  0  0  0  1  6]\n",
      " [ 0  0  2  0 23  1  0  2  0  0  0  2  0  2  0]\n",
      " [ 0  2  1  0  0 17  0  2  1  1  0  1  0  1  0]\n",
      " [ 3  1  0  3  0  2  3  1  0  1  0  0  0  0  5]\n",
      " [ 0  0  2  0  1  1  0 24  0  1  0  2  0  0  0]\n",
      " [ 1  0  0  0  6  2  0  1 12  3  0  2  3  1 14]\n",
      " [ 4  2  6  0  0  0  0  2  0 17  0  6  0  2  6]\n",
      " [ 0  0  0  0  0  0  0  0  0  1  0  0  0  0  1]\n",
      " [ 0  2  7  1  2  1  0  0  0  2  0 34  0  1  2]\n",
      " [ 5  1  2  1  2  2  0  1  0  2  0  0 19  1  4]\n",
      " [ 1  2  5  2  3  0  0  3  1  2  0  6  0 20  3]\n",
      " [ 0  3  4  0  1  2  0  1  2  1  0  2  1  0 92]]\n"
     ]
    }
   ],
   "source": [
    "predicted = model.predict(X_test)\n",
    "print sklearn.metrics.classification_report(dmoz_encoder.inverse_transform(y_test), dmoz_encoder.inverse_transform(predicted), dmoz_encoder.classes_)\n",
    "cm = sklearn.metrics.confusion_matrix(dmoz_encoder.inverse_transform(y_test), dmoz_encoder.inverse_transform(predicted), dmoz_encoder.classes_)\n",
    "analysis.plot_confusion_matrix(np.log(cm), labels= dmoz_encoder.classes_)\n",
    "plt.show()\n",
    "print cm"
   ]
  },
  {
   "cell_type": "markdown",
   "metadata": {},
   "source": [
    "### How good are the top N guesses?"
   ]
  },
  {
   "cell_type": "code",
   "execution_count": 179,
   "metadata": {
    "collapsed": false
   },
   "outputs": [
    {
     "data": {
      "text/plain": [
       "[<matplotlib.lines.Line2D at 0x10ff32110>]"
      ]
     },
     "execution_count": 179,
     "metadata": {},
     "output_type": "execute_result"
    },
    {
     "data": {
      "image/png": "[encoded data removed]",
      "text/plain": [
       "<matplotlib.figure.Figure at 0x10fd69790>"
      ]
     },
     "metadata": {},
     "output_type": "display_data"
    }
   ],
   "source": [
    "accuracies = analysis.accuracy_of_top_n_guesses(clf, X_test, y_test)\n",
    "plt.step(range(1, len(accuracies)+1),accuracies, where='post')\n"
   ]
  },
  {
   "cell_type": "code",
   "execution_count": null,
   "metadata": {
    "collapsed": true
   },
   "outputs": [],
   "source": []
  }
 ],
 "metadata": {
  "kernelspec": {
   "display_name": "Python 2",
   "language": "python",
   "name": "python2"
  },
  "language_info": {
   "codemirror_mode": {
    "name": "ipython",
    "version": 2
   },
   "file_extension": ".py",
   "mimetype": "text/x-python",
   "name": "python",
   "nbconvert_exporter": "python",
   "pygments_lexer": "ipython2",
   "version": "2.7.6"
  }
 },
 "nbformat": 4,
 "nbformat_minor": 0
}
