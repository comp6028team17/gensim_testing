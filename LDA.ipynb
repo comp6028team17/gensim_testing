{
 "cells": [
  {
   "cell_type": "code",
   "execution_count": 63,
   "metadata": {
    "collapsed": false
   },
   "outputs": [
    {
     "name": "stdout",
     "output_type": "stream",
     "text": [
      "The autoreload extension is already loaded. To reload it, use:\n",
      "  %reload_ext autoreload\n"
     ]
    }
   ],
   "source": [
    "%matplotlib inline\n",
    "%load_ext autoreload\n",
    "%autoreload 2"
   ]
  },
  {
   "cell_type": "code",
   "execution_count": 64,
   "metadata": {
    "collapsed": false
   },
   "outputs": [],
   "source": [
    "from lib import jsoncorpus, datastuff\n",
    "import gensim\n",
    "import traceback\n",
    "import numpy as np\n",
    "import matplotlib.pyplot as plt\n",
    "import sklearn.svm\n",
    "import sklearn.feature_extraction"
   ]
  },
  {
   "cell_type": "markdown",
   "metadata": {},
   "source": [
    "# LDA"
   ]
  },
  {
   "cell_type": "code",
   "execution_count": null,
   "metadata": {
    "collapsed": false
   },
   "outputs": [
    {
     "name": "stdout",
     "output_type": "stream",
     "text": [
      "Building new dictionary\n",
      "0\n",
      "20\n",
      "40\n",
      "60\n",
      "80\n",
      "100\n",
      "120\n",
      "140\n",
      "160\n",
      "180\n",
      "200\n",
      "220\n",
      "240\n",
      "260\n",
      "280\n",
      "300\n",
      "320\n",
      "340\n",
      "360\n",
      "380\n",
      "400\n",
      "420\n",
      "440\n",
      "460\n",
      "480\n",
      "500\n",
      "520\n",
      "540\n",
      "560\n",
      "580\n",
      "600\n",
      "620\n",
      "640\n",
      "660\n",
      "680\n",
      "700\n",
      "720\n",
      "740\n",
      "760\n",
      "780\n",
      "800\n",
      "820\n",
      "840\n",
      "860\n",
      "880\n",
      "900\n",
      "920\n",
      "940\n",
      "960\n",
      "980\n",
      "1000\n",
      "1020\n",
      "1040\n",
      "1060\n",
      "1080\n",
      "1100\n",
      "1120\n",
      "1140\n",
      "1160\n",
      "1180\n",
      "1200\n",
      "1220\n",
      "1240\n",
      "1260\n",
      "1280\n",
      "1300\n",
      "1320\n",
      "1340\n",
      "1360\n",
      "1380\n",
      "1400\n",
      "1420\n",
      "1440\n",
      "1460\n",
      "1480\n",
      "1500\n",
      "1520\n",
      "1540\n",
      "1560\n",
      "1580\n",
      "1600\n",
      "1620\n",
      "1640\n",
      "1660\n",
      "1680\n",
      "1700\n",
      "1720\n",
      "1740\n",
      "1760\n",
      "1780\n",
      "1800\n",
      "1820\n",
      "1840\n",
      "1860\n",
      "1880\n",
      "1900\n",
      "1920\n",
      "1940\n",
      "1960\n",
      "1980\n",
      "2000\n",
      "2020\n",
      "2040\n",
      "2060\n",
      "2080\n",
      "2100\n",
      "2120\n",
      "2140\n",
      "2160\n",
      "2180\n",
      "2200\n",
      "2220\n",
      "2240\n",
      "2260\n",
      "2280\n",
      "2300\n",
      "2320\n",
      "2340\n",
      "2360\n",
      "2380\n",
      "Building new corpora\n"
     ]
    }
   ],
   "source": [
    "# Load in the previously created corpus and dictionary of scraped sites\n",
    "dictionary, corpus, meta_corpus = jsoncorpus.load_or_create('docs/sites.jl')"
   ]
  },
  {
   "cell_type": "code",
   "execution_count": null,
   "metadata": {
    "collapsed": false
   },
   "outputs": [],
   "source": [
    "# Build a list of all topics\n",
    "alltopics = []\n",
    "toptopics = []\n",
    "# And a list linking website URLs to DMOZ categories\n",
    "meta = []\n",
    "\n",
    "for site in datastuff.loadSplitJsonLines('docs/sites.jl.'):\n",
    "    alltopics.append(', '.join(site['topics']))\n",
    "    toptopics.append(site['topics'][0])\n",
    "    meta.append((site['url'], site['topics']))\n",
    "alltopics = set(alltopics)\n",
    "toptopics = set(toptopics)"
   ]
  },
  {
   "cell_type": "code",
   "execution_count": 16,
   "metadata": {
    "collapsed": false
   },
   "outputs": [],
   "source": [
    "# Generate LDA Model of document bodies\n",
    "model = gensim.models.ldamodel.LdaModel(corpus=corpus, id2word=dictionary, num_topics = len(alltopics), passes = 1, chunksize = 100)"
   ]
  },
  {
   "cell_type": "code",
   "execution_count": 41,
   "metadata": {
    "collapsed": true
   },
   "outputs": [],
   "source": [
    "# Generate LDA Model of metadata\n",
    "meta_model = gensim.models.ldamodel.LdaModel(corpus=meta_corpus, id2word=dictionary, num_topics = len(toptopics), passes = 1, chunksize = 100)"
   ]
  },
  {
   "cell_type": "code",
   "execution_count": 43,
   "metadata": {
    "collapsed": false
   },
   "outputs": [
    {
     "name": "stdout",
     "output_type": "stream",
     "text": [
      "0.034*products + 0.031*party + 0.016*trade + 0.015*architecture + 0.015*english + 0.015*company + 0.014*libraries + 0.013*center + 0.012*engineering + 0.012*university\n",
      "0.038*resources + 0.029*services + 0.026*web + 0.021*maps + 0.020*map + 0.018*travel + 0.018*software + 0.015*city + 0.015*data + 0.013*air\n",
      "0.074*kids + 0.069*books + 0.044*american + 0.031*school + 0.015*articles + 0.014*family + 0.012*government + 0.012*great + 0.012*disney + 0.009*puppets\n",
      "0.082*art + 0.016*parents + 0.016*forum + 0.014*card + 0.013*directory + 0.012*words + 0.011*quotes + 0.011*source + 0.010*global + 0.009*beauty\n",
      "0.066*health + 0.054*news + 0.033*medical + 0.024*time + 0.018*world + 0.017*thesaurus + 0.015*national + 0.013*business + 0.012*adventure + 0.011*latin\n"
     ]
    }
   ],
   "source": [
    "# Show some examples of LDA topics\n",
    "for t in meta_model.show_topics(10)[:5]:\n",
    "    print t"
   ]
  },
  {
   "cell_type": "code",
   "execution_count": 55,
   "metadata": {
    "collapsed": false
   },
   "outputs": [
    {
     "name": "stdout",
     "output_type": "stream",
     "text": [
      "(u'http://www.fantasyleague.com/', [u'sports', u'fantasy'])\n",
      "\n",
      "(0.11147272064363745, [u'february', u'january', u'march', u'prize', u'year', u'november'])\n",
      "(0.10440393001192687, [u'term', u'world', u'ancient', u'original', u'early', u'set'])\n",
      "(0.094531712338769266, [u'win', u'beat', u'county', u'match', u'wins', u'left'])\n",
      "(0.076165698742543878, [u'studies', u'graphic', u'virtual', u'study', u'eye', u'partners'])\n",
      "(0.069068103836328734, [u'conference', u'league', u'1990s', u'social', u'preview', u'intended'])\n",
      "(0.051561780975683799, [u'series', u'week', u'happy', u'night', u'opened', u'unique'])\n",
      "(0.051543621165325237, [u'draw', u'exercise', u'cup', u'premier', u'world', u'finder'])\n",
      "(0.044215058173857319, [u'top', u'sports', u'stories', u'sign', u'visual', u'entertainment'])\n",
      "(0.032136221767790497, [u'press', u'release', u'complete', u'highlights', u'introductory', u'february'])\n",
      "(0.029783411662020427, [u'awards', u'players', u'registration', u'event', u'annual', u'teams'])\n",
      "(0.025723733353203937, [u'business', u'hours', u'gaming', u'product', u'answered', u'poker'])\n",
      "(0.024008273318049427, [u'production', u'issue', u'prices', u'limited', u'range', u'order'])\n",
      "(0.021984682786919056, [u'health', u'technology', u'time', u'change', u'future', u'escape'])\n",
      "(0.021163995494486637, [u'harry', u'movie', u'closed', u'kid', u'god', u'sort'])\n",
      "(0.019536658385625953, [u'great', u'beautiful', u'time', u'cards', u'machine', u'brand'])\n",
      "(0.015815096577836661, [u'games', u'world', u'winners', u'war', u'charity', u'gold'])\n",
      "(0.015678107581849048, [u'add', u'green', u'gambling', u'send', u'discuss', u'amend'])\n",
      "(0.015443894417669145, [u'city', u'years', u'east', u'chicago', u'famous', u'charles'])\n",
      "(0.013004803187389323, [u'fiction', u'land', u'thomas', u'sir', u'mary', u'hollywood'])\n",
      "(0.012909072026704641, [u'sleep', u'points', u'practices', u'disc', u'navy', u'templates'])\n",
      "(0.012803248792576797, [u'forms', u'form', u'development', u'control', u'purpose', u'processes'])\n",
      "(0.012580423580581821, [u'committee', u'house', u'mission', u'communications', u'shared', u'nation'])\n",
      "(0.010628148457618706, [u'correct', u'manage', u'revised', u'preparation', u'actions', u'distinction'])\n",
      "(0.010506943289243254, [u'training', u'race', u'fitness', u'goals', u'levels', u'ages'])\n",
      "\n",
      "Total prob: 0.906918850985\n",
      "\n",
      "\n"
     ]
    }
   ],
   "source": [
    "# Show some examples of topics for a particular corpus\n",
    "site = 650\n",
    "print meta[site]\n",
    "print \n",
    "topics = [(p, [x[1] for x in model.show_topic(tid)[:6]]) for tid, p in model[corpus[site]]]\n",
    "topics = sorted(topics, key = (lambda x: -x[0]))\n",
    "sums = 0\n",
    "for x in topics:\n",
    "    sums += x[0]\n",
    "    if sums > 0.9:\n",
    "        break\n",
    "    print x\n",
    "print \"\\nTotal prob: {}\\n\\n\".format(sums)\n"
   ]
  },
  {
   "cell_type": "markdown",
   "metadata": {},
   "source": [
    "# Category assignment"
   ]
  },
  {
   "cell_type": "code",
   "execution_count": 52,
   "metadata": {
    "collapsed": false
   },
   "outputs": [
    {
     "data": {
      "text/plain": [
       "<gensim.interfaces.TransformedCorpus at 0x114a81fd0>"
      ]
     },
     "execution_count": 52,
     "metadata": {},
     "output_type": "execute_result"
    }
   ],
   "source": [
    "model[corpus[1:3]]"
   ]
  },
  {
   "cell_type": "code",
   "execution_count": null,
   "metadata": {
    "collapsed": true
   },
   "outputs": [],
   "source": [
    "se"
   ]
  },
  {
   "cell_type": "code",
   "execution_count": 16,
   "metadata": {
    "collapsed": false
   },
   "outputs": [],
   "source": [
    "# Build an array of features linking corpus to topics\n",
    "features = np.zeros((len(corpus), len(alltopics)))\n",
    "totals = np.zeros(len(alltopics))\n",
    "for i, doc in enumerate(model[corpus]):\n",
    "    for topic, p in doc:\n",
    "        features[i, topic] = p\n",
    "        totals[topic] += p\n",
    "        \n"
   ]
  },
  {
   "cell_type": "code",
   "execution_count": null,
   "metadata": {
    "collapsed": false
   },
   "outputs": [],
   "source": [
    "plt.imshow(features.T)"
   ]
  },
  {
   "cell_type": "code",
   "execution_count": 70,
   "metadata": {
    "collapsed": false
   },
   "outputs": [
    {
     "name": "stdout",
     "output_type": "stream",
     "text": [
      "[ 0.00375     0.00875     0.00375469]\n"
     ]
    }
   ],
   "source": [
    "import sklearn.preprocessing\n",
    "import sklearn.tree\n",
    "import sklearn.svm\n",
    "import sklearn.multiclass\n",
    "import sklearn.ensemble\n",
    "import sklearn.cross_validation\n",
    "\n",
    "\n",
    "all_ylabels = np.array([x['topics'][:2] for x in datastuff.loadSplitJsonLines('docs/sites.jl.')])\n",
    "import itertools\n",
    "import collections\n",
    "counts = collections.Counter(itertools.chain.from_iterable(all_ylabels))\n",
    "uncommon = [x for x in counts if counts[x] < 9]\n",
    "ylabels = np.array([[i for i in l if i not in uncommon] for l in all_ylabels])\n",
    "\n",
    "#if len(ylabels.shape) == 1:\n",
    "if False:\n",
    "    label_processor = sklearn.preprocessing.LabelEncoder()\n",
    "else:\n",
    "    label_processor = sklearn.preprocessing.MultiLabelBinarizer()\n",
    "\n",
    "label_processor.fit(ylabels)\n",
    "#clf = sklearn.tree.DecisionTreeClassifier(random_state=0)\n",
    "clf = sklearn.ensemble.ExtraTreesClassifier(random_state=0, n_estimators=100, oob_score=True, bootstrap=True, n_jobs=4)\n",
    "X = features[:,np.sum(features > 0, axis=0)>0]\n",
    "#X = np.random.rand(X.shape[0], X.shape[1])\n",
    "y = label_processor.transform(ylabels)\n",
    "print sklearn.cross_validation.cross_val_score(clf, X, y)\n"
   ]
  },
  {
   "cell_type": "code",
   "execution_count": 71,
   "metadata": {
    "collapsed": false
   },
   "outputs": [
    {
     "data": {
      "text/plain": [
       "array([[0, 0, 0, 0, 0, 0, 0, 0, 0, 0, 0, 0, 0, 0, 0, 0, 0, 0, 0, 0, 0, 0,\n",
       "        0, 0, 0, 0, 0, 0, 0, 0, 0, 0, 0, 0, 0, 0, 0, 0, 0, 0, 0, 0, 0, 0,\n",
       "        0, 0, 0, 0, 0, 0, 0, 0, 0, 0, 0, 0, 0, 0, 0, 0, 0, 0, 0, 0, 0, 0,\n",
       "        0, 0, 0, 0, 0, 0, 0, 0, 0, 0, 0, 0, 0, 0, 0, 0, 0, 0, 0, 0, 0, 0,\n",
       "        0, 0, 0, 0, 0, 0, 0, 0, 0, 0, 1, 1, 0, 0, 0, 0, 0, 0, 0, 0, 0, 0,\n",
       "        0, 0, 0],\n",
       "       [0, 0, 0, 0, 0, 0, 0, 0, 0, 0, 0, 0, 0, 0, 0, 0, 0, 0, 0, 0, 0, 0,\n",
       "        0, 0, 0, 0, 0, 0, 0, 0, 0, 0, 0, 0, 0, 0, 0, 0, 0, 0, 0, 0, 0, 0,\n",
       "        0, 0, 0, 0, 0, 0, 0, 0, 0, 0, 0, 0, 0, 0, 0, 0, 0, 0, 0, 0, 0, 0,\n",
       "        0, 0, 0, 0, 0, 0, 0, 0, 0, 0, 0, 0, 0, 0, 0, 0, 0, 0, 0, 0, 0, 0,\n",
       "        0, 0, 0, 0, 0, 0, 0, 0, 0, 0, 1, 1, 0, 0, 0, 0, 0, 0, 0, 0, 0, 0,\n",
       "        0, 0, 0],\n",
       "       [0, 0, 0, 0, 0, 0, 0, 0, 0, 0, 0, 0, 0, 0, 0, 0, 0, 0, 0, 0, 0, 0,\n",
       "        0, 0, 0, 0, 0, 0, 0, 0, 0, 0, 0, 0, 0, 0, 0, 0, 0, 0, 0, 0, 0, 0,\n",
       "        0, 0, 0, 0, 0, 0, 0, 0, 0, 0, 0, 0, 0, 0, 0, 0, 0, 0, 0, 0, 0, 0,\n",
       "        0, 0, 0, 0, 0, 0, 0, 0, 0, 0, 0, 0, 0, 0, 0, 0, 0, 0, 0, 0, 0, 0,\n",
       "        0, 0, 0, 0, 0, 0, 0, 0, 0, 0, 1, 1, 0, 0, 0, 0, 0, 0, 0, 0, 0, 0,\n",
       "        0, 0, 0]])"
      ]
     },
     "execution_count": 71,
     "metadata": {},
     "output_type": "execute_result"
    }
   ],
   "source": [
    "label_processor.transform(ylabels[1:4])"
   ]
  },
  {
   "cell_type": "code",
   "execution_count": 72,
   "metadata": {
    "collapsed": false
   },
   "outputs": [
    {
     "data": {
      "text/plain": [
       "array([[u'sports', u'software'], [u'sports', u'software'],\n",
       "       [u'sports', u'software'], [u'sports', u'software'],\n",
       "       [u'sports', u'software'], [u'sports', u'people'],\n",
       "       [u'sports', u'organizations'], [u'sports', u'organizations'],\n",
       "       [u'sports', u'organizations'], [u'sports', u'software'],\n",
       "       [u'sports', u'software'], [u'sports'],\n",
       "       [u'sports', u'organizations'], [u'sports', u'organizations'],\n",
       "       [u'sports'], [u'sports', u'organizations'],\n",
       "       [u'sports', u'organizations'], [u'sports', u'organizations'],\n",
       "       [u'sports', u'organizations'], [u'sports'], [u'sports'],\n",
       "       [u'sports'], [u'sports', u'winter sports'],\n",
       "       [u'sports', u'winter sports'], [u'sports', u'water sports'],\n",
       "       [u'sports', u'water sports'], [u'sports', u'water sports'],\n",
       "       [u'sports', u'water sports'], [u'sports', u'organizations'],\n",
       "       [u'sports', u'walking'], [u'sports', u'walking'],\n",
       "       [u'sports', u'walking'], [u'sports', u'walking'],\n",
       "       [u'sports', u'walking'], [u'sports', u'walking'],\n",
       "       [u'sports', u'walking'], [u'sports', u'walking'], [u'sports'],\n",
       "       [u'sports']], dtype=object)"
      ]
     },
     "execution_count": 72,
     "metadata": {},
     "output_type": "execute_result"
    }
   ],
   "source": [
    "ylabels[1:40]"
   ]
  },
  {
   "cell_type": "code",
   "execution_count": 73,
   "metadata": {
    "collapsed": false
   },
   "outputs": [
    {
     "data": {
      "text/plain": [
       "[u'sports', u'resources']"
      ]
     },
     "execution_count": 73,
     "metadata": {},
     "output_type": "execute_result"
    }
   ],
   "source": [
    "ylabels[100]"
   ]
  },
  {
   "cell_type": "code",
   "execution_count": 54,
   "metadata": {
    "collapsed": false
   },
   "outputs": [
    {
     "ename": "NameError",
     "evalue": "name 'ylabels' is not defined",
     "output_type": "error",
     "traceback": [
      "\u001b[0;31m---------------------------------------------------------------------------\u001b[0m",
      "\u001b[0;31mNameError\u001b[0m                                 Traceback (most recent call last)",
      "\u001b[0;32m<ipython-input-54-99f66bded226>\u001b[0m in \u001b[0;36m<module>\u001b[0;34m()\u001b[0m\n\u001b[0;32m----> 1\u001b[0;31m \u001b[0mtest\u001b[0m \u001b[0;34m=\u001b[0m \u001b[0msklearn\u001b[0m\u001b[0;34m.\u001b[0m\u001b[0mpreprocessing\u001b[0m\u001b[0;34m.\u001b[0m\u001b[0mMultiLabelBinarizer\u001b[0m\u001b[0;34m(\u001b[0m\u001b[0;34m)\u001b[0m\u001b[0;34m.\u001b[0m\u001b[0mfit\u001b[0m\u001b[0;34m(\u001b[0m\u001b[0mylabels\u001b[0m\u001b[0;34m)\u001b[0m\u001b[0;34m\u001b[0m\u001b[0m\n\u001b[0m\u001b[1;32m      2\u001b[0m \u001b[0;32mprint\u001b[0m \u001b[0mtest\u001b[0m\u001b[0;34m.\u001b[0m\u001b[0mtransform\u001b[0m\u001b[0;34m(\u001b[0m\u001b[0mylabels\u001b[0m\u001b[0;34m[\u001b[0m\u001b[0;36m1\u001b[0m\u001b[0;34m]\u001b[0m\u001b[0;34m)\u001b[0m\u001b[0;34m\u001b[0m\u001b[0m\n\u001b[1;32m      3\u001b[0m \u001b[0;32mprint\u001b[0m \u001b[0mtest\u001b[0m\u001b[0;34m.\u001b[0m\u001b[0minverse_transform\u001b[0m\u001b[0;34m(\u001b[0m\u001b[0mtest\u001b[0m\u001b[0;34m.\u001b[0m\u001b[0mtransform\u001b[0m\u001b[0;34m(\u001b[0m\u001b[0;34m[\u001b[0m\u001b[0mylabels\u001b[0m\u001b[0;34m[\u001b[0m\u001b[0;36m0\u001b[0m\u001b[0;34m]\u001b[0m\u001b[0;34m]\u001b[0m\u001b[0;34m)\u001b[0m\u001b[0;34m)\u001b[0m\u001b[0;34m\u001b[0m\u001b[0m\n",
      "\u001b[0;31mNameError\u001b[0m: name 'ylabels' is not defined"
     ]
    }
   ],
   "source": [
    "test = sklearn.preprocessing.MultiLabelBinarizer().fit(ylabels)\n",
    "print test.transform(ylabels[1])\n",
    "print test.inverse_transform(test.transform([ylabels[0]]))\n"
   ]
  },
  {
   "cell_type": "code",
   "execution_count": 75,
   "metadata": {
    "collapsed": false
   },
   "outputs": [
    {
     "data": {
      "text/plain": [
       "ExtraTreesClassifier(bootstrap=True, compute_importances=None,\n",
       "           criterion='gini', max_depth=None, max_features='auto',\n",
       "           max_leaf_nodes=None, min_density=None, min_samples_leaf=1,\n",
       "           min_samples_split=2, n_estimators=100, n_jobs=4, oob_score=True,\n",
       "           random_state=0, verbose=0)"
      ]
     },
     "execution_count": 75,
     "metadata": {},
     "output_type": "execute_result"
    }
   ],
   "source": [
    "#zip(clf.transform(X)[0][np.where(clf.transform(X)[0]>0)], ylabels[np.where(clf.transform(X)[0]>0)])\n",
    "clf.fit(X, y)"
   ]
  },
  {
   "cell_type": "code",
   "execution_count": 77,
   "metadata": {
    "collapsed": false
   },
   "outputs": [
    {
     "data": {
      "text/plain": [
       "[(u'http://www.siliconcoach.com/', [u'sports', u'software']),\n",
       " (u'http://www.recenroll.com/', [u'sports', u'software']),\n",
       " (u'http://www.gametime.net/', [u'sports', u'software']),\n",
       " (u'http://www.foxsportspulse.com/', [u'sports', u'software']),\n",
       " (u'http://www.crosstrainer.ca/', [u'sports', u'software']),\n",
       " (u'http://www.integratedsports.net/', [u'sports', u'software']),\n",
       " (u'http://www.sporting-heroes.net/', [u'sports', u'people']),\n",
       " (u'http://coedjewishsports.org/', [u'sports', u'organizations']),\n",
       " (u'http://www.sportandrecreation.org.uk', [u'sports', u'organizations']),\n",
       " (u'http://www.eis2win.co.uk/pages/default.aspx',\n",
       "  [u'sports', u'organizations'])]"
      ]
     },
     "execution_count": 77,
     "metadata": {},
     "output_type": "execute_result"
    }
   ],
   "source": [
    "meta[0:10]"
   ]
  },
  {
   "cell_type": "code",
   "execution_count": 76,
   "metadata": {
    "collapsed": false
   },
   "outputs": [
    {
     "name": "stdout",
     "output_type": "stream",
     "text": [
      "[(u'software', u'sports'),\n",
      " (u'software', u'sports'),\n",
      " (u'software', u'sports'),\n",
      " (u'software', u'sports'),\n",
      " (u'software', u'sports'),\n",
      " (u'software', u'sports'),\n",
      " (u'people', u'sports'),\n",
      " (u'organizations', u'sports'),\n",
      " (u'organizations', u'sports'),\n",
      " (u'organizations', u'sports')]\n"
     ]
    }
   ],
   "source": [
    "from pprint import pprint\n",
    "pprint(label_processor.inverse_transform(clf.predict(X[0:10])))\n"
   ]
  },
  {
   "cell_type": "code",
   "execution_count": 16,
   "metadata": {
    "collapsed": false
   },
   "outputs": [
    {
     "ename": "NameError",
     "evalue": "name 'dv' is not defined",
     "output_type": "error",
     "traceback": [
      "\u001b[0;31m---------------------------------------------------------------------------\u001b[0m",
      "\u001b[0;31mNameError\u001b[0m                                 Traceback (most recent call last)",
      "\u001b[0;32m<ipython-input-16-5f68cbeb1c6b>\u001b[0m in \u001b[0;36m<module>\u001b[0;34m()\u001b[0m\n\u001b[1;32m      4\u001b[0m \u001b[0;34m\u001b[0m\u001b[0m\n\u001b[1;32m      5\u001b[0m \u001b[0mderp1\u001b[0m \u001b[0;34m=\u001b[0m \u001b[0mnp\u001b[0m\u001b[0;34m.\u001b[0m\u001b[0marray\u001b[0m\u001b[0;34m(\u001b[0m\u001b[0;34m[\u001b[0m\u001b[0mt\u001b[0m\u001b[0;34m[\u001b[0m\u001b[0;36m0\u001b[0m\u001b[0;34m]\u001b[0m \u001b[0;32mfor\u001b[0m \u001b[0mt\u001b[0m \u001b[0;32min\u001b[0m \u001b[0mmeta_test\u001b[0m\u001b[0;34m]\u001b[0m\u001b[0;34m)\u001b[0m\u001b[0;34m[\u001b[0m\u001b[0;34m:\u001b[0m\u001b[0;36m15\u001b[0m\u001b[0;34m]\u001b[0m\u001b[0;34m\u001b[0m\u001b[0m\n\u001b[0;32m----> 6\u001b[0;31m \u001b[0mderp2\u001b[0m \u001b[0;34m=\u001b[0m \u001b[0mdv\u001b[0m\u001b[0;34m.\u001b[0m\u001b[0minverse_transform\u001b[0m\u001b[0;34m(\u001b[0m\u001b[0mpred\u001b[0m\u001b[0;34m)\u001b[0m\u001b[0;34m[\u001b[0m\u001b[0;34m:\u001b[0m\u001b[0;36m15\u001b[0m\u001b[0;34m]\u001b[0m\u001b[0;34m\u001b[0m\u001b[0m\n\u001b[0m\u001b[1;32m      7\u001b[0m \u001b[0mderp3\u001b[0m \u001b[0;34m=\u001b[0m \u001b[0mnp\u001b[0m\u001b[0;34m.\u001b[0m\u001b[0marray\u001b[0m\u001b[0;34m(\u001b[0m\u001b[0;34m[\u001b[0m\u001b[0mt\u001b[0m\u001b[0;34m[\u001b[0m\u001b[0;36m0\u001b[0m\u001b[0;34m]\u001b[0m \u001b[0;32mfor\u001b[0m \u001b[0mt\u001b[0m \u001b[0;32min\u001b[0m \u001b[0mmeta_test\u001b[0m\u001b[0;34m]\u001b[0m\u001b[0;34m)\u001b[0m\u001b[0;34m[\u001b[0m\u001b[0;34m:\u001b[0m\u001b[0;36m15\u001b[0m\u001b[0;34m]\u001b[0m\u001b[0;34m\u001b[0m\u001b[0m\n\u001b[1;32m      8\u001b[0m \u001b[0;34m\u001b[0m\u001b[0m\n",
      "\u001b[0;31mNameError\u001b[0m: name 'dv' is not defined"
     ]
    }
   ],
   "source": [
    "X_train, X_test, y_train, y_test, ylabels_train, ylabels_test, meta_train, meta_test, ind_train, ind_test = sklearn.cross_validation.train_test_split(X, y, ylabels, meta, range(len(y)))\n",
    "clf.fit(X_train, y_train)\n",
    "pred = clf.predict(X_test)\n",
    "\n",
    "derp1 = np.array([t[0] for t in meta_test])[:15]\n",
    "derp2 = dv.inverse_transform(pred)[:15]\n",
    "derp3 = np.array([t[0] for t in meta_test])[:15]\n",
    "\n",
    "#print np.vstack(()).T\n",
    "#print ylabels[testnum]\n"
   ]
  },
  {
   "cell_type": "code",
   "execution_count": null,
   "metadata": {
    "collapsed": false
   },
   "outputs": [],
   "source": [
    "print meta[897]\n",
    "print [dictionary[x[0]] for x in corpus[897]]"
   ]
  },
  {
   "cell_type": "code",
   "execution_count": null,
   "metadata": {
    "collapsed": false
   },
   "outputs": [],
   "source": [
    "print dv.inverse_transform(pred)\n",
    "print ylabels[testnum]"
   ]
  },
  {
   "cell_type": "code",
   "execution_count": null,
   "metadata": {
    "collapsed": false
   },
   "outputs": [],
   "source": []
  },
  {
   "cell_type": "code",
   "execution_count": null,
   "metadata": {
    "collapsed": false
   },
   "outputs": [],
   "source": [
    "' '.join(dictionary[w] for w, f in corpus[site])"
   ]
  },
  {
   "cell_type": "code",
   "execution_count": null,
   "metadata": {
    "collapsed": false
   },
   "outputs": [],
   "source": [
    "hdpmodel = gensim.models.hdpmodel.HdpModel(corpus=corpus, id2word=dictionary)"
   ]
  },
  {
   "cell_type": "code",
   "execution_count": null,
   "metadata": {
    "collapsed": false
   },
   "outputs": [],
   "source": [
    "hdpmodel[corpus[5]]"
   ]
  },
  {
   "cell_type": "code",
   "execution_count": null,
   "metadata": {
    "collapsed": false
   },
   "outputs": [],
   "source": [
    "hdptops = hdpmodel.show_topics()\n",
    "[x[0] for x in hdpmodel[corpus[5]]]"
   ]
  },
  {
   "cell_type": "code",
   "execution_count": null,
   "metadata": {
    "collapsed": false
   },
   "outputs": [],
   "source": [
    "hdptops[8]\n"
   ]
  },
  {
   "cell_type": "code",
   "execution_count": null,
   "metadata": {
    "collapsed": false
   },
   "outputs": [],
   "source": [
    "hdpmodel.m_eta + hdpmodel.m_lambda\n",
    "hdpmodel.id2word"
   ]
  },
  {
   "cell_type": "code",
   "execution_count": null,
   "metadata": {
    "collapsed": false
   },
   "outputs": [],
   "source": []
  },
  {
   "cell_type": "code",
   "execution_count": null,
   "metadata": {
    "collapsed": false
   },
   "outputs": [],
   "source": []
  },
  {
   "cell_type": "code",
   "execution_count": null,
   "metadata": {
    "collapsed": false
   },
   "outputs": [],
   "source": []
  }
 ],
 "metadata": {
  "kernelspec": {
   "display_name": "Python 2",
   "language": "python",
   "name": "python2"
  },
  "language_info": {
   "codemirror_mode": {
    "name": "ipython",
    "version": 2
   },
   "file_extension": ".py",
   "mimetype": "text/x-python",
   "name": "python",
   "nbconvert_exporter": "python",
   "pygments_lexer": "ipython2",
   "version": "2.7.6"
  }
 },
 "nbformat": 4,
 "nbformat_minor": 0
}
