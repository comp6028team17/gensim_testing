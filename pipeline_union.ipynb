{
 "cells": [
  {
   "cell_type": "code",
   "execution_count": 1,
   "metadata": {
    "collapsed": false
   },
   "outputs": [],
   "source": [
    "%matplotlib inline\n",
    "%load_ext autoreload\n",
    "%autoreload 2"
   ]
  },
  {
   "cell_type": "code",
   "execution_count": 2,
   "metadata": {
    "collapsed": false
   },
   "outputs": [],
   "source": [
    "from lib import jsoncorpus, datastuff, analysis\n",
    "import gensim\n",
    "import traceback\n",
    "import numpy as np\n",
    "import matplotlib.pyplot as plt\n",
    "from sklearn.pipeline import Pipeline, FeatureUnion\n",
    "import sklearn.preprocessing\n",
    "import sklearn.cross_validation\n",
    "import sklearn.ensemble\n",
    "import sklearn.svm\n",
    "import sklearn.decomposition\n",
    "from lib.scikitComponents import *\n",
    "import itertools\n",
    "import collections\n",
    "from lib.scikitComponents import pipelines"
   ]
  },
  {
   "cell_type": "markdown",
   "metadata": {},
   "source": [
    "## Data preprocessing"
   ]
  },
  {
   "cell_type": "code",
   "execution_count": 3,
   "metadata": {
    "collapsed": false
   },
   "outputs": [
    {
     "name": "stdout",
     "output_type": "stream",
     "text": [
      "Done.\n"
     ]
    }
   ],
   "source": [
    "# Load in the previously created corpus and dictionary of scraped sites\n",
    "#dictionary, corpus, meta_corpus, dmoz_data = jsoncorpus.load_or_create('docs/sites.jl')\n",
    "dictionary, corpus, meta_corpus, dmoz_data = jsoncorpus.load_or_create('docs/sites.jl', stemmed=True, prefix=\"stemmed_\")"
   ]
  },
  {
   "cell_type": "code",
   "execution_count": 4,
   "metadata": {
    "collapsed": false
   },
   "outputs": [],
   "source": [
    "# Set up array of input data\n",
    "X = zip(list(corpus), list(meta_corpus), dmoz_data['meta'])\n",
    "# Link topics to URLs\n",
    "meta = list(zip(dmoz_data['urls'], dmoz_data['dmoz_categories']))\n",
    "# Encode class labels\n",
    "classes, top_categories, dmoz_encoder = datastuff.encode_dmoz_categories(dmoz_data['dmoz_categories'])\n",
    "\n",
    "verbosity = 0"
   ]
  },
  {
   "cell_type": "markdown",
   "metadata": {},
   "source": [
    "## Get the scores of different combinations of classifiers"
   ]
  },
  {
   "cell_type": "code",
   "execution_count": 5,
   "metadata": {
    "collapsed": false
   },
   "outputs": [
    {
     "name": "stdout",
     "output_type": "stream",
     "text": [
      "Accuracy: 0.46 (+/- 0.08)\n"
     ]
    }
   ],
   "source": [
    "# Just TFIDF on metadata, LinearSVC\n",
    "clf1 = pipelines.make_classifier(dictionary, body_kind=None, meta_kind='tfidf', classifier = 'svc')\n",
    "scores = sklearn.cross_validation.cross_val_score(clf1, X, classes, cv=5, verbose=verbosity)\n",
    "analysis.print_score_accuracy(scores)"
   ]
  },
  {
   "cell_type": "code",
   "execution_count": 6,
   "metadata": {
    "collapsed": false
   },
   "outputs": [
    {
     "name": "stdout",
     "output_type": "stream",
     "text": [
      "Accuracy: 0.35 (+/- 0.06)\n"
     ]
    }
   ],
   "source": [
    "# Just word-count on metadata, LinearSVC\n",
    "clf2 = pipelines.make_classifier(dictionary, body_kind=None, meta_kind='count', classifier='svc')\n",
    "scores = sklearn.cross_validation.cross_val_score(clf2, X, classes, cv=5, verbose=verbosity)\n",
    "analysis.print_score_accuracy(scores)"
   ]
  },
  {
   "cell_type": "code",
   "execution_count": 7,
   "metadata": {
    "collapsed": false
   },
   "outputs": [
    {
     "name": "stdout",
     "output_type": "stream",
     "text": [
      "Accuracy: 0.52 (+/- 0.08)\n"
     ]
    }
   ],
   "source": [
    "# Just TFIDF on body, LinearSVC\n",
    "clf3 = pipelines.make_classifier(dictionary, body_kind='tfidf', meta_kind=None, classifier = 'svc')\n",
    "scores = sklearn.cross_validation.cross_val_score(clf3, X, classes, cv=5, verbose=verbosity)\n",
    "analysis.print_score_accuracy(scores)"
   ]
  },
  {
   "cell_type": "code",
   "execution_count": 8,
   "metadata": {
    "collapsed": false
   },
   "outputs": [
    {
     "name": "stdout",
     "output_type": "stream",
     "text": [
      "Accuracy: 0.38 (+/- 0.04)\n"
     ]
    }
   ],
   "source": [
    "# Just LDA on body, LinearSVC\n",
    "clf4 = pipelines.make_classifier(dictionary, body_kind='lda', meta_kind=None, classifier = 'svc')\n",
    "scores = sklearn.cross_validation.cross_val_score(clf4, X, classes, cv=5, verbose = verbosity)\n",
    "analysis.print_score_accuracy(scores)"
   ]
  },
  {
   "cell_type": "code",
   "execution_count": 9,
   "metadata": {
    "collapsed": false
   },
   "outputs": [
    {
     "name": "stdout",
     "output_type": "stream",
     "text": [
      "Accuracy: 0.54 (+/- 0.07)\n"
     ]
    }
   ],
   "source": [
    "# TFIDF on body and metadata, LinearSVC\n",
    "clf5 = pipelines.make_classifier(dictionary, body_kind='tfidf', meta_kind='tfidf', classifier = 'svc')\n",
    "scores = sklearn.cross_validation.cross_val_score(clf5, X, classes, cv=5, verbose = verbosity)\n",
    "analysis.print_score_accuracy(scores)"
   ]
  },
  {
   "cell_type": "markdown",
   "metadata": {},
   "source": [
    "## Do some analysis on a single test/train split"
   ]
  },
  {
   "cell_type": "markdown",
   "metadata": {},
   "source": [
    "### Find the score for each category. \n",
    "\n",
    "Note that if the classifier assigned *random* categories, the score would be $\\frac{1}{\\textrm{num categories}}$. Instead, it is actually quite high in some cases, indicating a moderate amount of success (given how naive this is!)"
   ]
  },
  {
   "cell_type": "code",
   "execution_count": 10,
   "metadata": {
    "collapsed": false
   },
   "outputs": [
    {
     "name": "stdout",
     "output_type": "stream",
     "text": [
      "             precision    recall  f1-score   support\n",
      "\n",
      "       arts       0.71      0.71      0.71        41\n",
      "   business       0.78      0.69      0.73        52\n",
      "  computers       0.82      0.73      0.78        64\n",
      "      games       0.86      0.69      0.77        26\n",
      "     health       0.67      0.67      0.67        21\n",
      "       home       0.77      0.75      0.76        32\n",
      "kids and teens       0.55      0.60      0.57        10\n",
      "       news       0.76      0.65      0.70        49\n",
      " recreation       0.62      0.62      0.62        40\n",
      "  reference       0.56      0.69      0.62        45\n",
      "   regional       1.00      0.33      0.50         3\n",
      "    science       0.71      0.60      0.65        57\n",
      "   shopping       0.61      0.71      0.65        24\n",
      "    society       0.72      0.50      0.59        46\n",
      "     sports       0.67      0.93      0.78        90\n",
      "\n",
      "avg / total       0.71      0.70      0.70       600\n",
      "\n"
     ]
    },
    {
     "name": "stderr",
     "output_type": "stream",
     "text": [
      "/Library/Python/2.7/site-packages/IPython/kernel/__main__.py:7: RuntimeWarning: divide by zero encountered in log\n"
     ]
    },
    {
     "data": {
      "image/png": "[encoded data removed]",
      "text/plain": [
       "<matplotlib.figure.Figure at 0x11541e990>"
      ]
     },
     "metadata": {},
     "output_type": "display_data"
    },
    {
     "name": "stdout",
     "output_type": "stream",
     "text": [
      "[[29  0  1  0  0  0  1  1  0  1  0  0  3  2  3]\n",
      " [ 1 36  1  1  0  0  0  0  1  2  0  2  4  0  4]\n",
      " [ 0  3 47  1  0  1  0  2  1  2  0  3  1  1  2]\n",
      " [ 0  0  0 18  0  0  0  0  1  0  0  2  0  0  5]\n",
      " [ 0  1  1  0 14  1  0  1  1  1  0  0  0  1  0]\n",
      " [ 0  0  1  0  0 24  0  0  0  2  0  1  0  2  2]\n",
      " [ 0  0  0  0  0  0  6  1  1  1  0  0  0  0  1]\n",
      " [ 4  1  1  0  3  2  0 32  1  2  0  0  0  1  2]\n",
      " [ 1  2  0  0  1  1  1  0 25  4  0  0  2  0  3]\n",
      " [ 3  0  1  0  0  0  1  1  0 31  0  1  1  0  6]\n",
      " [ 0  0  0  0  0  0  0  1  0  1  1  0  0  0  0]\n",
      " [ 2  1  2  0  3  2  1  1  2  2  0 34  0  2  5]\n",
      " [ 1  2  0  0  0  0  0  0  2  0  0  0 17  0  2]\n",
      " [ 0  0  0  1  0  0  1  1  4  4  0  5  0 23  7]\n",
      " [ 0  0  2  0  0  0  0  1  1  2  0  0  0  0 84]]\n"
     ]
    }
   ],
   "source": [
    "clf = pipelines.make_classifier(dictionary, meta_kind='tfidf', body_kind='tfidf', classifier = 'svc')\n",
    "X_train, X_test, y_train, y_test = datastuff.tt_split(X, classes, test_size = 0.2)\n",
    "clf.fit(X_train, y_train)\n",
    "predicted = clf.predict(X_test)\n",
    "print sklearn.metrics.classification_report(dmoz_encoder.inverse_transform(y_test), dmoz_encoder.inverse_transform(predicted), dmoz_encoder.classes_)\n",
    "cm = sklearn.metrics.confusion_matrix(dmoz_encoder.inverse_transform(y_test), dmoz_encoder.inverse_transform(predicted), dmoz_encoder.classes_)\n",
    "analysis.plot_confusion_matrix(np.log(cm), labels=dmoz_encoder.classes_)\n",
    "plt.show()\n",
    "print cm"
   ]
  },
  {
   "cell_type": "markdown",
   "metadata": {},
   "source": [
    "### How good are the top N guesses?"
   ]
  },
  {
   "cell_type": "code",
   "execution_count": 11,
   "metadata": {
    "collapsed": false
   },
   "outputs": [
    {
     "data": {
      "text/plain": [
       "<matplotlib.legend.Legend at 0x1148b9e10>"
      ]
     },
     "execution_count": 11,
     "metadata": {},
     "output_type": "execute_result"
    },
    {
     "data": {
      "image/png": "[encoded data removed]",
      "text/plain": [
       "<matplotlib.figure.Figure at 0x11541ed50>"
      ]
     },
     "metadata": {},
     "output_type": "display_data"
    }
   ],
   "source": [
    "clfs = [\n",
    "    pipelines.make_classifier(dictionary, meta_kind='tfidf', body_kind='tfidf', classifier = 'svc'),\n",
    "    pipelines.make_classifier(dictionary, meta_kind='tfidf', body_kind=None, classifier = 'svc'),\n",
    "    pipelines.make_classifier(dictionary, meta_kind=None, body_kind='tfidf', classifier = 'svc'),\n",
    "    pipelines.make_classifier(dictionary, meta_kind='count', body_kind='lda', classifier = 'svc'),\n",
    "    pipelines.make_classifier(dictionary, meta_kind=None, body_kind='lda', classifier = 'svc'),\n",
    "    pipelines.make_classifier(dictionary, meta_kind='count', body_kind=None, classifier = 'svc')\n",
    "]\n",
    "for clf in clfs:\n",
    "    clf.fit(X_train, y_train)\n",
    "    accuracies = analysis.accuracy_of_top_n_guesses(clf, X_test, y_test)\n",
    "    plt.step(range(1, len(accuracies)+1),accuracies, where='post')\n",
    "\n",
    "plt.legend(['tfidf both', 'tfidf meta', 'tfidf body', 'count+lda', 'body lda', 'meta count'], loc='lower right')"
   ]
  },
  {
   "cell_type": "code",
   "execution_count": null,
   "metadata": {
    "collapsed": true
   },
   "outputs": [],
   "source": []
  }
 ],
 "metadata": {
  "kernelspec": {
   "display_name": "Python 2",
   "language": "python",
   "name": "python2"
  },
  "language_info": {
   "codemirror_mode": {
    "name": "ipython",
    "version": 2
   },
   "file_extension": ".py",
   "mimetype": "text/x-python",
   "name": "python",
   "nbconvert_exporter": "python",
   "pygments_lexer": "ipython2",
   "version": "2.7.6"
  }
 },
 "nbformat": 4,
 "nbformat_minor": 0
}
