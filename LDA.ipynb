{
 "metadata": {
  "name": "",
  "signature": "sha256:719c93d8ac3827d5f1b78c7d0471f72ef4cf39e2331d559136fd113e92828236"
 },
 "nbformat": 3,
 "nbformat_minor": 0,
 "worksheets": [
  {
   "cells": [
    {
     "cell_type": "code",
     "collapsed": false,
     "input": [
      "%load_ext autoreload"
     ],
     "language": "python",
     "metadata": {},
     "outputs": [],
     "prompt_number": 1
    },
    {
     "cell_type": "code",
     "collapsed": false,
     "input": [
      "%matplotlib inline\n",
      "%autoreload 2"
     ],
     "language": "python",
     "metadata": {},
     "outputs": [],
     "prompt_number": 2
    },
    {
     "cell_type": "code",
     "collapsed": false,
     "input": [
      "from lib import jsoncorpus, datastuff\n",
      "import gensim\n",
      "import traceback"
     ],
     "language": "python",
     "metadata": {},
     "outputs": [],
     "prompt_number": 22
    },
    {
     "cell_type": "code",
     "collapsed": false,
     "input": [
      "corpus, dictionary = jsoncorpus.load_or_create('corpus', 'docs/sites.jl')"
     ],
     "language": "python",
     "metadata": {},
     "outputs": [
      {
       "output_type": "stream",
       "stream": "stdout",
       "text": [
        "Building filter list...\n",
        "Building corpora..."
       ]
      },
      {
       "output_type": "stream",
       "stream": "stdout",
       "text": [
        "\n",
        "Building corpora..."
       ]
      },
      {
       "output_type": "stream",
       "stream": "stdout",
       "text": [
        "\n",
        "Succesfully created corpus.mm and corpus.dict"
       ]
      },
      {
       "output_type": "stream",
       "stream": "stdout",
       "text": [
        "\n"
       ]
      }
     ],
     "prompt_number": 16
    },
    {
     "cell_type": "code",
     "collapsed": false,
     "input": [
      "model = gensim.models.ldamodel.LdaModel(corpus=corpus, id2word=dictionary, num_topics = 60, passes = 1, chunksize = 100)"
     ],
     "language": "python",
     "metadata": {},
     "outputs": [],
     "prompt_number": 17
    },
    {
     "cell_type": "code",
     "collapsed": false,
     "input": [
      "for t in model.show_topics(60)[:5]:\n",
      "    print t"
     ],
     "language": "python",
     "metadata": {},
     "outputs": [
      {
       "output_type": "stream",
       "stream": "stdout",
       "text": [
        "0.062*posted + 0.035*book + 0.023*usd + 0.020*chapter + 0.020*sep + 0.017*authors + 0.010*saving + 0.010*edgar + 0.010*contributions + 0.009*interested\n",
        "0.070*video + 0.045*air + 0.027*audio + 0.012*pm + 0.012*reviews + 0.011*birthday + 0.011*photography + 0.011*sea + 0.009*gear + 0.009*xbox\n",
        "0.017*artists + 0.010*representation + 0.008*objects + 0.007*hobby + 0.007*graphic + 0.007*jackets + 0.007*generally + 0.007*force + 0.007*differences + 0.007*av\n",
        "0.223*games + 0.157*game + 0.045*play + 0.026*rules + 0.019*player + 0.018*players + 0.015*played + 0.011*playing + 0.010*sport + 0.009*golf\n",
        "0.034*solid + 0.031*0px + 0.030*color + 0.026*width + 0.023*display + 0.020*font-size + 0.019*height + 0.017*left + 0.017*background + 0.017*10px\n"
       ]
      }
     ],
     "prompt_number": 18
    },
    {
     "cell_type": "code",
     "collapsed": false,
     "input": [
      "model[corpus[3]]"
     ],
     "language": "python",
     "metadata": {},
     "outputs": [
      {
       "metadata": {},
       "output_type": "pyout",
       "prompt_number": 19,
       "text": [
        "[(3, 0.14893678760239598),\n",
        " (17, 0.027954518189853544),\n",
        " (20, 0.11749221676187493),\n",
        " (37, 0.046505111226473418),\n",
        " (47, 0.64192128518754965)]"
       ]
      }
     ],
     "prompt_number": 19
    },
    {
     "cell_type": "code",
     "collapsed": false,
     "input": [
      "site = 600\n",
      "topics = [(p, [x[1] for x in model.show_topic(tid)[:6]]) for tid, p in model[corpus[site]]]\n",
      "topics = sorted(topics, key = (lambda x: -x[0]))\n",
      "for x in topics:\n",
      "    print x"
     ],
     "language": "python",
     "metadata": {},
     "outputs": [
      {
       "output_type": "stream",
       "stream": "stdout",
       "text": [
        "(0.13452213671247482, [u'beauty', u'travel', u'share', u'animals', u'dress', u'policy'])\n",
        "(0.13445497338784651, [u'university', u'international', u'member', u'history', u'studies', u'media'])\n",
        "(0.1291521546963022, [u'art', u'library', u'libraries', u'aesthetic', u'collection', u'music'])\n",
        "(0.12534743330919146, [u'bridal', u'word', u'\\u201cthe', u'story', u'universe', u'biography'])\n",
        "(0.084282131407041425, [u'video', u'air', u'audio', u'pm', u'reviews', u'birthday'])\n",
        "(0.060088602799620618, [u'articles', u'books', u'science', u'book', u'astronomy', u'content'])\n",
        "(0.059344531450940666, [u'site', u'resources', u'programs', u'school', u'guide', u'directory'])\n",
        "(0.049436335002851411, [u'house', u'order', u'essential', u'properties', u'types', u'environment'])\n",
        "(0.040168695654728054, [u'view', u'time', u'click', u'free', u'life', u'people'])\n",
        "(0.02871574932579906, [u'statues', u'bbc', u'dr', u'solar', u'radio', u'visual'])\n",
        "(0.028242570816405754, [u'day', u'moon', u'star', u'february', u'friday', u'black'])\n",
        "(0.027553554273852473, [u'judgments', u'case', u'people', u'law', u'questions', u'work'])\n",
        "(0.022201253934525628, [u'business', u'services', u'design', u'web', u'online', u'technology'])\n",
        "(0.019358734701284273, [u'question', u'party', u'search', u'sign', u'top', u'read'])\n",
        "(0.014007993861192549, [u'tobacco', u'term', u'archives', u'film', u'girl', u'toy'])\n"
       ]
      }
     ],
     "prompt_number": 69
    },
    {
     "cell_type": "code",
     "collapsed": false,
     "input": [
      "dat = datastuff.loadSplitJsonLines('docs/sites.jl.')\n",
      "meta = list((x['url'], x['topics']) for x in dat)"
     ],
     "language": "python",
     "metadata": {},
     "outputs": [],
     "prompt_number": 70
    },
    {
     "cell_type": "code",
     "collapsed": false,
     "input": [
      "meta[site]"
     ],
     "language": "python",
     "metadata": {},
     "outputs": [
      {
       "metadata": {},
       "output_type": "pyout",
       "prompt_number": 71,
       "text": [
        "(u'http://www.videolibrarian.com/', [u'arts', u'video'])"
       ]
      }
     ],
     "prompt_number": 71
    },
    {
     "cell_type": "code",
     "collapsed": false,
     "input": [
      "', '.join(dictionary[w] for w, f in corpus[site])"
     ],
     "language": "python",
     "metadata": {},
     "outputs": [
      {
       "metadata": {},
       "output_type": "pyout",
       "prompt_number": 73,
       "text": [
        "u'company, contact, content, latest, news, online, receive, review, support, video, world, click, great, learn, program, reserved, rights, advertising, calendar, club, comprehensive, copyright, march, access, database, visit, water, change, complete, energy, feature, food, heart, ideal, journey, list, popular, print, release, releases, resources, selection, unique, view, ways, website, february, upcoming, berlin, comments, media, questions, site, established, tm, archive, education, environmental, faqs, human, james, love, music, offers, passion, presented, publishing, rise, social, studies, soft, street, theory, industry, info, family, green, highlights, press, black, classic, overview, representing, series, videos, title, toy, doc, included, issues, subscribe, resource, \\u201ci, price, alexander, guide, preview, season, planet, regular, climate, man, river, archival, collections, includes, museum, original, purchase, titles, educational, star, walking, submission, film, independent, apartment, religion, spirituality, hero, movies, sound, sky, books, magazine, red, tv, universal, justice, teaching, description, nature, reviews, breakfast, distributors, learning, devoted, commentary, edition, issue, libraries, 30th, 50th, fire, dark, breaking, high-quality, newly, subscribers, secret, anniversary, encourage, databases, searchable, produced, companies, audiences, films, train, arrives, reductions, electronic, models, silent, waste, skin, entertaining, allison, expanded, witness, \\u201cthe, formats, scholarly, subscription, soul, acquiring, rating, award-winning, slate, children\\u2019s, seventeen, dumb, documentaries, specializes, distributing, publisher, bosses, faith-based, librarian, addendum, bible, robbery, advertisers, low-cost, camino, docs, distributes, ladd, gospel, kink, audiobook, bi-weekly, blu-ray, briefs, chaplin, critically-acclaimed, full-text, loginsubscribe, marchapril, one-time, pharaohs, salem, santiago, scarcity, spotlights, valley\\u201d, \\u201cbig, \\u201ctop, \\u2022\\xa0'"
       ]
      }
     ],
     "prompt_number": 73
    },
    {
     "cell_type": "code",
     "collapsed": false,
     "input": [],
     "language": "python",
     "metadata": {},
     "outputs": []
    }
   ],
   "metadata": {}
  }
 ]
}