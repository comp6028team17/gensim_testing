{
 "cells": [
  {
   "cell_type": "code",
   "execution_count": 1,
   "metadata": {
    "collapsed": false
   },
   "outputs": [],
   "source": [
    "%matplotlib inline\n",
    "%load_ext autoreload\n",
    "%autoreload 2"
   ]
  },
  {
   "cell_type": "code",
   "execution_count": 2,
   "metadata": {
    "collapsed": false
   },
   "outputs": [],
   "source": [
    "from lib import jsoncorpus, datastuff, analysis\n",
    "import gensim\n",
    "import traceback\n",
    "import numpy as np\n",
    "import matplotlib.pyplot as plt\n",
    "from sklearn.pipeline import Pipeline, FeatureUnion\n",
    "import sklearn.preprocessing\n",
    "import sklearn.cross_validation\n",
    "import sklearn.ensemble\n",
    "import sklearn.svm\n",
    "import sklearn.decomposition\n",
    "from lib.scikitComponents import *\n",
    "import itertools\n",
    "import collections"
   ]
  },
  {
   "cell_type": "markdown",
   "metadata": {},
   "source": [
    "# LDA"
   ]
  },
  {
   "cell_type": "markdown",
   "metadata": {},
   "source": [
    "## Data preprocessing"
   ]
  },
  {
   "cell_type": "code",
   "execution_count": 3,
   "metadata": {
    "collapsed": false
   },
   "outputs": [
    {
     "name": "stdout",
     "output_type": "stream",
     "text": [
      "Done.\n"
     ]
    }
   ],
   "source": [
    "# Load in the previously created corpus and dictionary of scraped sites\n",
    "dictionary, corpus, meta_corpus, dmoz_data = jsoncorpus.load_or_create('docs/sites.jl')"
   ]
  },
  {
   "cell_type": "code",
   "execution_count": 4,
   "metadata": {
    "collapsed": false
   },
   "outputs": [],
   "source": [
    "X = zip(dmoz_data[\"meta\"], list(corpus))"
   ]
  },
  {
   "cell_type": "code",
   "execution_count": 5,
   "metadata": {
    "collapsed": false
   },
   "outputs": [],
   "source": [
    "# Link topics to URLs\n",
    "meta = list(zip(dmoz_data['urls'], dmoz_data['dmoz_categories']))"
   ]
  },
  {
   "cell_type": "markdown",
   "metadata": {},
   "source": [
    "## Define a classification pipeline for the corpus data\n",
    "\n",
    "The Pipeline() object chains together objects from the lib.scikitComponents file, so that they can be used as part of a scikit-learn classification pipeline"
   ]
  },
  {
   "cell_type": "markdown",
   "metadata": {},
   "source": [
    "Define a classifier (decision trees), and chain the preprocessing step to the classifier"
   ]
  },
  {
   "cell_type": "code",
   "execution_count": 10,
   "metadata": {
    "collapsed": false
   },
   "outputs": [],
   "source": [
    "# classifier = sklearn.svm.LinearSVC(C=1.0, class_weight=None, dual=True, fit_intercept=True,\n",
    "#      intercept_scaling=1, loss='squared_hinge', max_iter=1000,\n",
    "#      multi_class='ovr', penalty='l2', random_state=None, tol=0.0001,\n",
    "#      verbose=0)\n",
    "\n",
    "# classifier = sklearn.svm.SVC(C=1.0, cache_size=200, class_weight=None, coef0=0.0, degree=3,\n",
    "# gamma=0.0, kernel='rbf', max_iter=-1, probability=False, random_state=None,\n",
    "# shrinking=True, tol=0.001, verbose=False)\n",
    "\n",
    "classes, top_categories, dmoz_encoder = datastuff.encode_dmoz_categories(dmoz_data['dmoz_categories'])\n",
    "\n",
    "num_lda_topics = 15\n",
    "meta_pipeline = Pipeline([\n",
    "    ('meta_picker', ItemPicker(0)),\n",
    "    ('meta_sanitiser', MetaSanitiser(meta_selection_flags = 13)),\n",
    "    ('matrix_builder', MetaMatrixBuilder())\n",
    "])\n",
    "body_pipeline = Pipeline([\n",
    "    ('meta_picker', ItemPicker(1)),\n",
    "    ('lda_model', LDAModel(dictionary, num_lda_topics)),\n",
    "    ('matrix_builder', TopicMatrixBuilder(num_lda_topics))\n",
    "])\n",
    "classifier = sklearn.ensemble.ExtraTreesClassifier(random_state=0, n_estimators=100, oob_score=True, bootstrap=True, n_jobs=4)\n",
    "\n",
    "union = FeatureUnion([(\"meta\", meta_pipeline), (\"body\", body_pipeline)])\n",
    "\n",
    "clf = Pipeline([('features', union), ('classifier', classifier)])\n"
   ]
  },
  {
   "cell_type": "markdown",
   "metadata": {},
   "source": [
    "## Run the classifier\n",
    "\n",
    "We can use the meta corpus or the full body corpus here, just by replacing a single argument\n",
    "\n",
    "The data is split in to training and test sets, and then fit to the training set. The LDA model is generated ***only*** from the training set, not the testing set."
   ]
  },
  {
   "cell_type": "code",
   "execution_count": 11,
   "metadata": {
    "collapsed": false
   },
   "outputs": [
    {
     "name": "stdout",
     "output_type": "stream",
     "text": [
      "Accuracy: 0.45 (+/- 0.06)\n"
     ]
    }
   ],
   "source": [
    "scores = sklearn.cross_validation.cross_val_score(clf, X, classes, cv=5)\n",
    "print(\"Accuracy: %0.2f (+/- %0.2f)\" % (scores.mean(), scores.std() * 2))"
   ]
  },
  {
   "cell_type": "code",
   "execution_count": 14,
   "metadata": {
    "collapsed": false
   },
   "outputs": [
    {
     "name": "stdout",
     "output_type": "stream",
     "text": [
      "0.553333333333\n"
     ]
    }
   ],
   "source": [
    "X_train, X_test, y_train, y_test = sklearn.cross_validation.train_test_split(np.array(X), classes)\n",
    "model = clf.fit(X_train, y_train)\n",
    "print model.score(X_test, y_test)"
   ]
  },
  {
   "cell_type": "markdown",
   "metadata": {},
   "source": [
    "### Find the score for each category. \n",
    "\n",
    "Note that if the classifier assigned *random* categories, the score would be $\\frac{1}{\\textrm{num categories}}$. Instead, it is actually quite high in some cases, indicating a moderate amount of success (given how naive this is!)"
   ]
  },
  {
   "cell_type": "code",
   "execution_count": 15,
   "metadata": {
    "collapsed": false
   },
   "outputs": [
    {
     "name": "stdout",
     "output_type": "stream",
     "text": [
      "             precision    recall  f1-score   support\n",
      "\n",
      "       arts       0.57      0.57      0.57        35\n",
      "   business       0.53      0.55      0.54        47\n",
      "  computers       0.44      0.70      0.54        50\n",
      "      games       0.60      0.32      0.41        19\n",
      "     health       0.55      0.53      0.54        32\n",
      "       home       0.77      0.37      0.50        46\n",
      "kids and teens       1.00      0.31      0.47        13\n",
      "       news       0.62      0.72      0.67        43\n",
      " recreation       0.48      0.24      0.32        42\n",
      "  reference       0.57      0.49      0.53        41\n",
      "   regional       0.00      0.00      0.00         2\n",
      "    science       0.58      0.50      0.54        56\n",
      "   shopping       0.67      0.53      0.59        30\n",
      "    society       0.59      0.30      0.40        43\n",
      "     sports       0.53      0.89      0.67       101\n",
      "\n",
      "avg / total       0.58      0.56      0.54       600\n",
      "\n"
     ]
    },
    {
     "name": "stderr",
     "output_type": "stream",
     "text": [
      "/Library/Python/2.7/site-packages/IPython/kernel/__main__.py:4: RuntimeWarning: divide by zero encountered in log\n"
     ]
    },
    {
     "data": {
      "image/png": "[encoded data removed]",
      "text/plain": [
       "<matplotlib.figure.Figure at 0x109fd2a90>"
      ]
     },
     "metadata": {},
     "output_type": "display_data"
    },
    {
     "name": "stdout",
     "output_type": "stream",
     "text": [
      "[[20  1  5  0  0  0  0  2  0  1  0  2  1  2  1]\n",
      " [ 2 26  8  0  2  2  0  1  2  1  0  0  0  0  3]\n",
      " [ 2  2 35  0  1  0  0  0  2  1  0  3  0  0  4]\n",
      " [ 1  0  1  6  0  0  0  2  0  1  0  0  1  0  7]\n",
      " [ 0  3  2  1 17  0  0  0  0  0  0  3  0  1  5]\n",
      " [ 0  5  2  0  2 17  0  5  3  0  0  1  1  1  9]\n",
      " [ 0  0  0  0  2  0  4  1  0  2  0  0  0  0  4]\n",
      " [ 1  2  3  1  1  0  0 31  0  0  0  0  1  0  3]\n",
      " [ 1  1  2  0  1  2  0  1 10  3  0  2  3  0 16]\n",
      " [ 1  1  6  0  0  0  0  3  0 20  0  5  0  1  4]\n",
      " [ 0  0  0  0  0  0  0  2  0  0  0  0  0  0  0]\n",
      " [ 3  2  9  0  1  0  0  1  0  1  0 28  1  3  7]\n",
      " [ 2  3  1  0  0  1  0  0  2  1  0  0 16  1  3]\n",
      " [ 0  3  3  1  3  0  0  0  0  3  0  4  0 13 13]\n",
      " [ 2  0  3  1  1  0  0  1  2  1  0  0  0  0 90]]\n"
     ]
    }
   ],
   "source": [
    "predicted = model.predict(X_test)\n",
    "print sklearn.metrics.classification_report(dmoz_encoder.inverse_transform(y_test), dmoz_encoder.inverse_transform(predicted), dmoz_encoder.classes_)\n",
    "cm = sklearn.metrics.confusion_matrix(dmoz_encoder.inverse_transform(y_test), dmoz_encoder.inverse_transform(predicted), dmoz_encoder.classes_)\n",
    "analysis.plot_confusion_matrix(np.log(cm), labels= dmoz_encoder.classes_)\n",
    "plt.show()\n",
    "print cm"
   ]
  },
  {
   "cell_type": "code",
   "execution_count": null,
   "metadata": {
    "collapsed": true
   },
   "outputs": [],
   "source": []
  }
 ],
 "metadata": {
  "kernelspec": {
   "display_name": "Python 2",
   "language": "python",
   "name": "python2"
  },
  "language_info": {
   "codemirror_mode": {
    "name": "ipython",
    "version": 2
   },
   "file_extension": ".py",
   "mimetype": "text/x-python",
   "name": "python",
   "nbconvert_exporter": "python",
   "pygments_lexer": "ipython2",
   "version": "2.7.6"
  }
 },
 "nbformat": 4,
 "nbformat_minor": 0
}
