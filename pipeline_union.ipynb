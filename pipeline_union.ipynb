{
 "cells": [
  {
   "cell_type": "code",
   "execution_count": 1,
   "metadata": {
    "collapsed": false
   },
   "outputs": [],
   "source": [
    "%matplotlib inline\n",
    "%load_ext autoreload\n",
    "%autoreload 2"
   ]
  },
  {
   "cell_type": "code",
   "execution_count": 2,
   "metadata": {
    "collapsed": false
   },
   "outputs": [],
   "source": [
    "from lib import jsoncorpus, datastuff, analysis\n",
    "import gensim\n",
    "import traceback\n",
    "import numpy as np\n",
    "import matplotlib.pyplot as plt\n",
    "from sklearn.pipeline import Pipeline, FeatureUnion\n",
    "import sklearn.preprocessing\n",
    "import sklearn.cross_validation\n",
    "import sklearn.ensemble\n",
    "import sklearn.svm\n",
    "import sklearn.decomposition\n",
    "from lib.scikitComponents import *\n",
    "import itertools\n",
    "import collections"
   ]
  },
  {
   "cell_type": "markdown",
   "metadata": {},
   "source": [
    "# LDA"
   ]
  },
  {
   "cell_type": "markdown",
   "metadata": {},
   "source": [
    "## Data preprocessing"
   ]
  },
  {
   "cell_type": "code",
   "execution_count": 3,
   "metadata": {
    "collapsed": false
   },
   "outputs": [
    {
     "name": "stdout",
     "output_type": "stream",
     "text": [
      "Done.\n"
     ]
    }
   ],
   "source": [
    "# Load in the previously created corpus and dictionary of scraped sites\n",
    "dictionary, corpus, meta_corpus, dmoz_data = jsoncorpus.load_or_create('docs/sites.jl')"
   ]
  },
  {
   "cell_type": "code",
   "execution_count": 4,
   "metadata": {
    "collapsed": false
   },
   "outputs": [],
   "source": [
    "X = zip(dmoz_data[\"meta\"], list(corpus))"
   ]
  },
  {
   "cell_type": "code",
   "execution_count": 5,
   "metadata": {
    "collapsed": false
   },
   "outputs": [],
   "source": [
    "# Link topics to URLs\n",
    "meta = list(zip(dmoz_data['urls'], dmoz_data['dmoz_categories']))"
   ]
  },
  {
   "cell_type": "markdown",
   "metadata": {},
   "source": [
    "## Define a classification pipeline for the corpus data\n",
    "\n",
    "The Pipeline() object chains together objects from the lib.scikitComponents file, so that they can be used as part of a scikit-learn classification pipeline"
   ]
  },
  {
   "cell_type": "markdown",
   "metadata": {},
   "source": [
    "Define a classifier (decision trees), and chain the preprocessing step to the classifier"
   ]
  },
  {
   "cell_type": "code",
   "execution_count": 6,
   "metadata": {
    "collapsed": false
   },
   "outputs": [],
   "source": [
    "# classifier = sklearn.svm.LinearSVC(C=1.0, class_weight=None, dual=True, fit_intercept=True,\n",
    "#      intercept_scaling=1, loss='squared_hinge', max_iter=1000,\n",
    "#      multi_class='ovr', penalty='l2', random_state=None, tol=0.0001,\n",
    "#      verbose=0)\n",
    "\n",
    "# classifier = sklearn.svm.SVC(C=1.0, cache_size=200, class_weight=None, coef0=0.0, degree=3,\n",
    "# gamma=0.0, kernel='rbf', max_iter=-1, probability=False, random_state=None,\n",
    "# shrinking=True, tol=0.001, verbose=False)\n",
    "\n",
    "classes, top_categories, dmoz_encoder = datastuff.encode_dmoz_categories(dmoz_data['dmoz_categories'])\n",
    "\n",
    "num_lda_topics = 15\n",
    "meta_pipeline = Pipeline([\n",
    "    ('meta_picker', ItemPicker(0)),\n",
    "    ('meta_sanitiser', MetaSanitiser(meta_selection_flags = 5)),\n",
    "    ('matrix_builder', MetaMatrixBuilder())\n",
    "])\n",
    "body_pipeline = Pipeline([\n",
    "    ('meta_picker', ItemPicker(1)),\n",
    "    ('lda_model', LDAModel(dictionary, num_lda_topics)),\n",
    "    ('matrix_builder', TopicMatrixBuilder(num_lda_topics))\n",
    "])\n",
    "classifier = sklearn.ensemble.ExtraTreesClassifier(random_state=0, n_estimators=100, oob_score=True, bootstrap=True, n_jobs=4)\n",
    "\n",
    "union = FeatureUnion([(\"meta\", meta_pipeline), (\"body\", body_pipeline)])\n",
    "\n",
    "clf = Pipeline([('features', union), ('classifier', classifier)])\n"
   ]
  },
  {
   "cell_type": "markdown",
   "metadata": {},
   "source": [
    "## Run the classifier\n",
    "\n",
    "We can use the meta corpus or the full body corpus here, just by replacing a single argument\n",
    "\n",
    "The data is split in to training and test sets, and then fit to the training set. The LDA model is generated ***only*** from the training set, not the testing set."
   ]
  },
  {
   "cell_type": "code",
   "execution_count": 7,
   "metadata": {
    "collapsed": false
   },
   "outputs": [
    {
     "name": "stdout",
     "output_type": "stream",
     "text": [
      "Accuracy: 0.41 (+/- 0.06)\n"
     ]
    }
   ],
   "source": [
    "scores = sklearn.cross_validation.cross_val_score(clf, X, classes, cv=5)\n",
    "print(\"Accuracy: %0.2f (+/- %0.2f)\" % (scores.mean(), scores.std() * 2))"
   ]
  },
  {
   "cell_type": "code",
   "execution_count": 8,
   "metadata": {
    "collapsed": false
   },
   "outputs": [
    {
     "name": "stdout",
     "output_type": "stream",
     "text": [
      "0.515\n"
     ]
    }
   ],
   "source": [
    "X_train, X_test, y_train, y_test = sklearn.cross_validation.train_test_split(np.array(X), classes)\n",
    "model = clf.fit(X_train, y_train)\n",
    "print model.score(X_test, y_test)"
   ]
  },
  {
   "cell_type": "markdown",
   "metadata": {},
   "source": [
    "### Find the score for each category. \n",
    "\n",
    "Note that if the classifier assigned *random* categories, the score would be $\\frac{1}{\\textrm{num categories}}$. Instead, it is actually quite high in some cases, indicating a moderate amount of success (given how naive this is!)"
   ]
  },
  {
   "cell_type": "code",
   "execution_count": 9,
   "metadata": {
    "collapsed": false
   },
   "outputs": [
    {
     "name": "stdout",
     "output_type": "stream",
     "text": [
      "             precision    recall  f1-score   support\n",
      "\n",
      "       arts       0.29      0.38      0.33        32\n",
      "   business       0.54      0.49      0.51        43\n",
      "  computers       0.49      0.74      0.59        54\n",
      "      games       0.40      0.21      0.28        19\n",
      "     health       0.51      0.51      0.51        37\n",
      "       home       0.47      0.33      0.39        27\n",
      "kids and teens       1.00      0.23      0.38        13\n",
      "       news       0.60      0.64      0.62        39\n",
      " recreation       0.64      0.20      0.31        45\n",
      "  reference       0.55      0.35      0.43        60\n",
      "   regional       0.00      0.00      0.00         2\n",
      "    science       0.41      0.58      0.48        45\n",
      "   shopping       0.87      0.48      0.62        27\n",
      "    society       0.54      0.24      0.33        55\n",
      "     sports       0.55      0.93      0.69       102\n",
      "\n",
      "avg / total       0.54      0.52      0.49       600\n",
      "\n"
     ]
    },
    {
     "name": "stderr",
     "output_type": "stream",
     "text": [
      "/Library/Python/2.7/site-packages/sklearn/metrics/classification.py:958: UndefinedMetricWarning: Precision and F-score are ill-defined and being set to 0.0 in labels with no predicted samples.\n",
      "  'precision', 'predicted', average, warn_for)\n",
      "/Library/Python/2.7/site-packages/IPython/kernel/__main__.py:4: RuntimeWarning: divide by zero encountered in log\n"
     ]
    },
    {
     "data": {
      "image/png": "[encoded data removed]",
      "text/plain": [
       "<matplotlib.figure.Figure at 0x109f954d0>"
      ]
     },
     "metadata": {},
     "output_type": "display_data"
    },
    {
     "name": "stdout",
     "output_type": "stream",
     "text": [
      "[[12  1  2  0  0  0  0  3  0  3  0  3  0  1  7]\n",
      " [ 3 21  5  0  2  2  0  3  1  1  0  1  0  0  4]\n",
      " [ 1  2 40  0  0  0  0  1  0  1  0  6  0  0  3]\n",
      " [ 2  0  1  4  0  0  0  0  0  0  0  0  0  1 11]\n",
      " [ 2  5  1  0 19  1  0  2  0  1  0  4  0  1  1]\n",
      " [ 0  6  3  0  3  9  0  0  0  0  0  0  0  2  4]\n",
      " [ 3  0  0  0  2  0  3  0  0  0  0  0  0  1  4]\n",
      " [ 0  0  3  1  1  0  0 25  0  0  0  1  1  1  6]\n",
      " [ 5  1  6  0  1  2  0  0  9  2  0  3  0  2 14]\n",
      " [ 5  0  7  1  0  0  0  4  0 21  0 10  0  0 12]\n",
      " [ 0  0  0  0  0  0  0  1  0  0  0  0  0  0  1]\n",
      " [ 2  0  6  0  2  0  0  0  1  4  0 26  0  1  3]\n",
      " [ 1  2  2  0  2  3  0  0  2  0  0  0 13  0  2]\n",
      " [ 4  1  4  2  5  2  0  3  1  5  0  9  0 13  6]\n",
      " [ 1  0  2  2  0  0  0  0  0  0  0  0  1  1 95]]\n"
     ]
    }
   ],
   "source": [
    "predicted = model.predict(X_test)\n",
    "print sklearn.metrics.classification_report(dmoz_encoder.inverse_transform(y_test), dmoz_encoder.inverse_transform(predicted), dmoz_encoder.classes_)\n",
    "cm = sklearn.metrics.confusion_matrix(dmoz_encoder.inverse_transform(y_test), dmoz_encoder.inverse_transform(predicted), dmoz_encoder.classes_)\n",
    "analysis.plot_confusion_matrix(np.log(cm), labels= dmoz_encoder.classes_)\n",
    "plt.show()\n",
    "print cm"
   ]
  },
  {
   "cell_type": "code",
   "execution_count": null,
   "metadata": {
    "collapsed": true
   },
   "outputs": [],
   "source": []
  }
 ],
 "metadata": {
  "kernelspec": {
   "display_name": "Python 2",
   "language": "python",
   "name": "python2"
  },
  "language_info": {
   "codemirror_mode": {
    "name": "ipython",
    "version": 2
   },
   "file_extension": ".py",
   "mimetype": "text/x-python",
   "name": "python",
   "nbconvert_exporter": "python",
   "pygments_lexer": "ipython2",
   "version": "2.7.6"
  }
 },
 "nbformat": 4,
 "nbformat_minor": 0
}
