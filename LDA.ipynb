{
 "cells": [
  {
   "cell_type": "code",
   "execution_count": 90,
   "metadata": {
    "collapsed": false
   },
   "outputs": [
    {
     "name": "stdout",
     "output_type": "stream",
     "text": [
      "The autoreload extension is already loaded. To reload it, use:\n",
      "  %reload_ext autoreload\n"
     ]
    }
   ],
   "source": [
    "%matplotlib inline\n",
    "%load_ext autoreload\n",
    "%autoreload 2"
   ]
  },
  {
   "cell_type": "code",
   "execution_count": 91,
   "metadata": {
    "collapsed": false
   },
   "outputs": [],
   "source": [
    "from lib import jsoncorpus, datastuff\n",
    "import gensim\n",
    "import traceback\n",
    "import numpy as np\n",
    "import matplotlib.pyplot as plt\n",
    "import sklearn.svm\n",
    "import sklearn.feature_extraction"
   ]
  },
  {
   "cell_type": "markdown",
   "metadata": {},
   "source": [
    "# LDA"
   ]
  },
  {
   "cell_type": "code",
   "execution_count": 96,
   "metadata": {
    "collapsed": false
   },
   "outputs": [
    {
     "name": "stdout",
     "output_type": "stream",
     "text": [
      "Building new dictionary\n",
      "0\n",
      "20\n",
      "40\n",
      "60\n",
      "80\n",
      "100\n",
      "120\n",
      "140\n",
      "160\n",
      "180\n",
      "200\n",
      "220\n",
      "240\n",
      "260\n",
      "280\n",
      "300\n",
      "320\n",
      "340\n",
      "360\n",
      "380\n",
      "400\n",
      "420\n",
      "440\n",
      "460\n",
      "480\n",
      "500\n",
      "520\n",
      "540\n",
      "560\n",
      "580\n",
      "600\n",
      "620\n",
      "640\n",
      "660\n",
      "680\n",
      "700\n",
      "720\n",
      "740\n",
      "760\n",
      "780\n",
      "800\n",
      "820\n",
      "840\n",
      "860\n",
      "880\n",
      "900\n",
      "920\n",
      "940\n",
      "960\n",
      "980\n",
      "1000\n",
      "1020\n",
      "1040\n",
      "1060\n",
      "1080\n",
      "1100\n",
      "1120\n",
      "1140\n",
      "1160\n",
      "1180\n",
      "1200\n",
      "1220\n",
      "1240\n",
      "1260\n",
      "1280\n",
      "1300\n",
      "1320\n",
      "1340\n",
      "1360\n",
      "1380\n",
      "1400\n",
      "1420\n",
      "1440\n",
      "1460\n",
      "1480\n",
      "1500\n",
      "1520\n",
      "1540\n",
      "1560\n",
      "1580\n",
      "1600\n",
      "1620\n",
      "1640\n",
      "1660\n",
      "1680\n",
      "1700\n",
      "1720\n",
      "1740\n",
      "1760\n",
      "1780\n",
      "1800\n",
      "1820\n",
      "1840\n",
      "1860\n",
      "1880\n",
      "1900\n",
      "1920\n",
      "1940\n",
      "1960\n",
      "1980\n",
      "2000\n",
      "2020\n",
      "2040\n",
      "2060\n",
      "2080\n",
      "2100\n",
      "2120\n",
      "2140\n",
      "2160\n",
      "2180\n",
      "2200\n",
      "2220\n",
      "2240\n",
      "2260\n",
      "2280\n",
      "2300\n",
      "2320\n",
      "2340\n",
      "2360\n",
      "2380\n",
      "Building new corpora\n",
      "Building meta data file\n",
      "Done.\n"
     ]
    }
   ],
   "source": [
    "# Load in the previously created corpus and dictionary of scraped sites\n",
    "dictionary, corpus, meta_corpus, dmoz_data = jsoncorpus.load_or_create('docs/sites.jl')"
   ]
  },
  {
   "cell_type": "code",
   "execution_count": 98,
   "metadata": {
    "collapsed": false
   },
   "outputs": [
    {
     "data": {
      "text/plain": [
       "{u'keywords': [u'abc news', u'breaking news', u'headline news', u'latest news', u'top news', u'online news', u'video news', u'world news', u'national news', u'abc news', u'abcnews', u'abc news online'], 'title': [u'abc', u'news', u'breaking', u'news', u'latest', u'news', u'-', u'abc', u'news'], u'description': [u'get', u'breaking', u'national', u'and', u'world', u'news', u'broadcast', u'video', u'coverage', u'and', u'exclusive', u'interviews', u'find', u'the', u'top', u'news', u'online', u'at', u'abc', u'news'], u'author': [u'abc', u'news']}"
      ]
     },
     "execution_count": 98,
     "metadata": {},
     "output_type": "execute_result"
    }
   ],
   "source": [
    "dmoz_data[\"meta\"][0]"
   ]
  },
  {
   "cell_type": "code",
   "execution_count": 103,
   "metadata": {
    "collapsed": false
   },
   "outputs": [],
   "source": [
    "# Build a list of all topics\n",
    "alltopics = set(tuple(t) for t in dmoz_data['topics'])\n",
    "# Build a list of all top-level topics\n",
    "toptopics = set(topic[0] for topic in dmoz_data['topics'])\n",
    "# Link topics to URLs\n",
    "meta = list(zip(dmoz_data['urls'], dmoz_data['topics']))\n"
   ]
  },
  {
   "cell_type": "code",
   "execution_count": 104,
   "metadata": {
    "collapsed": false
   },
   "outputs": [],
   "source": [
    "# Generate LDA Model of document bodies\n",
    "model = gensim.models.ldamodel.LdaModel(corpus=corpus, id2word=dictionary, num_topics = len(alltopics), passes = 1, chunksize = 100)"
   ]
  },
  {
   "cell_type": "code",
   "execution_count": 105,
   "metadata": {
    "collapsed": true
   },
   "outputs": [],
   "source": [
    "# Generate LDA Model of metadata\n",
    "meta_model = gensim.models.ldamodel.LdaModel(corpus=meta_corpus, id2word=dictionary, num_topics = len(toptopics), passes = 1, chunksize = 100)"
   ]
  },
  {
   "cell_type": "code",
   "execution_count": 106,
   "metadata": {
    "collapsed": false
   },
   "outputs": [
    {
     "name": "stdout",
     "output_type": "stream",
     "text": [
      "0.046*design + 0.027*drilling + 0.019*auctions + 0.018*awards + 0.011*real + 0.011*toys + 0.011*buy + 0.010*creative + 0.009*museum + 0.008*graphic\n",
      "0.026*arts + 0.019*childrens + 0.019*fun + 0.016*trade + 0.015*answers + 0.015*school + 0.015*parents + 0.015*architecture + 0.014*homework + 0.013*pictures\n",
      "0.052*free + 0.042*health + 0.033*online + 0.027*education + 0.024*dictionary + 0.022*search + 0.022*medical + 0.020*library + 0.016*encyclopedia + 0.016*time\n",
      "0.021*knots + 0.019*animation + 0.018*sale + 0.016*philosophy + 0.014*quotes + 0.012*cards + 0.011*animated + 0.010*financial + 0.009*accessories + 0.009*tutorials\n",
      "0.113*games + 0.043*news + 0.031*business + 0.025*find + 0.025*reviews + 0.019*world + 0.015*guide + 0.013*national + 0.013*miniature + 0.012*sport\n"
     ]
    }
   ],
   "source": [
    "# Show some examples of LDA topics\n",
    "for t in meta_model.show_topics(10)[:5]:\n",
    "    print t"
   ]
  },
  {
   "cell_type": "code",
   "execution_count": 107,
   "metadata": {
    "collapsed": false
   },
   "outputs": [
    {
     "name": "stdout",
     "output_type": "stream",
     "text": [
      "(u'http://games.espn.go.com/frontpage', [u'sports', u'fantasy'])\n",
      "\n",
      "(0.13283840088522278, [u'sports', u'find', u'top', u'movies', u'entertainment', u'living'])\n",
      "(0.073046193814951865, [u'time', u'world', u'change', u'modern', u'fact', u'life'])\n",
      "(0.071602471435565113, [u'life', u'time', u'story', u'speaker', u'times', u'model'])\n",
      "(0.038129875757050902, [u'collecting', u'prize', u'driving', u'misc', u'dinner', u'allowed'])\n",
      "(0.037237119148705859, [u'hours', u'corporate', u'visit', u'reply', u'operations', u'registered'])\n",
      "(0.03617912146157972, [u'game', u'play', u'playing', u'games', u'strategy', u'played'])\n",
      "(0.034335033204411926, [u'isbn', u'edit', u'retrieved', u'wikipedia', u'commons', u'printable'])\n",
      "(0.029179953033619713, [u'pcs', u'monday', u'wednesday', u'super', u'tuesday', u'friday'])\n",
      "(0.027803240102185288, [u'house', u'bill', u'state', u'case', u'logic', u'government'])\n",
      "(0.027729327611440757, [u'table', u'city', u'league', u'win', u'manchester', u'finish'])\n",
      "(0.026398372243677894, [u'stories', u'updated', u'ebola', u'movies', u'today', u'preview'])\n",
      "(0.025815650736500596, [u'work', u'theory', u'time', u'words', u'people', u'good'])\n",
      "(0.023785109290991334, [u'john', u'david', u'du', u'peter', u'fair', u'richard'])\n",
      "(0.018905289919310182, [u'news', u'virtual', u'visual', u'rome', u'christian', u'paris'])\n",
      "(0.018674359359152379, [u'weather', u'news', u'racing', u'philadelphia', u'cnn', u'ap'])\n",
      "(0.015883161362226589, [u'education', u'programs', u'life', u'shop', u'policy', u'kids'])\n",
      "(0.015726428036443429, [u'spring', u'jewelry', u'reality', u'activities', u'shoes', u'water'])\n",
      "(0.015605383204548049, [u'player', u'encyclopedia', u'players', u'box', u'selection', u'final'])\n",
      "(0.015399225488406283, [u'click', u'published', u'item', u'golf', u'flash', u'elementary'])\n",
      "(0.014918843176939933, [u'australia', u'ship', u'australian', u'refer', u'iii', u'royal'])\n",
      "(0.014756646879175881, [u'book', u'computer', u'books', u'examples', u'author', u'written'])\n",
      "(0.014126901232924366, [u'games', u'game', u'players', u'1st', u'heroes', u'personality'])\n",
      "(0.013072715787181576, [u'open', u'event', u'events', u'registration', u'masters', u'wellness'])\n",
      "(0.013067799351262276, [u'birthday', u'mar', u'news', u'recipes', u'party', u'dress'])\n",
      "(0.01296847251269851, [u'arts', u'science', u'music', u'teachers', u'archives', u'books'])\n",
      "(0.011803510732538844, [u'united', u'states', u'america', u'asia', u'europe', u'africa'])\n",
      "(0.011451952775744552, [u'special', u'early', u'offer', u'complete', u'edge', u'award'])\n",
      "(0.011414497567721338, [u'gifts', u'state', u'texas', u'york', u'virginia', u'animals'])\n",
      "(0.01118754894175473, [u'body', u'check', u'enter', u'challenge', u'provider', u'details'])\n",
      "(0.011126853725874157, [u'christmas', u'beautiful', u'great', u'house', u'medieval', u'day'])\n",
      "\n",
      "Total prob: 0.82416945878\n",
      "\n",
      "\n"
     ]
    }
   ],
   "source": [
    "# Show some examples of topics for a particular corpus\n",
    "site = 650\n",
    "print meta[site]\n",
    "print \n",
    "topics = [(p, [x[1] for x in model.show_topic(tid)[:6]]) for tid, p in model[corpus[site]]]\n",
    "topics = sorted(topics, key = (lambda x: -x[0]))\n",
    "sums = 0\n",
    "for x in topics:\n",
    "    sums += x[0]\n",
    "    if sums > 0.9:\n",
    "        break\n",
    "    print x\n",
    "print \"\\nTotal prob: {}\\n\\n\".format(sums)\n"
   ]
  },
  {
   "cell_type": "markdown",
   "metadata": {},
   "source": [
    "# Category assignment"
   ]
  },
  {
   "cell_type": "code",
   "execution_count": 111,
   "metadata": {
    "collapsed": false
   },
   "outputs": [],
   "source": [
    "# Build an array of features linking corpus to topics\n",
    "features = np.zeros((len(corpus), len(alltopics)))\n",
    "totals = np.zeros(len(alltopics))\n",
    "for i, doc in enumerate(model[corpus]):\n",
    "    for topic, p in doc:\n",
    "        features[i, topic] = p\n",
    "        totals[topic] += p\n",
    "        \n"
   ]
  },
  {
   "cell_type": "code",
   "execution_count": 112,
   "metadata": {
    "collapsed": false
   },
   "outputs": [
    {
     "data": {
      "text/plain": [
       "<matplotlib.image.AxesImage at 0x1482d7a10>"
      ]
     },
     "execution_count": 112,
     "metadata": {},
     "output_type": "execute_result"
    },
    {
     "data": {
      "image/png": "[encoded data removed]",
      "text/plain": [
       "<matplotlib.figure.Figure at 0x114a1b6d0>"
      ]
     },
     "metadata": {},
     "output_type": "display_data"
    }
   ],
   "source": [
    "plt.imshow(features.T)"
   ]
  },
  {
   "cell_type": "code",
   "execution_count": 115,
   "metadata": {
    "collapsed": false
   },
   "outputs": [
    {
     "name": "stdout",
     "output_type": "stream",
     "text": [
      "[ 0.00125     0.01376721  0.00125156]\n"
     ]
    }
   ],
   "source": [
    "import sklearn.preprocessing\n",
    "import sklearn.tree\n",
    "import sklearn.svm\n",
    "import sklearn.multiclass\n",
    "import sklearn.ensemble\n",
    "import sklearn.cross_validation\n",
    "\n",
    "\n",
    "all_ylabels = dmoz_data['topics']\n",
    "import itertools\n",
    "import collections\n",
    "counts = collections.Counter(itertools.chain.from_iterable(all_ylabels))\n",
    "uncommon = [x for x in counts if counts[x] < 9]\n",
    "ylabels = np.array([[i for i in l if i not in uncommon] for l in all_ylabels])\n",
    "\n",
    "#if len(ylabels.shape) == 1:\n",
    "if False:\n",
    "    label_processor = sklearn.preprocessing.LabelEncoder()\n",
    "else:\n",
    "    label_processor = sklearn.preprocessing.MultiLabelBinarizer()\n",
    "\n",
    "label_processor.fit(ylabels)\n",
    "#clf = sklearn.tree.DecisionTreeClassifier(random_state=0)\n",
    "clf = sklearn.ensemble.ExtraTreesClassifier(random_state=0, n_estimators=100, oob_score=True, bootstrap=True, n_jobs=4)\n",
    "X = features[:,np.sum(features > 0, axis=0)>0]\n",
    "#X = np.random.rand(X.shape[0], X.shape[1])\n",
    "y = label_processor.transform(ylabels)\n",
    "print sklearn.cross_validation.cross_val_score(clf, X, y)\n"
   ]
  },
  {
   "cell_type": "code",
   "execution_count": null,
   "metadata": {
    "collapsed": false
   },
   "outputs": [],
   "source": [
    "label_processor.transform(ylabels[1:4])"
   ]
  },
  {
   "cell_type": "code",
   "execution_count": null,
   "metadata": {
    "collapsed": false
   },
   "outputs": [],
   "source": [
    "ylabels[1:40]"
   ]
  },
  {
   "cell_type": "code",
   "execution_count": null,
   "metadata": {
    "collapsed": false
   },
   "outputs": [],
   "source": [
    "ylabels[100]"
   ]
  },
  {
   "cell_type": "code",
   "execution_count": null,
   "metadata": {
    "collapsed": false
   },
   "outputs": [],
   "source": [
    "test = sklearn.preprocessing.MultiLabelBinarizer().fit(ylabels)\n",
    "print test.transform(ylabels[1])\n",
    "print test.inverse_transform(test.transform([ylabels[0]]))\n"
   ]
  },
  {
   "cell_type": "code",
   "execution_count": 75,
   "metadata": {
    "collapsed": false
   },
   "outputs": [
    {
     "data": {
      "text/plain": [
       "ExtraTreesClassifier(bootstrap=True, compute_importances=None,\n",
       "           criterion='gini', max_depth=None, max_features='auto',\n",
       "           max_leaf_nodes=None, min_density=None, min_samples_leaf=1,\n",
       "           min_samples_split=2, n_estimators=100, n_jobs=4, oob_score=True,\n",
       "           random_state=0, verbose=0)"
      ]
     },
     "execution_count": 75,
     "metadata": {},
     "output_type": "execute_result"
    }
   ],
   "source": [
    "#zip(clf.transform(X)[0][np.where(clf.transform(X)[0]>0)], ylabels[np.where(clf.transform(X)[0]>0)])\n",
    "clf.fit(X, y)"
   ]
  },
  {
   "cell_type": "code",
   "execution_count": 77,
   "metadata": {
    "collapsed": false
   },
   "outputs": [
    {
     "data": {
      "text/plain": [
       "[(u'http://www.siliconcoach.com/', [u'sports', u'software']),\n",
       " (u'http://www.recenroll.com/', [u'sports', u'software']),\n",
       " (u'http://www.gametime.net/', [u'sports', u'software']),\n",
       " (u'http://www.foxsportspulse.com/', [u'sports', u'software']),\n",
       " (u'http://www.crosstrainer.ca/', [u'sports', u'software']),\n",
       " (u'http://www.integratedsports.net/', [u'sports', u'software']),\n",
       " (u'http://www.sporting-heroes.net/', [u'sports', u'people']),\n",
       " (u'http://coedjewishsports.org/', [u'sports', u'organizations']),\n",
       " (u'http://www.sportandrecreation.org.uk', [u'sports', u'organizations']),\n",
       " (u'http://www.eis2win.co.uk/pages/default.aspx',\n",
       "  [u'sports', u'organizations'])]"
      ]
     },
     "execution_count": 77,
     "metadata": {},
     "output_type": "execute_result"
    }
   ],
   "source": [
    "meta[0:10]"
   ]
  },
  {
   "cell_type": "code",
   "execution_count": 76,
   "metadata": {
    "collapsed": false
   },
   "outputs": [
    {
     "name": "stdout",
     "output_type": "stream",
     "text": [
      "[(u'software', u'sports'),\n",
      " (u'software', u'sports'),\n",
      " (u'software', u'sports'),\n",
      " (u'software', u'sports'),\n",
      " (u'software', u'sports'),\n",
      " (u'software', u'sports'),\n",
      " (u'people', u'sports'),\n",
      " (u'organizations', u'sports'),\n",
      " (u'organizations', u'sports'),\n",
      " (u'organizations', u'sports')]\n"
     ]
    }
   ],
   "source": [
    "from pprint import pprint\n",
    "pprint(label_processor.inverse_transform(clf.predict(X[0:10])))\n"
   ]
  },
  {
   "cell_type": "code",
   "execution_count": 16,
   "metadata": {
    "collapsed": false
   },
   "outputs": [
    {
     "ename": "NameError",
     "evalue": "name 'dv' is not defined",
     "output_type": "error",
     "traceback": [
      "\u001b[0;31m---------------------------------------------------------------------------\u001b[0m",
      "\u001b[0;31mNameError\u001b[0m                                 Traceback (most recent call last)",
      "\u001b[0;32m<ipython-input-16-5f68cbeb1c6b>\u001b[0m in \u001b[0;36m<module>\u001b[0;34m()\u001b[0m\n\u001b[1;32m      4\u001b[0m \u001b[0;34m\u001b[0m\u001b[0m\n\u001b[1;32m      5\u001b[0m \u001b[0mderp1\u001b[0m \u001b[0;34m=\u001b[0m \u001b[0mnp\u001b[0m\u001b[0;34m.\u001b[0m\u001b[0marray\u001b[0m\u001b[0;34m(\u001b[0m\u001b[0;34m[\u001b[0m\u001b[0mt\u001b[0m\u001b[0;34m[\u001b[0m\u001b[0;36m0\u001b[0m\u001b[0;34m]\u001b[0m \u001b[0;32mfor\u001b[0m \u001b[0mt\u001b[0m \u001b[0;32min\u001b[0m \u001b[0mmeta_test\u001b[0m\u001b[0;34m]\u001b[0m\u001b[0;34m)\u001b[0m\u001b[0;34m[\u001b[0m\u001b[0;34m:\u001b[0m\u001b[0;36m15\u001b[0m\u001b[0;34m]\u001b[0m\u001b[0;34m\u001b[0m\u001b[0m\n\u001b[0;32m----> 6\u001b[0;31m \u001b[0mderp2\u001b[0m \u001b[0;34m=\u001b[0m \u001b[0mdv\u001b[0m\u001b[0;34m.\u001b[0m\u001b[0minverse_transform\u001b[0m\u001b[0;34m(\u001b[0m\u001b[0mpred\u001b[0m\u001b[0;34m)\u001b[0m\u001b[0;34m[\u001b[0m\u001b[0;34m:\u001b[0m\u001b[0;36m15\u001b[0m\u001b[0;34m]\u001b[0m\u001b[0;34m\u001b[0m\u001b[0m\n\u001b[0m\u001b[1;32m      7\u001b[0m \u001b[0mderp3\u001b[0m \u001b[0;34m=\u001b[0m \u001b[0mnp\u001b[0m\u001b[0;34m.\u001b[0m\u001b[0marray\u001b[0m\u001b[0;34m(\u001b[0m\u001b[0;34m[\u001b[0m\u001b[0mt\u001b[0m\u001b[0;34m[\u001b[0m\u001b[0;36m0\u001b[0m\u001b[0;34m]\u001b[0m \u001b[0;32mfor\u001b[0m \u001b[0mt\u001b[0m \u001b[0;32min\u001b[0m \u001b[0mmeta_test\u001b[0m\u001b[0;34m]\u001b[0m\u001b[0;34m)\u001b[0m\u001b[0;34m[\u001b[0m\u001b[0;34m:\u001b[0m\u001b[0;36m15\u001b[0m\u001b[0;34m]\u001b[0m\u001b[0;34m\u001b[0m\u001b[0m\n\u001b[1;32m      8\u001b[0m \u001b[0;34m\u001b[0m\u001b[0m\n",
      "\u001b[0;31mNameError\u001b[0m: name 'dv' is not defined"
     ]
    }
   ],
   "source": [
    "X_train, X_test, y_train, y_test, ylabels_train, ylabels_test, meta_train, meta_test, ind_train, ind_test = sklearn.cross_validation.train_test_split(X, y, ylabels, meta, range(len(y)))\n",
    "clf.fit(X_train, y_train)\n",
    "pred = clf.predict(X_test)\n",
    "\n",
    "derp1 = np.array([t[0] for t in meta_test])[:15]\n",
    "derp2 = dv.inverse_transform(pred)[:15]\n",
    "derp3 = np.array([t[0] for t in meta_test])[:15]\n",
    "\n",
    "#print np.vstack(()).T\n",
    "#print ylabels[testnum]\n"
   ]
  },
  {
   "cell_type": "code",
   "execution_count": null,
   "metadata": {
    "collapsed": false
   },
   "outputs": [],
   "source": [
    "print meta[897]\n",
    "print [dictionary[x[0]] for x in corpus[897]]"
   ]
  },
  {
   "cell_type": "code",
   "execution_count": null,
   "metadata": {
    "collapsed": false
   },
   "outputs": [],
   "source": [
    "print dv.inverse_transform(pred)\n",
    "print ylabels[testnum]"
   ]
  },
  {
   "cell_type": "code",
   "execution_count": null,
   "metadata": {
    "collapsed": false
   },
   "outputs": [],
   "source": []
  },
  {
   "cell_type": "code",
   "execution_count": null,
   "metadata": {
    "collapsed": false
   },
   "outputs": [],
   "source": [
    "' '.join(dictionary[w] for w, f in corpus[site])"
   ]
  },
  {
   "cell_type": "code",
   "execution_count": null,
   "metadata": {
    "collapsed": false
   },
   "outputs": [],
   "source": [
    "hdpmodel = gensim.models.hdpmodel.HdpModel(corpus=corpus, id2word=dictionary)"
   ]
  },
  {
   "cell_type": "code",
   "execution_count": null,
   "metadata": {
    "collapsed": false
   },
   "outputs": [],
   "source": [
    "hdpmodel[corpus[5]]"
   ]
  },
  {
   "cell_type": "code",
   "execution_count": null,
   "metadata": {
    "collapsed": false
   },
   "outputs": [],
   "source": [
    "hdptops = hdpmodel.show_topics()\n",
    "[x[0] for x in hdpmodel[corpus[5]]]"
   ]
  },
  {
   "cell_type": "code",
   "execution_count": null,
   "metadata": {
    "collapsed": false
   },
   "outputs": [],
   "source": [
    "hdptops[8]\n"
   ]
  },
  {
   "cell_type": "code",
   "execution_count": null,
   "metadata": {
    "collapsed": false
   },
   "outputs": [],
   "source": [
    "hdpmodel.m_eta + hdpmodel.m_lambda\n",
    "hdpmodel.id2word"
   ]
  },
  {
   "cell_type": "code",
   "execution_count": null,
   "metadata": {
    "collapsed": false
   },
   "outputs": [],
   "source": []
  },
  {
   "cell_type": "code",
   "execution_count": null,
   "metadata": {
    "collapsed": false
   },
   "outputs": [],
   "source": []
  },
  {
   "cell_type": "code",
   "execution_count": null,
   "metadata": {
    "collapsed": false
   },
   "outputs": [],
   "source": []
  }
 ],
 "metadata": {
  "kernelspec": {
   "display_name": "Python 2",
   "language": "python",
   "name": "python2"
  },
  "language_info": {
   "codemirror_mode": {
    "name": "ipython",
    "version": 2
   },
   "file_extension": ".py",
   "mimetype": "text/x-python",
   "name": "python",
   "nbconvert_exporter": "python",
   "pygments_lexer": "ipython2",
   "version": "2.7.6"
  }
 },
 "nbformat": 4,
 "nbformat_minor": 0
}
