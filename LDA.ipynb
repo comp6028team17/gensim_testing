{
 "metadata": {
  "name": "",
  "signature": "sha256:fb6809a9e876d33eb88df1a30f5db80be96dc6565871ada85ece19187b6e6f9d"
 },
 "nbformat": 3,
 "nbformat_minor": 0,
 "worksheets": [
  {
   "cells": [
    {
     "cell_type": "code",
     "collapsed": false,
     "input": [
      "%matplotlib inline\n",
      "%autoreload 2"
     ],
     "language": "python",
     "metadata": {},
     "outputs": [],
     "prompt_number": 2
    },
    {
     "cell_type": "code",
     "collapsed": false,
     "input": [
      "from lib import jsoncorpus, datastuff\n",
      "import gensim\n",
      "import traceback\n",
      "import numpy as np\n",
      "import matplotlib.pyplot as plt\n",
      "import sklearn.svm\n",
      "import sklearn.feature_extraction"
     ],
     "language": "python",
     "metadata": {},
     "outputs": [],
     "prompt_number": 208
    },
    {
     "cell_type": "code",
     "collapsed": false,
     "input": [
      "corpus, dictionary = jsoncorpus.load_or_create('corpus', 'docs/sites.jl')"
     ],
     "language": "python",
     "metadata": {},
     "outputs": [
      {
       "output_type": "stream",
       "stream": "stdout",
       "text": [
        "Building filter list...\n",
        "Building corpora..."
       ]
      },
      {
       "output_type": "stream",
       "stream": "stdout",
       "text": [
        "\n",
        "Building corpora..."
       ]
      },
      {
       "output_type": "stream",
       "stream": "stdout",
       "text": [
        "\n",
        "Succesfully created corpus.mm and corpus.dict"
       ]
      },
      {
       "output_type": "stream",
       "stream": "stdout",
       "text": [
        "\n"
       ]
      }
     ],
     "prompt_number": 16
    },
    {
     "cell_type": "code",
     "collapsed": false,
     "input": [
      "dat = datastuff.loadSplitJsonLines('docs/sites.jl.')"
     ],
     "language": "python",
     "metadata": {},
     "outputs": [],
     "prompt_number": 382
    },
    {
     "cell_type": "code",
     "collapsed": false,
     "input": [
      "alltopics = set(', '.join(x['topics']) for x in datastuff.loadSplitJsonLines('docs/sites.jl.'))\n",
      "model = gensim.models.ldamodel.LdaModel(corpus=corpus, id2word=dictionary, num_topics = len(alltopics), passes = 1, chunksize = 100)"
     ],
     "language": "python",
     "metadata": {},
     "outputs": [],
     "prompt_number": 93
    },
    {
     "cell_type": "code",
     "collapsed": false,
     "input": [],
     "language": "python",
     "metadata": {},
     "outputs": [
      {
       "metadata": {},
       "output_type": "pyout",
       "prompt_number": 346,
       "text": [
        "array([1, 4, 2])"
       ]
      }
     ],
     "prompt_number": 346
    },
    {
     "cell_type": "code",
     "collapsed": false,
     "input": [
      "meta = list((x['url'], x['topics']) for x in dat)"
     ],
     "language": "python",
     "metadata": {},
     "outputs": [],
     "prompt_number": 383
    },
    {
     "cell_type": "code",
     "collapsed": false,
     "input": [
      "for t in model.show_topics(60)[:5]:\n",
      "    print t"
     ],
     "language": "python",
     "metadata": {},
     "outputs": [
      {
       "output_type": "stream",
       "stream": "stdout",
       "text": [
        "0.000*squash + 0.000*league + 0.000*indian + 0.000*beach + 0.000*sport + 0.000*cup + 0.000*volleyball + 0.000*womens + 0.000*world + 0.000*mens\n",
        "0.000*ski + 0.000*resorts + 0.000*skiing + 0.000*linear + 0.000*1px + 0.000*resort + 0.000*park + 0.000*national + 0.000*top + 0.000*photo\n",
        "0.000*volleyball + 0.000*beach + 0.000*fivb + 0.000*april + 0.000*team + 0.000*sports + 0.000*mens + 0.000*womens + 0.000*pro + 0.000*july\n",
        "0.000*beach + 0.000*volleyball + 0.000*fivb + 0.000*coaching + 0.000*open + 0.000*mens + 0.000*womens + 0.000*pro + 0.000*june + 0.000*july\n",
        "0.000*diving + 0.000*booklet + 0.000*released + 0.000*click + 0.000*iss + 0.000*member + 0.000*mms + 0.000*sports + 0.000*version + 0.000*tumbling\n"
       ]
      }
     ],
     "prompt_number": 94
    },
    {
     "cell_type": "code",
     "collapsed": false,
     "input": [
      "model[corpus[3]]"
     ],
     "language": "python",
     "metadata": {},
     "outputs": [
      {
       "metadata": {},
       "output_type": "pyout",
       "prompt_number": 95,
       "text": [
        "[(53, 0.25843570307748714),\n",
        " (141, 0.010483220627551909),\n",
        " (144, 0.011199805550830833),\n",
        " (168, 0.010430363986665575),\n",
        " (197, 0.011232246173402105),\n",
        " (277, 0.022221237690373142),\n",
        " (298, 0.48480566821871263),\n",
        " (320, 0.1488715607928032)]"
       ]
      }
     ],
     "prompt_number": 95
    },
    {
     "cell_type": "code",
     "collapsed": false,
     "input": [
      "site = 650\n",
      "topics = [(p, [x[1] for x in model.show_topic(tid)[:6]]) for tid, p in model[corpus[site]]]\n",
      "topics = sorted(topics, key = (lambda x: -x[0]))\n",
      "sums = 0\n",
      "for x in topics:\n",
      "    sums += x[0]\n",
      "    if sums > 0.9:\n",
      "        break\n",
      "    print x\n",
      "print \"\\nTotal prob: {}\\n\\n\".format(sums)\n",
      "print meta[site]"
     ],
     "language": "python",
     "metadata": {},
     "outputs": [
      {
       "output_type": "stream",
       "stream": "stdout",
       "text": [
        "(0.1023526861201762, [u'games', u'rules', u'game', u'sport', u'football', u'sports'])\n",
        "(0.085150253704358525, [u'science', u'university', u'history', u'books', u'press', u'book'])\n",
        "(0.078398841550875106, [u'programs', u'project', u'program', u'map', u'community', u'staff'])\n",
        "(0.070702262816776412, [u'background', u'youth', u'bids', u'bottom', u'affiliates', u'positive'])\n",
        "(0.059023466416984693, [u'work', u'works', u'theory', u'room', u'physics', u'real'])\n",
        "(0.05144946554226483, [u'media', u'financial', u'publishing', u'jobs', u'government', u'human'])\n",
        "(0.041088222079848039, [u'reviews', u'agencies', u'search', u'advanced', u'funded', u'governing'])\n",
        "(0.032762624179030878, [u'learn', u'find', u'shop', u'featured', u'careers', u'tv'])\n",
        "(0.032078212720300973, [u'properties', u'definition', u'canada', u'flowers', u'sheets', u'pal'])\n",
        "(0.030848917124178643, [u'management', u'public', u'services', u'data', u'studies', u'resources'])\n",
        "(0.030085874053655551, [u'state', u'north', u'park', u'california', u'washington', u'car'])\n",
        "(0.029701503644189775, [u'dr', u'institute', u'workshop', u'full', u'meal', u'international'])\n",
        "(0.025417406469126425, [u'reading', u'time', u'nature', u'year', u'force', u'notion'])\n",
        "(0.025149053627305445, [u'college', u'bowl', u'deadline', u'high-quality', u'jerseys', u'newly'])\n",
        "(0.02434982059786148, [u'arts', u'education', u'animals', u'entertainment', u'learning', u'science'])\n",
        "(0.023980780967921524, [u'game', u'play', u'school', u'playing', u'teaching', u'played'])\n",
        "(0.021396137521023123, [u'view', u'fundamental', u'career', u'recognized', u'phd', u'director'])\n",
        "(0.02027175339988212, [u'academic', u'visual', u'intellectual', u'foundation', u'civil', u'police'])\n",
        "(0.017102933104879179, [u'parents', u'control', u'theme', u'studio', u'girl', u'parent'])\n",
        "(0.016059852519987025, [u'post', u'browsers', u'register', u'national', u'users', u'search'])\n",
        "(0.015820588058682833, [u'search', u'news', u'policy', u'google', u'facebook', u'privacy'])\n",
        "(0.012926579903883443, [u'content', u'archives', u'term', u'original', u'material', u'general'])\n",
        "(0.012770808024998895, [u'garden', u'hand', u'century', u'bad', u'cited', u'fact'])\n",
        "(0.012449118400143436, [u'day', u'dress', u'week', u'world', u'days', u'president'])\n",
        "(0.012142622499636619, [u'market', u'professional', u'service', u'offer', u'country', u'content'])\n",
        "(0.011628412929666741, [u'read', u'house', u'women', u'question', u'top', u'cars'])\n",
        "\n",
        "Total prob: 0.90632380905\n",
        "\n",
        "\n",
        "(u'http://edwp.educ.msu.edu/isys/', [u'sports', u'youth and high school'])\n"
       ]
      }
     ],
     "prompt_number": 150
    },
    {
     "cell_type": "code",
     "collapsed": false,
     "input": [
      "features = np.zeros((len(corpus), len(alltopics)))\n",
      "totals = np.zeros(len(alltopics))\n",
      "for i, doc in enumerate(model[corpus]):\n",
      "    for topic, p in doc:\n",
      "        features[i, topic] = p\n",
      "        totals[topic] += p"
     ],
     "language": "python",
     "metadata": {},
     "outputs": [],
     "prompt_number": 180
    },
    {
     "cell_type": "code",
     "collapsed": false,
     "input": [
      "[1, 2, 4][:2]"
     ],
     "language": "python",
     "metadata": {},
     "outputs": [
      {
       "metadata": {},
       "output_type": "pyout",
       "prompt_number": 403,
       "text": [
        "[1, 2]"
       ]
      }
     ],
     "prompt_number": 403
    },
    {
     "cell_type": "code",
     "collapsed": false,
     "input": [
      "import sklearn.preprocessing\n",
      "import sklearn.tree\n",
      "import sklearn.svm\n",
      "import sklearn.multiclass\n",
      "import sklearn.ensemble\n",
      "import sklearn.cross_validation\n",
      "\n",
      "\n",
      "all_ylabels = np.array([x['topics'][:2] for x in datastuff.loadSplitJsonLines('docs/sites.jl.')])\n",
      "import itertools\n",
      "import collections\n",
      "counts = collections.Counter(itertools.chain.from_iterable(all_ylabels))\n",
      "uncommon = [x for x in counts if counts[x] < 9]\n",
      "ylabels = np.array([[i for i in l if i not in uncommon] for l in all_ylabels])\n",
      "\n",
      "if len(ylabels.shape) == 1:\n",
      "    label_processor = sklearn.preprocessing.LabelEncoder()\n",
      "else:\n",
      "    label_processor = sklearn.preprocessing.MultiLabelBinarizer()\n",
      "\n",
      "label_processor.fit(ylabels)\n",
      "#clf = sklearn.tree.DecisionTreeClassifier(random_state=0)\n",
      "clf = sklearn.ensemble.ExtraTreesClassifier(random_state=0, n_estimators=100, oob_score=True, bootstrap=True, n_jobs=4)\n",
      "X = features\n",
      "y = label_processor.transform(ylabels)\n",
      "print sklearn.cross_validation.cross_val_score(clf, X, y)\n"
     ],
     "language": "python",
     "metadata": {},
     "outputs": [
      {
       "output_type": "stream",
       "stream": "stdout",
       "text": [
        "[ 0.18343195  0.19672131  0.19053876]\n"
       ]
      }
     ],
     "prompt_number": 451
    },
    {
     "cell_type": "code",
     "collapsed": false,
     "input": [],
     "language": "python",
     "metadata": {},
     "outputs": [],
     "prompt_number": 447
    },
    {
     "cell_type": "code",
     "collapsed": false,
     "input": [],
     "language": "python",
     "metadata": {},
     "outputs": [],
     "prompt_number": 447
    },
    {
     "cell_type": "code",
     "collapsed": false,
     "input": [
      "X_train, X_test, y_train, y_test, ylabels_train, ylabels_test, meta_train, meta_test, ind_train, ind_test = sklearn.cross_validation.train_test_split(X, y, ylabels, meta, range(len(y)))\n",
      "clf.fit(X_train, y_train)\n",
      "pred = clf.predict(X_test)\n",
      "\n",
      "derp1 = np.array([t[0] for t in meta_test])[:15]\n",
      "derp2 = dv.inverse_transform(pred)[:15]\n",
      "derp3 = np.array([t[0] for t in meta_test])[:15]\n",
      "\n",
      "#print np.vstack(()).T\n",
      "#print ylabels[testnum]\n"
     ],
     "language": "python",
     "metadata": {},
     "outputs": [
      {
       "ename": "IndexError",
       "evalue": "index 31 is out of bounds for axis 1 with size 15",
       "output_type": "pyerr",
       "traceback": [
        "\u001b[0;31m---------------------------------------------------------------------------\u001b[0m\n\u001b[0;31mIndexError\u001b[0m                                Traceback (most recent call last)",
        "\u001b[0;32m<ipython-input-448-5f68cbeb1c6b>\u001b[0m in \u001b[0;36m<module>\u001b[0;34m()\u001b[0m\n\u001b[1;32m      4\u001b[0m \u001b[0;34m\u001b[0m\u001b[0m\n\u001b[1;32m      5\u001b[0m \u001b[0mderp1\u001b[0m \u001b[0;34m=\u001b[0m \u001b[0mnp\u001b[0m\u001b[0;34m.\u001b[0m\u001b[0marray\u001b[0m\u001b[0;34m(\u001b[0m\u001b[0;34m[\u001b[0m\u001b[0mt\u001b[0m\u001b[0;34m[\u001b[0m\u001b[0;36m0\u001b[0m\u001b[0;34m]\u001b[0m \u001b[0;32mfor\u001b[0m \u001b[0mt\u001b[0m \u001b[0;32min\u001b[0m \u001b[0mmeta_test\u001b[0m\u001b[0;34m]\u001b[0m\u001b[0;34m)\u001b[0m\u001b[0;34m[\u001b[0m\u001b[0;34m:\u001b[0m\u001b[0;36m15\u001b[0m\u001b[0;34m]\u001b[0m\u001b[0;34m\u001b[0m\u001b[0m\n\u001b[0;32m----> 6\u001b[0;31m \u001b[0mderp2\u001b[0m \u001b[0;34m=\u001b[0m \u001b[0mdv\u001b[0m\u001b[0;34m.\u001b[0m\u001b[0minverse_transform\u001b[0m\u001b[0;34m(\u001b[0m\u001b[0mpred\u001b[0m\u001b[0;34m)\u001b[0m\u001b[0;34m[\u001b[0m\u001b[0;34m:\u001b[0m\u001b[0;36m15\u001b[0m\u001b[0;34m]\u001b[0m\u001b[0;34m\u001b[0m\u001b[0m\n\u001b[0m\u001b[1;32m      7\u001b[0m \u001b[0mderp3\u001b[0m \u001b[0;34m=\u001b[0m \u001b[0mnp\u001b[0m\u001b[0;34m.\u001b[0m\u001b[0marray\u001b[0m\u001b[0;34m(\u001b[0m\u001b[0;34m[\u001b[0m\u001b[0mt\u001b[0m\u001b[0;34m[\u001b[0m\u001b[0;36m0\u001b[0m\u001b[0;34m]\u001b[0m \u001b[0;32mfor\u001b[0m \u001b[0mt\u001b[0m \u001b[0;32min\u001b[0m \u001b[0mmeta_test\u001b[0m\u001b[0;34m]\u001b[0m\u001b[0;34m)\u001b[0m\u001b[0;34m[\u001b[0m\u001b[0;34m:\u001b[0m\u001b[0;36m15\u001b[0m\u001b[0;34m]\u001b[0m\u001b[0;34m\u001b[0m\u001b[0m\n\u001b[1;32m      8\u001b[0m \u001b[0;34m\u001b[0m\u001b[0m\n",
        "\u001b[0;32m/Library/Python/2.7/site-packages/sklearn/preprocessing/label.pyc\u001b[0m in \u001b[0;36minverse_transform\u001b[0;34m(self, y)\u001b[0m\n\u001b[1;32m    164\u001b[0m \u001b[0;34m\u001b[0m\u001b[0m\n\u001b[1;32m    165\u001b[0m         \u001b[0my\u001b[0m \u001b[0;34m=\u001b[0m \u001b[0mnp\u001b[0m\u001b[0;34m.\u001b[0m\u001b[0masarray\u001b[0m\u001b[0;34m(\u001b[0m\u001b[0my\u001b[0m\u001b[0;34m)\u001b[0m\u001b[0;34m\u001b[0m\u001b[0m\n\u001b[0;32m--> 166\u001b[0;31m         \u001b[0;32mreturn\u001b[0m \u001b[0mself\u001b[0m\u001b[0;34m.\u001b[0m\u001b[0mclasses_\u001b[0m\u001b[0;34m[\u001b[0m\u001b[0my\u001b[0m\u001b[0;34m]\u001b[0m\u001b[0;34m\u001b[0m\u001b[0m\n\u001b[0m\u001b[1;32m    167\u001b[0m \u001b[0;34m\u001b[0m\u001b[0m\n\u001b[1;32m    168\u001b[0m \u001b[0;34m\u001b[0m\u001b[0m\n",
        "\u001b[0;31mIndexError\u001b[0m: index 31 is out of bounds for axis 1 with size 15"
       ]
      }
     ],
     "prompt_number": 448
    },
    {
     "cell_type": "code",
     "collapsed": false,
     "input": [
      "print meta[897]\n",
      "print [dictionary[x[0]] for x in corpus[897]]"
     ],
     "language": "python",
     "metadata": {},
     "outputs": [
      {
       "output_type": "stream",
       "stream": "stdout",
       "text": [
        "(u'http://www.pawnation.com/', [u'recreation', u'pets'])\n",
        "[u'box', u'brings', u'contact', u'content', u'feedback', u'interactive', u'life', u'register', u'training', u'video', u'community', u'great', u'llc', u'reserved', u'rights', u'web', u'club', u'copyright', u'court', u'friendly', u'photos', u'user', u'advertise', u'alive', u'follow', u'fox', u'privacy', u'search', u'sign', u'top', u'benefits', u'favorites', u'featured', u'health', u'list', u'nutrition', u'popular', u'release', u'view', u'az', u'bolton', u'born', u'japan', u'mail', u'send', u'facts', u'game', u'happy', u'human', u'james', u'nation', u'offers', u'talks', u'wild', u'care', u'lifestyle', u'play', u'sc', u'talented', u'shop', u'form', u'family', u'photo', u'10px', u'40px', u'agreement', u'background', u'beach', u'grass', u'left', u'li', u'margin-top5px', u'no-repeat', u'recap', u'sammy', u'table', u'videos', u'vote', u'white', u'leaders', u'squad', u'toy', u'position', u'true', u'weeks', u'gallery', u'joy', u'stories', u'veteran', u'perfection', u'wins', u'20px', u'ahover', u'favorite', u'preview', u'season', u'snow', u'submit', u'long', u'shave', u'perfect', u'a-z', u'absolute', u'movies', u'final', u'phoenix', u'il', u'cat', u'age', u'breakfast', u'notice', u'baby', u'img', u'single', u'animals', u'episode', u'leave', u'heads', u'cats', u'cool', u'letting', u'feeding', u'glass', u'editors', u'30th', u'adoption', u'guidelines', u'raju', u'ct', u'joe', u'ads', u'dog', u'frisbee', u'celebs', u'grooming', u'weird', u'animal', u'displayblock', u'door', u'horse', u'shine', u'twins', u'aol', u'plea', u'tale', u'sxsw', u'caught', u'snake', u'mix', u'mode', u'abused', u'hd', u'cleaning', u'rolls', u'beasts', u'elephant', u'persian', u'turns', u'freedom', u'blast', u'heaven', u'beer', u'funny', u'adorable', u'cute', u'promised', u'dane', u'lihover', u'zoo', u'all-time', u'fairy', u'westminster', u'chaparral', u'flip', u'text-alignleft', u'label', u'panther', u'pretty', u'inquiries', u'devon', u'cast', u'pushes', u'catches', u'pet', u'text-decorationunderline', u'dogs', u'eaten', u'poking', u'behavior', u'redefine', u'snakes', u'pets', u'suicide', u'bunny', u'hawkeye', u'avengers', u'leto', u'ultron', u'sci-fi', u'panda', u'puppy', u'shelter', u'birds', u'premiere', u'claire', u'rex', u'screening', u'grove', u'restoration', u'goat', u'cary', u'snickers', u'overflowhidden', u'cutest', u'shoals', u'mate', u'heightauto', u'predator', u'margin-right10px', u'turtles', u'180px', u'90-year-old', u'bartender', u'breeds', u'chameleons', u'cinderella', u'color666666', u'doggy', u'downers', u'liars', u'lisearch', u'margin-left0px', u'margin-left10px', u'myrtle', u'naturalist', u'playtime', u'renner', u'skunk', u'sledding', u'spiny', u'thirsty']\n"
       ]
      }
     ],
     "prompt_number": 440
    },
    {
     "cell_type": "code",
     "collapsed": false,
     "input": [
      "print dv.inverse_transform(pred)\n",
      "print ylabels[testnum]"
     ],
     "language": "python",
     "metadata": {},
     "outputs": [
      {
       "output_type": "stream",
       "stream": "stdout",
       "text": [
        "[u'computers']\n",
        "sports\n"
       ]
      }
     ],
     "prompt_number": 314
    },
    {
     "cell_type": "code",
     "collapsed": false,
     "input": [],
     "language": "python",
     "metadata": {},
     "outputs": []
    },
    {
     "cell_type": "code",
     "collapsed": false,
     "input": [
      "' '.join(dictionary[w] for w, f in corpus[site])"
     ],
     "language": "python",
     "metadata": {},
     "outputs": [
      {
       "metadata": {},
       "output_type": "pyout",
       "prompt_number": 80,
       "text": [
        "u'contact latest years activities contacts day llc blog calendar copyright events march mobile participate monthly search visit downloads happening lifelong links list plan resources april national security technology los site newsletter school volunteer science hours history sun videos share thanksgiving gallery stories favorite topics maps exhibits museum virtual directions qa 5pm teachers closed catch christmas learning cool defense window mon tap spotlight conversation explore fan lobby lectures operated engineering math scientist 10am exhibitions high-tech mailing dept 1pm arrange lans alamos laboratory nnsa techlab energys halloween bradbury 70th 2015science schoolers'"
       ]
      }
     ],
     "prompt_number": 80
    },
    {
     "cell_type": "code",
     "collapsed": false,
     "input": [
      "hdpmodel = gensim.models.hdpmodel.HdpModel(corpus=corpus, id2word=dictionary)"
     ],
     "language": "python",
     "metadata": {},
     "outputs": [],
     "prompt_number": 114
    },
    {
     "cell_type": "code",
     "collapsed": false,
     "input": [
      "hdpmodel[corpus[5]]"
     ],
     "language": "python",
     "metadata": {},
     "outputs": [
      {
       "metadata": {},
       "output_type": "pyout",
       "prompt_number": 125,
       "text": [
        "[(0, 0.19357488237766909),\n",
        " (1, 0.60344205546294361),\n",
        " (10, 0.093240597221840693),\n",
        " (14, 0.078013705884187129),\n",
        " (78, 0.031288606994717638)]"
       ]
      }
     ],
     "prompt_number": 125
    },
    {
     "cell_type": "code",
     "collapsed": false,
     "input": [
      "hdptops = hdpmodel.show_topics()\n",
      "[x[0] for x in hdpmodel[corpus[5]]]"
     ],
     "language": "python",
     "metadata": {},
     "outputs": [
      {
       "metadata": {},
       "output_type": "pyout",
       "prompt_number": 149,
       "text": [
        "[0, 1, 10, 14, 78]"
       ]
      }
     ],
     "prompt_number": 149
    },
    {
     "cell_type": "code",
     "collapsed": false,
     "input": [
      "hdptops[8]\n"
     ],
     "language": "python",
     "metadata": {},
     "outputs": [
      {
       "metadata": {},
       "output_type": "pyout",
       "prompt_number": 141,
       "text": [
        "u'topic 8: 0.002*site + 0.002*screen + 0.002*news + 0.002*coaching + 0.002*auto + 0.002*drills + 0.002*mens + 0.002*tennis + 0.001*find + 0.001*email + 0.001*plans + 0.001*season + 0.001*great + 0.001*windows + 0.001*players + 0.001*world + 0.001*handball + 0.001*view + 0.001*links + 0.001*search'"
       ]
      }
     ],
     "prompt_number": 141
    },
    {
     "cell_type": "code",
     "collapsed": false,
     "input": [
      "hdpmodel.m_eta + hdpmodel.m_lambda\n",
      "hdpmodel.id2word"
     ],
     "language": "python",
     "metadata": {},
     "outputs": [
      {
       "metadata": {},
       "output_type": "pyout",
       "prompt_number": 146,
       "text": [
        "<gensim.corpora.dictionary.Dictionary at 0x109796050>"
       ]
      }
     ],
     "prompt_number": 146
    },
    {
     "cell_type": "code",
     "collapsed": false,
     "input": [],
     "language": "python",
     "metadata": {},
     "outputs": []
    },
    {
     "cell_type": "code",
     "collapsed": false,
     "input": [],
     "language": "python",
     "metadata": {},
     "outputs": []
    },
    {
     "cell_type": "code",
     "collapsed": false,
     "input": [],
     "language": "python",
     "metadata": {},
     "outputs": []
    }
   ],
   "metadata": {}
  }
 ]
}