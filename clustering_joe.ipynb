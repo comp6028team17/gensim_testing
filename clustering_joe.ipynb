{
 "cells": [
  {
   "cell_type": "code",
   "execution_count": 1,
   "metadata": {
    "collapsed": false
   },
   "outputs": [],
   "source": [
    "%matplotlib osx\n",
    "%load_ext autoreload\n",
    "%autoreload 2"
   ]
  },
  {
   "cell_type": "code",
   "execution_count": 5,
   "metadata": {
    "collapsed": false
   },
   "outputs": [],
   "source": [
    "from lib import jsoncorpus, datastuff, analysis\n",
    "import gensim\n",
    "import traceback\n",
    "import numpy as np\n",
    "import matplotlib.pyplot as plt\n",
    "import sklearn.pipeline\n",
    "import sklearn.preprocessing\n",
    "import sklearn.cross_validation\n",
    "import sklearn.ensemble\n",
    "import sklearn.svm\n",
    "import sklearn.decomposition\n",
    "import sklearn.cluster\n",
    "import sklearn.manifold\n",
    "from lib.scikitComponents import *\n",
    "import itertools\n",
    "import collections\n",
    "import sklearn.metrics"
   ]
  },
  {
   "cell_type": "markdown",
   "metadata": {},
   "source": [
    "# LDA"
   ]
  },
  {
   "cell_type": "markdown",
   "metadata": {},
   "source": [
    "## Data preprocessing"
   ]
  },
  {
   "cell_type": "code",
   "execution_count": 6,
   "metadata": {
    "collapsed": false,
    "scrolled": true
   },
   "outputs": [
    {
     "name": "stdout",
     "output_type": "stream",
     "text": [
      "Done.\n"
     ]
    }
   ],
   "source": [
    "# Load in the previously created corpus and dictionary of scraped sites\n",
    "dictionary, corpus, meta_corpus, dmoz_data = jsoncorpus.load_or_create('docs/sites.jl', stemmed=True, prefix=\"stemmed_\")"
   ]
  },
  {
   "cell_type": "code",
   "execution_count": 57,
   "metadata": {
    "collapsed": false
   },
   "outputs": [],
   "source": [
    "# Link topics to URLs\n",
    "meta = list(zip(dmoz_data['urls'], dmoz_data['dmoz_categories']))\n",
    "# Build array of class labels\n",
    "classes, top_categories, dmoz_encoder = datastuff.encode_dmoz_categories(dmoz_data['dmoz_categories'])\n",
    "# Set up datasets\n",
    "X = np.array(meta_corpus)\n",
    "y = classes"
   ]
  },
  {
   "cell_type": "code",
   "execution_count": 58,
   "metadata": {
    "collapsed": false
   },
   "outputs": [
    {
     "data": {
      "text/plain": [
       "Pipeline(steps=[('tfidf', TFIDFModel(id2word=None)), ('matrixbuilder', TopicMatrixBuilder(keep_all=True, num_topics=13021, topic_min_members=0)), ('kmeans', KMeans(copy_x=True, init='k-means++', max_iter=300, n_clusters=20, n_init=10,\n",
       "    n_jobs=1, precompute_distances='auto', random_state=None, tol=0.0001,\n",
       "    verbose=0)), ('tSNE', TSNE(early_exaggeration=4.0, init='random', learning_rate=1000.0,\n",
       "   metric='euclidean', n_components=2, n_iter=1000, perplexity=30.0,\n",
       "   random_state=None, verbose=0))])"
      ]
     },
     "execution_count": 58,
     "metadata": {},
     "output_type": "execute_result"
    }
   ],
   "source": [
    "#clustering = \n",
    "#clustering = sklearn.manifold.TSNE(init='pca')\n",
    "#clustering = sklearn.cluster.MeanShift()\n",
    "pipe = sklearn.pipeline.Pipeline([\n",
    "    ('tfidf', TFIDFModel(id2word=dictionary)),\n",
    "    ('matrixbuilder', TopicMatrixBuilder(len(dictionary.items()), keep_all=True)),\n",
    "    ('kmeans', sklearn.cluster.KMeans(n_clusters = 20)),\n",
    "#    ('tSNE-pca', sklearn.manifold.TSNE(init='pca')),\n",
    "    ('tSNE', sklearn.manifold.TSNE()),\n",
    "])\n",
    "# Clustering!\n",
    "transformed = pipe.fit_transform(X)\n",
    "#pipe.fit(X)"
   ]
  },
  {
   "cell_type": "code",
   "execution_count": 66,
   "metadata": {
    "collapsed": false
   },
   "outputs": [],
   "source": [
    "#transformed = pipe.transform(X)\n",
    "predicted = sklearn.pipeline.Pipeline(pipe.steps[:-1]).predict(X)"
   ]
  },
  {
   "cell_type": "code",
   "execution_count": 67,
   "metadata": {
    "collapsed": false
   },
   "outputs": [
    {
     "data": {
      "text/plain": [
       "array([u'arts', u'business', u'computers', u'games', u'health', u'home',\n",
       "       u'kids and teens', u'news', u'recreation', u'reference',\n",
       "       u'regional', u'science', u'shopping', u'society', u'sports'], \n",
       "      dtype='<U14')"
      ]
     },
     "execution_count": 67,
     "metadata": {},
     "output_type": "execute_result"
    }
   ],
   "source": [
    "dmoz_encoder.classes_"
   ]
  },
  {
   "cell_type": "code",
   "execution_count": 73,
   "metadata": {
    "collapsed": false
   },
   "outputs": [
    {
     "data": {
      "text/plain": [
       "<matplotlib.collections.PathCollection at 0x10b3c3310>"
      ]
     },
     "execution_count": 73,
     "metadata": {},
     "output_type": "execute_result"
    }
   ],
   "source": [
    "fig = plt.figure()\n",
    "plt.scatter(transformed[:, 0], transformed[:, 1], c = predicted)"
   ]
  },
  {
   "cell_type": "code",
   "execution_count": 75,
   "metadata": {
    "collapsed": false,
    "scrolled": true
   },
   "outputs": [],
   "source": [
    "cols = ['c','g','b', 'r','y','k','m', 'c','g','b','r','y','k','m', 'c']\n",
    "markers = ['o']*7 + ['x']*7 + ['^']\n",
    "plt.hold(True)\n",
    "for x in range(max(y)+1):    \n",
    "    plt.scatter(transformed[y==x, 0], transformed[y==x, 1], c = cols[x], marker=markers[x])\n",
    "\n",
    "plt.legend(dmoz_encoder.classes_, loc='upper left')\n",
    "plt.hold(False)"
   ]
  },
  {
   "cell_type": "code",
   "execution_count": 37,
   "metadata": {
    "collapsed": false
   },
   "outputs": [],
   "source": [
    "#for i, x in enumerate(meta):\n",
    "#    if predicted[i] == 0:\n",
    "#        print meta[i]"
   ]
  }
 ],
 "metadata": {
  "kernelspec": {
   "display_name": "Python 2",
   "language": "python",
   "name": "python2"
  },
  "language_info": {
   "codemirror_mode": {
    "name": "ipython",
    "version": 2
   },
   "file_extension": ".py",
   "mimetype": "text/x-python",
   "name": "python",
   "nbconvert_exporter": "python",
   "pygments_lexer": "ipython2",
   "version": "2.7.6"
  }
 },
 "nbformat": 4,
 "nbformat_minor": 0
}
