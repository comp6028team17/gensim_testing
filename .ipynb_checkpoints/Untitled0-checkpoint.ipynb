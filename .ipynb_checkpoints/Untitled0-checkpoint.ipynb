{
 "metadata": {
  "name": "",
  "signature": "sha256:f613d5f2b3bafc0d1324ac713d556ef0b55471c6a9b8e9bfb330f954ae3ea731"
 },
 "nbformat": 3,
 "nbformat_minor": 0,
 "worksheets": []
}