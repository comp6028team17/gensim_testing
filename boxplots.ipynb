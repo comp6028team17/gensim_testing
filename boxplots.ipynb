{
 "cells": [
  {
   "cell_type": "code",
   "execution_count": 1,
   "metadata": {
    "collapsed": false
   },
   "outputs": [],
   "source": [
    "%matplotlib inline\n",
    "%load_ext autoreload\n",
    "%autoreload 2"
   ]
  },
  {
   "cell_type": "code",
   "execution_count": 2,
   "metadata": {
    "collapsed": false
   },
   "outputs": [],
   "source": [
    "from lib import jsoncorpus, datastuff, analysis\n",
    "import gensim\n",
    "import traceback\n",
    "import numpy as np\n",
    "import matplotlib.pyplot as plt\n",
    "from sklearn.pipeline import Pipeline, FeatureUnion\n",
    "import sklearn.preprocessing\n",
    "import sklearn.cross_validation\n",
    "import sklearn.ensemble\n",
    "import sklearn.svm\n",
    "import sklearn.decomposition\n",
    "import sklearn.neighbors\n",
    "from lib.scikitComponents import *\n",
    "import itertools\n",
    "import collections\n",
    "from lib.scikitComponents import pipelines\n",
    "import scipy.stats"
   ]
  },
  {
   "cell_type": "markdown",
   "metadata": {},
   "source": [
    "## Data preprocessing"
   ]
  },
  {
   "cell_type": "code",
   "execution_count": 157,
   "metadata": {
    "collapsed": false
   },
   "outputs": [
    {
     "name": "stdout",
     "output_type": "stream",
     "text": [
      "Done.\n",
      "Done.\n"
     ]
    }
   ],
   "source": [
    "# Load in the previously created corpus and dictionary of scraped sites\n",
    "Datas = collections.namedtuple('Datas', ['dictionary', 'corpus', 'meta_corpus', 'dmoz_data'])\n",
    "unstemmed = Datas(*jsoncorpus.load_or_create('docs/sites.jl'))\n",
    "stemmed = Datas(*jsoncorpus.load_or_create('docs/sites.jl', stemmed=True, prefix=\"stemmed_\"))"
   ]
  },
  {
   "cell_type": "code",
   "execution_count": 158,
   "metadata": {
    "collapsed": false
   },
   "outputs": [],
   "source": [
    "def preprocess(data):\n",
    "    # Set up array of input data\n",
    "    X = zip(list(data.corpus), list(data.meta_corpus), data.dmoz_data['meta'])\n",
    "    # Link topics to URLs\n",
    "    meta = list(zip(data.dmoz_data['urls'], data.dmoz_data['dmoz_categories']))\n",
    "    # Encode class labels\n",
    "    classes, top_categories, dmoz_encoder = datastuff.encode_dmoz_categories(data.dmoz_data['dmoz_categories'])\n",
    "    return (X, meta, classes, top_categories, dmoz_encoder)\n",
    "X, meta, classes, top_categories, dmoz_encoder = preprocess(stemmed)"
   ]
  },
  {
   "cell_type": "code",
   "execution_count": 106,
   "metadata": {
    "collapsed": true
   },
   "outputs": [],
   "source": [
    "verbosity = 3"
   ]
  },
  {
   "cell_type": "code",
   "execution_count": 202,
   "metadata": {
    "collapsed": true
   },
   "outputs": [],
   "source": [
    "def newline_name(name):\n",
    "    return \"\\n\".join(reversed(name.split()))\n",
    "\n",
    "def makeboxplot(scores, clfs, ylabel, figsize=None):\n",
    "    inds = np.argsort(np.mean(np.array(scores).T, axis=0))\n",
    "    scores_sorted = np.array(scores)[inds, :].T\n",
    "    labels_sorted = np.array([newline_name(clf.name) for clf in clfs])[inds]\n",
    "    if figsize:\n",
    "        plt.figure(figsize=figsize)\n",
    "                              \n",
    "    box_params = dict(showmeans=True,widths=0.8, flierprops=dict(marker='o'), patch_artist=True)\n",
    "    box = plt.boxplot(scores_sorted, labels = labels_sorted, **box_params)\n",
    "    colors = ['b','g','pink','c','y','k']\n",
    "    for patch, color in zip(box['boxes'], colors):\n",
    "        patch.set_facecolor(color)\n",
    "    plt.ylabel(ylabel)\n"
   ]
  },
  {
   "cell_type": "markdown",
   "metadata": {},
   "source": [
    "## Boxplots for different representation combinations"
   ]
  },
  {
   "cell_type": "code",
   "execution_count": 114,
   "metadata": {
    "collapsed": true
   },
   "outputs": [],
   "source": [
    "clfs = np.array([\n",
    "    pipelines.make_classifier(dictionary, body_kind=None, meta_kind='tfidf', classifier = 'svc'),\n",
    "    pipelines.make_classifier(dictionary, body_kind=None, meta_kind='count', classifier='svc'),\n",
    "    pipelines.make_classifier(dictionary, body_kind='lda', meta_kind='count', classifier='svc'),\n",
    "    pipelines.make_classifier(dictionary, body_kind='tfidf', meta_kind=None, classifier = 'svc'),\n",
    "    pipelines.make_classifier(dictionary, body_kind='lda', meta_kind=None, classifier = 'svc'),\n",
    "    pipelines.make_classifier(dictionary, body_kind='tfidf', meta_kind='tfidf', classifier = 'svc')\n",
    "])"
   ]
  },
  {
   "cell_type": "code",
   "execution_count": 112,
   "metadata": {
    "collapsed": false
   },
   "outputs": [
    {
     "name": "stdout",
     "output_type": "stream",
     "text": [
      "[CV] no parameters to be set .........................................\n",
      "[CV] ................ no parameters to be set, score=0.464761 -   0.5s\n",
      "[CV] no parameters to be set .........................................\n",
      "[CV] ................ no parameters to be set, score=0.449172 -   0.6s\n",
      "[CV] no parameters to be set .........................................\n",
      "[CV] ................ no parameters to be set, score=0.495326 -   0.5s\n",
      "[CV] no parameters to be set .........................................\n",
      "[CV] ................ no parameters to be set, score=0.487274 -   0.5s\n",
      "[CV] no parameters to be set .........................................\n",
      "[CV] ................ no parameters to be set, score=0.373428 -   0.5s"
     ]
    },
    {
     "name": "stderr",
     "output_type": "stream",
     "text": [
      "[Parallel(n_jobs=1)]: Done   1 jobs       | elapsed:    0.5s\n",
      "[Parallel(n_jobs=1)]: Done   5 out of   5 | elapsed:    2.6s finished\n"
     ]
    },
    {
     "name": "stdout",
     "output_type": "stream",
     "text": [
      "\n",
      "[CV] no parameters to be set .........................................\n",
      "[CV] ................ no parameters to be set, score=0.391314 -   0.5s\n",
      "[CV] no parameters to be set .........................................\n",
      "[CV] ................ no parameters to be set, score=0.373059 -   0.5s\n",
      "[CV] no parameters to be set .........................................\n",
      "[CV] ................ no parameters to be set, score=0.367752 -   0.5s\n",
      "[CV] no parameters to be set .........................................\n",
      "[CV] ................ no parameters to be set, score=0.416144 -   0.5s\n",
      "[CV] no parameters to be set .........................................\n",
      "[CV] ................ no parameters to be set, score=0.338891 -   0.5s"
     ]
    },
    {
     "name": "stderr",
     "output_type": "stream",
     "text": [
      "[Parallel(n_jobs=1)]: Done   1 jobs       | elapsed:    0.5s\n",
      "[Parallel(n_jobs=1)]: Done   5 out of   5 | elapsed:    2.4s finished\n"
     ]
    },
    {
     "name": "stdout",
     "output_type": "stream",
     "text": [
      "\n",
      "[CV] no parameters to be set .........................................\n",
      "[CV] ................ no parameters to be set, score=0.430395 -  11.7s\n",
      "[CV] no parameters to be set .........................................\n",
      "[CV] ................ no parameters to be set, score=0.434068 -  11.8s\n",
      "[CV] no parameters to be set .........................................\n",
      "[CV] ................ no parameters to be set, score=0.437999 -  12.7s\n",
      "[CV] no parameters to be set .........................................\n",
      "[CV] ................ no parameters to be set, score=0.478224 -  13.2s\n",
      "[CV] no parameters to be set .........................................\n",
      "[CV] ................ no parameters to be set, score=0.388628 -  13.2s"
     ]
    },
    {
     "name": "stderr",
     "output_type": "stream",
     "text": [
      "[Parallel(n_jobs=1)]: Done   1 jobs       | elapsed:   11.8s\n",
      "[Parallel(n_jobs=1)]: Done   5 out of   5 | elapsed:  1.1min finished\n"
     ]
    },
    {
     "name": "stdout",
     "output_type": "stream",
     "text": [
      "\n",
      "[CV] no parameters to be set .........................................\n",
      "[CV] ................ no parameters to be set, score=0.541130 -   1.9s\n",
      "[CV] no parameters to be set .........................................\n",
      "[CV] ................ no parameters to be set, score=0.542484 -   1.8s\n",
      "[CV] no parameters to be set .........................................\n",
      "[CV] ................ no parameters to be set, score=0.552980 -   1.6s\n",
      "[CV] no parameters to be set .........................................\n",
      "[CV] ................ no parameters to be set, score=0.506690 -   1.6s\n",
      "[CV] no parameters to be set .........................................\n",
      "[CV] ................ no parameters to be set, score=0.481371 -   1.6s"
     ]
    },
    {
     "name": "stderr",
     "output_type": "stream",
     "text": [
      "[Parallel(n_jobs=1)]: Done   1 jobs       | elapsed:    1.9s\n",
      "[Parallel(n_jobs=1)]: Done   5 out of   5 | elapsed:    8.5s finished\n"
     ]
    },
    {
     "name": "stdout",
     "output_type": "stream",
     "text": [
      "\n",
      "[CV] no parameters to be set .........................................\n",
      "[CV] ................ no parameters to be set, score=0.249325 -  11.8s\n",
      "[CV] no parameters to be set .........................................\n",
      "[CV] ................ no parameters to be set, score=0.299517 -  11.8s\n",
      "[CV] no parameters to be set .........................................\n",
      "[CV] ................ no parameters to be set, score=0.286449 -  13.0s\n",
      "[CV] no parameters to be set .........................................\n",
      "[CV] ................ no parameters to be set, score=0.360573 -  12.3s\n",
      "[CV] no parameters to be set .........................................\n",
      "[CV] ................ no parameters to be set, score=0.299237 -  13.5s"
     ]
    },
    {
     "name": "stderr",
     "output_type": "stream",
     "text": [
      "[Parallel(n_jobs=1)]: Done   1 jobs       | elapsed:   11.9s\n",
      "[Parallel(n_jobs=1)]: Done   5 out of   5 | elapsed:  1.0min finished\n"
     ]
    },
    {
     "name": "stdout",
     "output_type": "stream",
     "text": [
      "\n",
      "[CV] no parameters to be set .........................................\n",
      "[CV] ................ no parameters to be set, score=0.551907 -   3.8s\n",
      "[CV] no parameters to be set .........................................\n",
      "[CV] ................ no parameters to be set, score=0.554505 -   3.0s\n",
      "[CV] no parameters to be set .........................................\n",
      "[CV] ................ no parameters to be set, score=0.603026 -   2.5s\n",
      "[CV] no parameters to be set .........................................\n",
      "[CV] ................ no parameters to be set, score=0.563891 -   2.8s\n",
      "[CV] no parameters to be set .........................................\n",
      "[CV] ................ no parameters to be set, score=0.495385 -   2.6s"
     ]
    },
    {
     "name": "stderr",
     "output_type": "stream",
     "text": [
      "[Parallel(n_jobs=1)]: Done   1 jobs       | elapsed:    3.8s\n",
      "[Parallel(n_jobs=1)]: Done   5 out of   5 | elapsed:   14.9s finished\n"
     ]
    },
    {
     "name": "stdout",
     "output_type": "stream",
     "text": [
      "\n"
     ]
    }
   ],
   "source": [
    "scores = [\n",
    "    sklearn.cross_validation.cross_val_score(clf, X, classes, cv=5, verbose=verbosity, scoring='f1_weighted')\n",
    "    for clf in clfs]"
   ]
  },
  {
   "cell_type": "code",
   "execution_count": 203,
   "metadata": {
    "collapsed": false
   },
   "outputs": [
    {
     "data": {
      "image/png": "[encoded data removed]",
      "text/plain": [
       "<matplotlib.figure.Figure at 0x11c11ec10>"
      ]
     },
     "metadata": {},
     "output_type": "display_data"
    }
   ],
   "source": [
    "inds = np.argsort(np.mean(np.array(scores).T, axis=0))\n",
    "scores_sorted = np.array(scores)[inds, :].T\n",
    "labels_sorted = np.array([newline_name(clf.name) for clf in clfs])[inds]\n",
    "                              \n",
    "makeboxplot(scores, clfs, 'Weighted F1 cross-validation scores', (7, 4))\n"
   ]
  },
  {
   "cell_type": "markdown",
   "metadata": {},
   "source": [
    "## Stemming comparison"
   ]
  },
  {
   "cell_type": "code",
   "execution_count": 159,
   "metadata": {
    "collapsed": true
   },
   "outputs": [],
   "source": [
    "X_s, meta_s, classes_s, top_categories_s, dmoz_encoder_s = preprocess(stemmed)\n",
    "X_u, meta_u, classes_u, top_categories_u, dmoz_encoder_u = preprocess(unstemmed)"
   ]
  },
  {
   "cell_type": "code",
   "execution_count": 184,
   "metadata": {
    "collapsed": false
   },
   "outputs": [
    {
     "name": "stdout",
     "output_type": "stream",
     "text": [
      "[CV] no parameters to be set .........................................\n",
      "[CV] ................ no parameters to be set, score=0.551907 -   2.6s\n",
      "[CV] no parameters to be set .........................................\n",
      "[CV] ................ no parameters to be set, score=0.554505 -   2.6s\n",
      "[CV] no parameters to be set .........................................\n",
      "[CV] ................ no parameters to be set, score=0.603026 -   2.9s\n",
      "[CV] no parameters to be set .........................................\n",
      "[CV] ................ no parameters to be set, score=0.563891 -   2.5s\n",
      "[CV] no parameters to be set .........................................\n",
      "[CV] ................ no parameters to be set, score=0.495385 -   2.6s"
     ]
    },
    {
     "name": "stderr",
     "output_type": "stream",
     "text": [
      "[Parallel(n_jobs=1)]: Done   1 jobs       | elapsed:    2.6s\n",
      "[Parallel(n_jobs=1)]: Done   5 out of   5 | elapsed:   13.1s finished\n"
     ]
    },
    {
     "name": "stdout",
     "output_type": "stream",
     "text": [
      "\n",
      "[CV] no parameters to be set .........................................\n",
      "[CV] ................ no parameters to be set, score=0.495742 -   3.3s\n",
      "[CV] no parameters to be set .........................................\n",
      "[CV] ................ no parameters to be set, score=0.526985 -   3.9s\n",
      "[CV] no parameters to be set .........................................\n",
      "[CV] ................ no parameters to be set, score=0.558660 -   4.0s\n",
      "[CV] no parameters to be set .........................................\n",
      "[CV] ................ no parameters to be set, score=0.528004 -   2.8s\n",
      "[CV] no parameters to be set .........................................\n",
      "[CV] ................ no parameters to be set, score=0.465684 -   2.7s"
     ]
    },
    {
     "name": "stderr",
     "output_type": "stream",
     "text": [
      "[Parallel(n_jobs=1)]: Done   1 jobs       | elapsed:    3.3s\n",
      "[Parallel(n_jobs=1)]: Done   5 out of   5 | elapsed:   16.8s finished\n"
     ]
    },
    {
     "name": "stdout",
     "output_type": "stream",
     "text": [
      "\n"
     ]
    }
   ],
   "source": [
    "clf_s = pipelines.make_classifier(stemmed.dictionary, body_kind='tfidf', meta_kind='tfidf', classifier = 'svc')\n",
    "clf_u = pipelines.make_classifier(unstemmed.dictionary, body_kind='tfidf', meta_kind='tfidf', classifier = 'svc')\n",
    "clf_s.name = \"stemmed \" + clf_s.name\n",
    "score_s = sklearn.cross_validation.cross_val_score(clf_s, X_s, classes_s, cv=5, verbose=verbosity, scoring='f1_weighted')\n",
    "score_u = sklearn.cross_validation.cross_val_score(clf_u, X_u, classes_u, cv=5, verbose=verbosity, scoring='f1_weighted')"
   ]
  },
  {
   "cell_type": "code",
   "execution_count": 218,
   "metadata": {
    "collapsed": false
   },
   "outputs": [
    {
     "name": "stdout",
     "output_type": "stream",
     "text": [
      "Signifiance p-value = 13%\n"
     ]
    },
    {
     "data": {
      "image/png": "[encoded data removed]",
      "text/plain": [
       "<matplotlib.figure.Figure at 0x11b717a90>"
      ]
     },
     "metadata": {},
     "output_type": "display_data"
    }
   ],
   "source": [
    "makeboxplot([score_s, score_u], [clf_s, clf_u], 'Weighted F1 cross-validation scores')\n",
    "print \"Signifiance p-value = {}%\".format(int(scipy.stats.ttest_ind(score_s, score_u, equal_var=False)[1]*100))"
   ]
  }
 ],
 "metadata": {
  "kernelspec": {
   "display_name": "Python 2",
   "language": "python",
   "name": "python2"
  },
  "language_info": {
   "codemirror_mode": {
    "name": "ipython",
    "version": 2
   },
   "file_extension": ".py",
   "mimetype": "text/x-python",
   "name": "python",
   "nbconvert_exporter": "python",
   "pygments_lexer": "ipython2",
   "version": "2.7.6"
  }
 },
 "nbformat": 4,
 "nbformat_minor": 0
}
